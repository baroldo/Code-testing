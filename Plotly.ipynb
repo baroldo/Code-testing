{
 "cells": [
  {
   "cell_type": "code",
   "execution_count": 3,
   "metadata": {},
   "outputs": [
    {
     "name": "stdout",
     "output_type": "stream",
     "text": [
      "HTML file saved: interactive_air_traffic.html\n"
     ]
    }
   ],
   "source": [
    "import pandas as pd\n",
    "import plotly.express as px\n",
    "import plotly.io as pio\n",
    "\n",
    "# Read file and manipulate data\n",
    "data = pd.read_csv(r'C:\\Users\\Haz\\Downloads\\DashExamples-master\\DashExamples-master\\Part2\\Air_Traffic_Passenger_Statistics.csv')\n",
    "data['Activity Period'] = data['Activity Period'].astype(str)\n",
    "data['Year'] = data['Activity Period'].str[:4].astype(int)\n",
    "data['Month'] = data['Activity Period'].str[5:].astype(int)\n",
    "selected_column = 'GEO Summary'\n",
    "\n",
    "# Filter data\n",
    "def filter_data(terminal, geo_summ, selected_year):\n",
    "    df_filtered = data[data['Year'] == selected_year]\n",
    "    if geo_summ != '*':\n",
    "        df_filtered = df_filtered[df_filtered['GEO Summary'] == geo_summ]\n",
    "    if terminal != '*':\n",
    "        df_filtered = df_filtered[df_filtered['Terminal'] == terminal]\n",
    "    return df_filtered\n",
    "\n",
    "# User selection (Modify as needed)\n",
    "selected_terminal = '*'  # Change to specific terminal if needed\n",
    "selected_geo_summ = '*'  # Change to specific geo summary if needed\n",
    "selected_year = data['Year'].min() + 1  # Modify based on the year of interest\n",
    "\n",
    "df_filtered = filter_data(selected_terminal, selected_geo_summ, selected_year)\n",
    "\n",
    "# Create interactive Plotly figure\n",
    "fig = px.scatter(\n",
    "    df_filtered, x='Month', y='Passenger Count', color=selected_column,\n",
    "    hover_data=['Published Airline', 'GEO Region', 'Terminal'],\n",
    "    title=f'Passenger Count for {selected_year}',\n",
    "    labels={'Month': 'Month', 'Passenger Count': 'Passenger Count (log scale)'}\n",
    ")\n",
    "fig.update_layout(yaxis_type='log')\n",
    "\n",
    "# Save to HTML for interactive exploration\n",
    "pio.write_html(fig, 'interactive_air_traffic.html')\n",
    "print(\"HTML file saved: interactive_air_traffic.html\")"
   ]
  },
  {
   "cell_type": "code",
   "execution_count": 9,
   "metadata": {},
   "outputs": [
    {
     "ename": "ValueError",
     "evalue": "Mime type rendering requires nbformat>=4.2.0 but it is not installed",
     "output_type": "error",
     "traceback": [
      "\u001b[1;31m---------------------------------------------------------------------------\u001b[0m",
      "\u001b[1;31mValueError\u001b[0m                                Traceback (most recent call last)",
      "Cell \u001b[1;32mIn[9], line 52\u001b[0m\n\u001b[0;32m     49\u001b[0m fig\u001b[38;5;241m.\u001b[39mwrite_html(\u001b[38;5;124m\"\u001b[39m\u001b[38;5;124mplot_with_dropdown.html\u001b[39m\u001b[38;5;124m\"\u001b[39m)\n\u001b[0;32m     51\u001b[0m \u001b[38;5;66;03m# Show the plot (optional)\u001b[39;00m\n\u001b[1;32m---> 52\u001b[0m \u001b[43mfig\u001b[49m\u001b[38;5;241;43m.\u001b[39;49m\u001b[43mshow\u001b[49m\u001b[43m(\u001b[49m\u001b[43m)\u001b[49m\n",
      "File \u001b[1;32mc:\\Users\\Haz\\AppData\\Local\\Programs\\Python\\Python312\\Lib\\site-packages\\plotly\\basedatatypes.py:3414\u001b[0m, in \u001b[0;36mBaseFigure.show\u001b[1;34m(self, *args, **kwargs)\u001b[0m\n\u001b[0;32m   3381\u001b[0m \u001b[38;5;250m\u001b[39m\u001b[38;5;124;03m\"\"\"\u001b[39;00m\n\u001b[0;32m   3382\u001b[0m \u001b[38;5;124;03mShow a figure using either the default renderer(s) or the renderer(s)\u001b[39;00m\n\u001b[0;32m   3383\u001b[0m \u001b[38;5;124;03mspecified by the renderer argument\u001b[39;00m\n\u001b[1;32m   (...)\u001b[0m\n\u001b[0;32m   3410\u001b[0m \u001b[38;5;124;03mNone\u001b[39;00m\n\u001b[0;32m   3411\u001b[0m \u001b[38;5;124;03m\"\"\"\u001b[39;00m\n\u001b[0;32m   3412\u001b[0m \u001b[38;5;28;01mimport\u001b[39;00m \u001b[38;5;21;01mplotly\u001b[39;00m\u001b[38;5;21;01m.\u001b[39;00m\u001b[38;5;21;01mio\u001b[39;00m \u001b[38;5;28;01mas\u001b[39;00m \u001b[38;5;21;01mpio\u001b[39;00m\n\u001b[1;32m-> 3414\u001b[0m \u001b[38;5;28;01mreturn\u001b[39;00m \u001b[43mpio\u001b[49m\u001b[38;5;241;43m.\u001b[39;49m\u001b[43mshow\u001b[49m\u001b[43m(\u001b[49m\u001b[38;5;28;43mself\u001b[39;49m\u001b[43m,\u001b[49m\u001b[43m \u001b[49m\u001b[38;5;241;43m*\u001b[39;49m\u001b[43margs\u001b[49m\u001b[43m,\u001b[49m\u001b[43m \u001b[49m\u001b[38;5;241;43m*\u001b[39;49m\u001b[38;5;241;43m*\u001b[39;49m\u001b[43mkwargs\u001b[49m\u001b[43m)\u001b[49m\n",
      "File \u001b[1;32mc:\\Users\\Haz\\AppData\\Local\\Programs\\Python\\Python312\\Lib\\site-packages\\plotly\\io\\_renderers.py:425\u001b[0m, in \u001b[0;36mshow\u001b[1;34m(fig, renderer, validate, **kwargs)\u001b[0m\n\u001b[0;32m    420\u001b[0m     \u001b[38;5;28;01mraise\u001b[39;00m \u001b[38;5;167;01mValueError\u001b[39;00m(\n\u001b[0;32m    421\u001b[0m         \u001b[38;5;124m\"\u001b[39m\u001b[38;5;124mMime type rendering requires ipython but it is not installed\u001b[39m\u001b[38;5;124m\"\u001b[39m\n\u001b[0;32m    422\u001b[0m     )\n\u001b[0;32m    424\u001b[0m \u001b[38;5;28;01mif\u001b[39;00m \u001b[38;5;129;01mnot\u001b[39;00m nbformat \u001b[38;5;129;01mor\u001b[39;00m Version(nbformat\u001b[38;5;241m.\u001b[39m__version__) \u001b[38;5;241m<\u001b[39m Version(\u001b[38;5;124m\"\u001b[39m\u001b[38;5;124m4.2.0\u001b[39m\u001b[38;5;124m\"\u001b[39m):\n\u001b[1;32m--> 425\u001b[0m     \u001b[38;5;28;01mraise\u001b[39;00m \u001b[38;5;167;01mValueError\u001b[39;00m(\n\u001b[0;32m    426\u001b[0m         \u001b[38;5;124m\"\u001b[39m\u001b[38;5;124mMime type rendering requires nbformat>=4.2.0 but it is not installed\u001b[39m\u001b[38;5;124m\"\u001b[39m\n\u001b[0;32m    427\u001b[0m     )\n\u001b[0;32m    429\u001b[0m display_jupyter_version_warnings()\n\u001b[0;32m    431\u001b[0m ipython_display\u001b[38;5;241m.\u001b[39mdisplay(bundle, raw\u001b[38;5;241m=\u001b[39m\u001b[38;5;28;01mTrue\u001b[39;00m)\n",
      "\u001b[1;31mValueError\u001b[0m: Mime type rendering requires nbformat>=4.2.0 but it is not installed"
     ]
    }
   ],
   "source": [
    "import plotly.graph_objects as go\n",
    "\n",
    "# Sample data\n",
    "x = [1, 2, 3, 4, 5]\n",
    "y1 = [10, 15, 13, 17, 21]\n",
    "y2 = [16, 14, 18, 20, 12]\n",
    "\n",
    "# Create the figure\n",
    "fig = go.Figure()\n",
    "\n",
    "# Add traces (data series)\n",
    "fig.add_trace(go.Scatter(x=x, y=y1, name=\"Series 1\", visible=True))\n",
    "fig.add_trace(go.Scatter(x=x, y=y2, name=\"Series 2\", visible=False))\n",
    "\n",
    "# Create dropdown menu\n",
    "dropdown_buttons = [\n",
    "    {\n",
    "        \"label\": \"Series 1\",\n",
    "        \"method\": \"update\",\n",
    "        \"args\": [{\"visible\": [True, False]}, {\"title\": \"Series 1\"}],\n",
    "    },\n",
    "    {\n",
    "        \"label\": \"Series 2\",\n",
    "        \"method\": \"update\",\n",
    "        \"args\": [{\"visible\": [False, True]}, {\"title\": \"Series 2\"}],\n",
    "    },\n",
    "    {\n",
    "        \"label\": \"Both Series\",\n",
    "        \"method\": \"update\",\n",
    "        \"args\": [{\"visible\": [True, True]}, {\"title\": \"Both Series\"}],\n",
    "    },\n",
    "]\n",
    "\n",
    "# Update layout with dropdown\n",
    "fig.update_layout(\n",
    "    updatemenus=[\n",
    "        {\n",
    "            \"buttons\": dropdown_buttons,\n",
    "            \"direction\": \"down\",\n",
    "            \"showactive\": True,\n",
    "            \"x\": 0.1,\n",
    "            \"y\": 1.15,\n",
    "        }\n",
    "    ],\n",
    "    title=\"Dropdown Filter Example\",\n",
    ")\n",
    "\n",
    "# Export to HTML\n",
    "fig.write_html(\"plot_with_dropdown.html\")\n",
    "\n",
    "# Show the plot (optional)\n",
    "fig.show()"
   ]
  },
  {
   "cell_type": "code",
   "execution_count": 10,
   "metadata": {},
   "outputs": [
    {
     "ename": "ValueError",
     "evalue": "Mime type rendering requires nbformat>=4.2.0 but it is not installed",
     "output_type": "error",
     "traceback": [
      "\u001b[1;31m---------------------------------------------------------------------------\u001b[0m",
      "\u001b[1;31mValueError\u001b[0m                                Traceback (most recent call last)",
      "Cell \u001b[1;32mIn[10], line 64\u001b[0m\n\u001b[0;32m     61\u001b[0m fig\u001b[38;5;241m.\u001b[39mwrite_html(\u001b[38;5;124m\"\u001b[39m\u001b[38;5;124mplot_with_category_dropdown.html\u001b[39m\u001b[38;5;124m\"\u001b[39m)\n\u001b[0;32m     63\u001b[0m \u001b[38;5;66;03m# Show the plot (optional)\u001b[39;00m\n\u001b[1;32m---> 64\u001b[0m \u001b[43mfig\u001b[49m\u001b[38;5;241;43m.\u001b[39;49m\u001b[43mshow\u001b[49m\u001b[43m(\u001b[49m\u001b[43m)\u001b[49m\n",
      "File \u001b[1;32mc:\\Users\\Haz\\AppData\\Local\\Programs\\Python\\Python312\\Lib\\site-packages\\plotly\\basedatatypes.py:3414\u001b[0m, in \u001b[0;36mBaseFigure.show\u001b[1;34m(self, *args, **kwargs)\u001b[0m\n\u001b[0;32m   3381\u001b[0m \u001b[38;5;250m\u001b[39m\u001b[38;5;124;03m\"\"\"\u001b[39;00m\n\u001b[0;32m   3382\u001b[0m \u001b[38;5;124;03mShow a figure using either the default renderer(s) or the renderer(s)\u001b[39;00m\n\u001b[0;32m   3383\u001b[0m \u001b[38;5;124;03mspecified by the renderer argument\u001b[39;00m\n\u001b[1;32m   (...)\u001b[0m\n\u001b[0;32m   3410\u001b[0m \u001b[38;5;124;03mNone\u001b[39;00m\n\u001b[0;32m   3411\u001b[0m \u001b[38;5;124;03m\"\"\"\u001b[39;00m\n\u001b[0;32m   3412\u001b[0m \u001b[38;5;28;01mimport\u001b[39;00m \u001b[38;5;21;01mplotly\u001b[39;00m\u001b[38;5;21;01m.\u001b[39;00m\u001b[38;5;21;01mio\u001b[39;00m \u001b[38;5;28;01mas\u001b[39;00m \u001b[38;5;21;01mpio\u001b[39;00m\n\u001b[1;32m-> 3414\u001b[0m \u001b[38;5;28;01mreturn\u001b[39;00m \u001b[43mpio\u001b[49m\u001b[38;5;241;43m.\u001b[39;49m\u001b[43mshow\u001b[49m\u001b[43m(\u001b[49m\u001b[38;5;28;43mself\u001b[39;49m\u001b[43m,\u001b[49m\u001b[43m \u001b[49m\u001b[38;5;241;43m*\u001b[39;49m\u001b[43margs\u001b[49m\u001b[43m,\u001b[49m\u001b[43m \u001b[49m\u001b[38;5;241;43m*\u001b[39;49m\u001b[38;5;241;43m*\u001b[39;49m\u001b[43mkwargs\u001b[49m\u001b[43m)\u001b[49m\n",
      "File \u001b[1;32mc:\\Users\\Haz\\AppData\\Local\\Programs\\Python\\Python312\\Lib\\site-packages\\plotly\\io\\_renderers.py:425\u001b[0m, in \u001b[0;36mshow\u001b[1;34m(fig, renderer, validate, **kwargs)\u001b[0m\n\u001b[0;32m    420\u001b[0m     \u001b[38;5;28;01mraise\u001b[39;00m \u001b[38;5;167;01mValueError\u001b[39;00m(\n\u001b[0;32m    421\u001b[0m         \u001b[38;5;124m\"\u001b[39m\u001b[38;5;124mMime type rendering requires ipython but it is not installed\u001b[39m\u001b[38;5;124m\"\u001b[39m\n\u001b[0;32m    422\u001b[0m     )\n\u001b[0;32m    424\u001b[0m \u001b[38;5;28;01mif\u001b[39;00m \u001b[38;5;129;01mnot\u001b[39;00m nbformat \u001b[38;5;129;01mor\u001b[39;00m Version(nbformat\u001b[38;5;241m.\u001b[39m__version__) \u001b[38;5;241m<\u001b[39m Version(\u001b[38;5;124m\"\u001b[39m\u001b[38;5;124m4.2.0\u001b[39m\u001b[38;5;124m\"\u001b[39m):\n\u001b[1;32m--> 425\u001b[0m     \u001b[38;5;28;01mraise\u001b[39;00m \u001b[38;5;167;01mValueError\u001b[39;00m(\n\u001b[0;32m    426\u001b[0m         \u001b[38;5;124m\"\u001b[39m\u001b[38;5;124mMime type rendering requires nbformat>=4.2.0 but it is not installed\u001b[39m\u001b[38;5;124m\"\u001b[39m\n\u001b[0;32m    427\u001b[0m     )\n\u001b[0;32m    429\u001b[0m display_jupyter_version_warnings()\n\u001b[0;32m    431\u001b[0m ipython_display\u001b[38;5;241m.\u001b[39mdisplay(bundle, raw\u001b[38;5;241m=\u001b[39m\u001b[38;5;28;01mTrue\u001b[39;00m)\n",
      "\u001b[1;31mValueError\u001b[0m: Mime type rendering requires nbformat>=4.2.0 but it is not installed"
     ]
    }
   ],
   "source": [
    "import plotly.graph_objects as go\n",
    "import pandas as pd\n",
    "\n",
    "# Sample data with a category column\n",
    "data = {\n",
    "    \"Category\": [\"A\", \"A\", \"B\", \"B\", \"C\", \"C\"],\n",
    "    \"X\": [1, 2, 3, 4, 5, 6],\n",
    "    \"Y\": [10, 15, 13, 17, 21, 25],\n",
    "}\n",
    "df = pd.DataFrame(data)\n",
    "\n",
    "# Create the figure\n",
    "fig = go.Figure()\n",
    "\n",
    "# Add traces for each category\n",
    "for category in df[\"Category\"].unique():\n",
    "    filtered_df = df[df[\"Category\"] == category]\n",
    "    fig.add_trace(\n",
    "        go.Scatter(\n",
    "            x=filtered_df[\"X\"],\n",
    "            y=filtered_df[\"Y\"],\n",
    "            name=f\"Category {category}\",\n",
    "            visible=True if category == \"A\" else False,  # Only show the first category by default\n",
    "        )\n",
    "    )\n",
    "\n",
    "# Create dropdown menu\n",
    "dropdown_buttons = [\n",
    "    {\n",
    "        \"label\": \"All Categories\",\n",
    "        \"method\": \"update\",\n",
    "        \"args\": [{\"visible\": [True] * len(df[\"Category\"].unique())}, {\"title\": \"All Categories\"}],\n",
    "    }\n",
    "] + [\n",
    "    {\n",
    "        \"label\": f\"Category {category}\",\n",
    "        \"method\": \"update\",\n",
    "        \"args\": [\n",
    "            {\"visible\": [cat == category for cat in df[\"Category\"].unique()]},\n",
    "            {\"title\": f\"Category {category}\"},\n",
    "        ],\n",
    "    }\n",
    "    for category in df[\"Category\"].unique()\n",
    "]\n",
    "\n",
    "# Update layout with dropdown\n",
    "fig.update_layout(\n",
    "    updatemenus=[\n",
    "        {\n",
    "            \"buttons\": dropdown_buttons,\n",
    "            \"direction\": \"down\",\n",
    "            \"showactive\": True,\n",
    "            \"x\": 0.1,\n",
    "            \"y\": 1.15,\n",
    "        }\n",
    "    ],\n",
    "    title=\"Dropdown Filter by Category\",\n",
    ")\n",
    "\n",
    "# Export to HTML\n",
    "fig.write_html(\"plot_with_category_dropdown.html\")\n",
    "\n",
    "# Show the plot (optional)\n",
    "fig.show()\n"
   ]
  },
  {
   "cell_type": "code",
   "execution_count": 11,
   "metadata": {},
   "outputs": [
    {
     "ename": "ValueError",
     "evalue": "Mime type rendering requires nbformat>=4.2.0 but it is not installed",
     "output_type": "error",
     "traceback": [
      "\u001b[1;31m---------------------------------------------------------------------------\u001b[0m",
      "\u001b[1;31mValueError\u001b[0m                                Traceback (most recent call last)",
      "Cell \u001b[1;32mIn[11], line 94\u001b[0m\n\u001b[0;32m     91\u001b[0m fig\u001b[38;5;241m.\u001b[39mwrite_html(\u001b[38;5;124m\"\u001b[39m\u001b[38;5;124mplot_with_two_dropdowns.html\u001b[39m\u001b[38;5;124m\"\u001b[39m)\n\u001b[0;32m     93\u001b[0m \u001b[38;5;66;03m# Show the plot (optional)\u001b[39;00m\n\u001b[1;32m---> 94\u001b[0m \u001b[43mfig\u001b[49m\u001b[38;5;241;43m.\u001b[39;49m\u001b[43mshow\u001b[49m\u001b[43m(\u001b[49m\u001b[43m)\u001b[49m\n",
      "File \u001b[1;32mc:\\Users\\Haz\\AppData\\Local\\Programs\\Python\\Python312\\Lib\\site-packages\\plotly\\basedatatypes.py:3414\u001b[0m, in \u001b[0;36mBaseFigure.show\u001b[1;34m(self, *args, **kwargs)\u001b[0m\n\u001b[0;32m   3381\u001b[0m \u001b[38;5;250m\u001b[39m\u001b[38;5;124;03m\"\"\"\u001b[39;00m\n\u001b[0;32m   3382\u001b[0m \u001b[38;5;124;03mShow a figure using either the default renderer(s) or the renderer(s)\u001b[39;00m\n\u001b[0;32m   3383\u001b[0m \u001b[38;5;124;03mspecified by the renderer argument\u001b[39;00m\n\u001b[1;32m   (...)\u001b[0m\n\u001b[0;32m   3410\u001b[0m \u001b[38;5;124;03mNone\u001b[39;00m\n\u001b[0;32m   3411\u001b[0m \u001b[38;5;124;03m\"\"\"\u001b[39;00m\n\u001b[0;32m   3412\u001b[0m \u001b[38;5;28;01mimport\u001b[39;00m \u001b[38;5;21;01mplotly\u001b[39;00m\u001b[38;5;21;01m.\u001b[39;00m\u001b[38;5;21;01mio\u001b[39;00m \u001b[38;5;28;01mas\u001b[39;00m \u001b[38;5;21;01mpio\u001b[39;00m\n\u001b[1;32m-> 3414\u001b[0m \u001b[38;5;28;01mreturn\u001b[39;00m \u001b[43mpio\u001b[49m\u001b[38;5;241;43m.\u001b[39;49m\u001b[43mshow\u001b[49m\u001b[43m(\u001b[49m\u001b[38;5;28;43mself\u001b[39;49m\u001b[43m,\u001b[49m\u001b[43m \u001b[49m\u001b[38;5;241;43m*\u001b[39;49m\u001b[43margs\u001b[49m\u001b[43m,\u001b[49m\u001b[43m \u001b[49m\u001b[38;5;241;43m*\u001b[39;49m\u001b[38;5;241;43m*\u001b[39;49m\u001b[43mkwargs\u001b[49m\u001b[43m)\u001b[49m\n",
      "File \u001b[1;32mc:\\Users\\Haz\\AppData\\Local\\Programs\\Python\\Python312\\Lib\\site-packages\\plotly\\io\\_renderers.py:425\u001b[0m, in \u001b[0;36mshow\u001b[1;34m(fig, renderer, validate, **kwargs)\u001b[0m\n\u001b[0;32m    420\u001b[0m     \u001b[38;5;28;01mraise\u001b[39;00m \u001b[38;5;167;01mValueError\u001b[39;00m(\n\u001b[0;32m    421\u001b[0m         \u001b[38;5;124m\"\u001b[39m\u001b[38;5;124mMime type rendering requires ipython but it is not installed\u001b[39m\u001b[38;5;124m\"\u001b[39m\n\u001b[0;32m    422\u001b[0m     )\n\u001b[0;32m    424\u001b[0m \u001b[38;5;28;01mif\u001b[39;00m \u001b[38;5;129;01mnot\u001b[39;00m nbformat \u001b[38;5;129;01mor\u001b[39;00m Version(nbformat\u001b[38;5;241m.\u001b[39m__version__) \u001b[38;5;241m<\u001b[39m Version(\u001b[38;5;124m\"\u001b[39m\u001b[38;5;124m4.2.0\u001b[39m\u001b[38;5;124m\"\u001b[39m):\n\u001b[1;32m--> 425\u001b[0m     \u001b[38;5;28;01mraise\u001b[39;00m \u001b[38;5;167;01mValueError\u001b[39;00m(\n\u001b[0;32m    426\u001b[0m         \u001b[38;5;124m\"\u001b[39m\u001b[38;5;124mMime type rendering requires nbformat>=4.2.0 but it is not installed\u001b[39m\u001b[38;5;124m\"\u001b[39m\n\u001b[0;32m    427\u001b[0m     )\n\u001b[0;32m    429\u001b[0m display_jupyter_version_warnings()\n\u001b[0;32m    431\u001b[0m ipython_display\u001b[38;5;241m.\u001b[39mdisplay(bundle, raw\u001b[38;5;241m=\u001b[39m\u001b[38;5;28;01mTrue\u001b[39;00m)\n",
      "\u001b[1;31mValueError\u001b[0m: Mime type rendering requires nbformat>=4.2.0 but it is not installed"
     ]
    }
   ],
   "source": [
    "import plotly.graph_objects as go\n",
    "import pandas as pd\n",
    "\n",
    "# Sample data with category and subcategory columns\n",
    "data = {\n",
    "    \"Category\": [\"A\", \"A\", \"B\", \"B\", \"C\", \"C\"],\n",
    "    \"Subcategory\": [\"X\", \"Y\", \"X\", \"Y\", \"X\", \"Y\"],\n",
    "    \"X\": [1, 2, 3, 4, 5, 6],\n",
    "    \"Y\": [10, 15, 13, 17, 21, 25],\n",
    "}\n",
    "df = pd.DataFrame(data)\n",
    "\n",
    "# Create the figure\n",
    "fig = go.Figure()\n",
    "\n",
    "# Add traces for each combination of category and subcategory\n",
    "for category in df[\"Category\"].unique():\n",
    "    for subcategory in df[\"Subcategory\"].unique():\n",
    "        filtered_df = df[(df[\"Category\"] == category) & (df[\"Subcategory\"] == subcategory)]\n",
    "        fig.add_trace(\n",
    "            go.Scatter(\n",
    "                x=filtered_df[\"X\"],\n",
    "                y=filtered_df[\"Y\"],\n",
    "                name=f\"{category} - {subcategory}\",\n",
    "                visible=True if (category == \"A\" and subcategory == \"X\") else False,  # Show only one trace by default\n",
    "            )\n",
    "        )\n",
    "\n",
    "# Create dropdown menu for Category (right-hand side)\n",
    "category_dropdown = [\n",
    "    {\n",
    "        \"label\": \"All Categories\",\n",
    "        \"method\": \"update\",\n",
    "        \"args\": [{\"visible\": [True] * len(fig.data)}, {\"title\": \"All Categories\"}],\n",
    "    }\n",
    "] + [\n",
    "    {\n",
    "        \"label\": f\"Category {category}\",\n",
    "        \"method\": \"update\",\n",
    "        \"args\": [\n",
    "            {\"visible\": [trace.name.startswith(f\"{category}\") for trace in fig.data]},\n",
    "            {\"title\": f\"Category {category}\"},\n",
    "        ],\n",
    "    }\n",
    "    for category in df[\"Category\"].unique()\n",
    "]\n",
    "\n",
    "# Create dropdown menu for Subcategory (left-hand side)\n",
    "subcategory_dropdown = [\n",
    "    {\n",
    "        \"label\": \"All Subcategories\",\n",
    "        \"method\": \"update\",\n",
    "        \"args\": [{\"visible\": [True] * len(fig.data)}, {\"title\": \"All Subcategories\"}],\n",
    "    }\n",
    "] + [\n",
    "    {\n",
    "        \"label\": f\"Subcategory {subcategory}\",\n",
    "        \"method\": \"update\",\n",
    "        \"args\": [\n",
    "            {\"visible\": [trace.name.endswith(f\"{subcategory}\") for trace in fig.data]},\n",
    "            {\"title\": f\"Subcategory {subcategory}\"},\n",
    "        ],\n",
    "    }\n",
    "    for subcategory in df[\"Subcategory\"].unique()\n",
    "]\n",
    "\n",
    "# Update layout with dropdowns\n",
    "fig.update_layout(\n",
    "    updatemenus=[\n",
    "        # Left-hand side dropdown (Subcategory)\n",
    "        {\n",
    "            \"buttons\": subcategory_dropdown,\n",
    "            \"direction\": \"down\",\n",
    "            \"showactive\": True,\n",
    "            \"x\": 0.1,  # Position on the left\n",
    "            \"y\": 1.1,\n",
    "        },\n",
    "        # Right-hand side dropdown (Category)\n",
    "        {\n",
    "            \"buttons\": category_dropdown,\n",
    "            \"direction\": \"down\",\n",
    "            \"showactive\": True,\n",
    "            \"x\": 0.9,  # Position on the right\n",
    "            \"y\": 1.1,\n",
    "        },\n",
    "    ],\n",
    "    title=\"Dropdown Filters by Category and Subcategory\",\n",
    ")\n",
    "\n",
    "# Export to HTML\n",
    "fig.write_html(\"plot_with_two_dropdowns.html\")\n",
    "\n",
    "# Show the plot (optional)\n",
    "fig.show()"
   ]
  },
  {
   "cell_type": "code",
   "execution_count": 12,
   "metadata": {},
   "outputs": [
    {
     "ename": "ValueError",
     "evalue": "Mime type rendering requires nbformat>=4.2.0 but it is not installed",
     "output_type": "error",
     "traceback": [
      "\u001b[1;31m---------------------------------------------------------------------------\u001b[0m",
      "\u001b[1;31mValueError\u001b[0m                                Traceback (most recent call last)",
      "Cell \u001b[1;32mIn[12], line 94\u001b[0m\n\u001b[0;32m     91\u001b[0m fig\u001b[38;5;241m.\u001b[39mwrite_html(\u001b[38;5;124m\"\u001b[39m\u001b[38;5;124mplot_with_two_dropdowns_right.html\u001b[39m\u001b[38;5;124m\"\u001b[39m)\n\u001b[0;32m     93\u001b[0m \u001b[38;5;66;03m# Show the plot (optional)\u001b[39;00m\n\u001b[1;32m---> 94\u001b[0m \u001b[43mfig\u001b[49m\u001b[38;5;241;43m.\u001b[39;49m\u001b[43mshow\u001b[49m\u001b[43m(\u001b[49m\u001b[43m)\u001b[49m\n",
      "File \u001b[1;32mc:\\Users\\Haz\\AppData\\Local\\Programs\\Python\\Python312\\Lib\\site-packages\\plotly\\basedatatypes.py:3414\u001b[0m, in \u001b[0;36mBaseFigure.show\u001b[1;34m(self, *args, **kwargs)\u001b[0m\n\u001b[0;32m   3381\u001b[0m \u001b[38;5;250m\u001b[39m\u001b[38;5;124;03m\"\"\"\u001b[39;00m\n\u001b[0;32m   3382\u001b[0m \u001b[38;5;124;03mShow a figure using either the default renderer(s) or the renderer(s)\u001b[39;00m\n\u001b[0;32m   3383\u001b[0m \u001b[38;5;124;03mspecified by the renderer argument\u001b[39;00m\n\u001b[1;32m   (...)\u001b[0m\n\u001b[0;32m   3410\u001b[0m \u001b[38;5;124;03mNone\u001b[39;00m\n\u001b[0;32m   3411\u001b[0m \u001b[38;5;124;03m\"\"\"\u001b[39;00m\n\u001b[0;32m   3412\u001b[0m \u001b[38;5;28;01mimport\u001b[39;00m \u001b[38;5;21;01mplotly\u001b[39;00m\u001b[38;5;21;01m.\u001b[39;00m\u001b[38;5;21;01mio\u001b[39;00m \u001b[38;5;28;01mas\u001b[39;00m \u001b[38;5;21;01mpio\u001b[39;00m\n\u001b[1;32m-> 3414\u001b[0m \u001b[38;5;28;01mreturn\u001b[39;00m \u001b[43mpio\u001b[49m\u001b[38;5;241;43m.\u001b[39;49m\u001b[43mshow\u001b[49m\u001b[43m(\u001b[49m\u001b[38;5;28;43mself\u001b[39;49m\u001b[43m,\u001b[49m\u001b[43m \u001b[49m\u001b[38;5;241;43m*\u001b[39;49m\u001b[43margs\u001b[49m\u001b[43m,\u001b[49m\u001b[43m \u001b[49m\u001b[38;5;241;43m*\u001b[39;49m\u001b[38;5;241;43m*\u001b[39;49m\u001b[43mkwargs\u001b[49m\u001b[43m)\u001b[49m\n",
      "File \u001b[1;32mc:\\Users\\Haz\\AppData\\Local\\Programs\\Python\\Python312\\Lib\\site-packages\\plotly\\io\\_renderers.py:425\u001b[0m, in \u001b[0;36mshow\u001b[1;34m(fig, renderer, validate, **kwargs)\u001b[0m\n\u001b[0;32m    420\u001b[0m     \u001b[38;5;28;01mraise\u001b[39;00m \u001b[38;5;167;01mValueError\u001b[39;00m(\n\u001b[0;32m    421\u001b[0m         \u001b[38;5;124m\"\u001b[39m\u001b[38;5;124mMime type rendering requires ipython but it is not installed\u001b[39m\u001b[38;5;124m\"\u001b[39m\n\u001b[0;32m    422\u001b[0m     )\n\u001b[0;32m    424\u001b[0m \u001b[38;5;28;01mif\u001b[39;00m \u001b[38;5;129;01mnot\u001b[39;00m nbformat \u001b[38;5;129;01mor\u001b[39;00m Version(nbformat\u001b[38;5;241m.\u001b[39m__version__) \u001b[38;5;241m<\u001b[39m Version(\u001b[38;5;124m\"\u001b[39m\u001b[38;5;124m4.2.0\u001b[39m\u001b[38;5;124m\"\u001b[39m):\n\u001b[1;32m--> 425\u001b[0m     \u001b[38;5;28;01mraise\u001b[39;00m \u001b[38;5;167;01mValueError\u001b[39;00m(\n\u001b[0;32m    426\u001b[0m         \u001b[38;5;124m\"\u001b[39m\u001b[38;5;124mMime type rendering requires nbformat>=4.2.0 but it is not installed\u001b[39m\u001b[38;5;124m\"\u001b[39m\n\u001b[0;32m    427\u001b[0m     )\n\u001b[0;32m    429\u001b[0m display_jupyter_version_warnings()\n\u001b[0;32m    431\u001b[0m ipython_display\u001b[38;5;241m.\u001b[39mdisplay(bundle, raw\u001b[38;5;241m=\u001b[39m\u001b[38;5;28;01mTrue\u001b[39;00m)\n",
      "\u001b[1;31mValueError\u001b[0m: Mime type rendering requires nbformat>=4.2.0 but it is not installed"
     ]
    }
   ],
   "source": [
    "import plotly.graph_objects as go\n",
    "import pandas as pd\n",
    "\n",
    "# Sample data with category and subcategory columns\n",
    "data = {\n",
    "    \"Category\": [\"A\", \"A\", \"B\", \"B\", \"C\", \"C\"],\n",
    "    \"Subcategory\": [\"X\", \"Y\", \"X\", \"Y\", \"X\", \"Y\"],\n",
    "    \"X\": [1, 2, 3, 4, 5, 6],\n",
    "    \"Y\": [10, 15, 13, 17, 21, 25],\n",
    "}\n",
    "df = pd.DataFrame(data)\n",
    "\n",
    "# Create the figure\n",
    "fig = go.Figure()\n",
    "\n",
    "# Add traces for each combination of category and subcategory\n",
    "for category in df[\"Category\"].unique():\n",
    "    for subcategory in df[\"Subcategory\"].unique():\n",
    "        filtered_df = df[(df[\"Category\"] == category) & (df[\"Subcategory\"] == subcategory)]\n",
    "        fig.add_trace(\n",
    "            go.Scatter(\n",
    "                x=filtered_df[\"X\"],\n",
    "                y=filtered_df[\"Y\"],\n",
    "                name=f\"{category} - {subcategory}\",\n",
    "                visible=True if (category == \"A\" and subcategory == \"X\") else False,  # Show only one trace by default\n",
    "            )\n",
    "        )\n",
    "\n",
    "# Create dropdown menu for Category (first dropdown on the right)\n",
    "category_dropdown = [\n",
    "    {\n",
    "        \"label\": \"All Categories\",\n",
    "        \"method\": \"update\",\n",
    "        \"args\": [{\"visible\": [True] * len(fig.data)}, {\"title\": \"All Categories\"}],\n",
    "    }\n",
    "] + [\n",
    "    {\n",
    "        \"label\": f\"Category {category}\",\n",
    "        \"method\": \"update\",\n",
    "        \"args\": [\n",
    "            {\"visible\": [trace.name.startswith(f\"{category}\") for trace in fig.data]},\n",
    "            {\"title\": f\"Category {category}\"},\n",
    "        ],\n",
    "    }\n",
    "    for category in df[\"Category\"].unique()\n",
    "]\n",
    "\n",
    "# Create dropdown menu for Subcategory (second dropdown on the right)\n",
    "subcategory_dropdown = [\n",
    "    {\n",
    "        \"label\": \"All Subcategories\",\n",
    "        \"method\": \"update\",\n",
    "        \"args\": [{\"visible\": [True] * len(fig.data)}, {\"title\": \"All Subcategories\"}],\n",
    "    }\n",
    "] + [\n",
    "    {\n",
    "        \"label\": f\"Subcategory {subcategory}\",\n",
    "        \"method\": \"update\",\n",
    "        \"args\": [\n",
    "            {\"visible\": [trace.name.endswith(f\"{subcategory}\") for trace in fig.data]},\n",
    "            {\"title\": f\"Subcategory {subcategory}\"},\n",
    "        ],\n",
    "    }\n",
    "    for subcategory in df[\"Subcategory\"].unique()\n",
    "]\n",
    "\n",
    "# Update layout with dropdowns\n",
    "fig.update_layout(\n",
    "    updatemenus=[\n",
    "        # First dropdown (Category)\n",
    "        {\n",
    "            \"buttons\": category_dropdown,\n",
    "            \"direction\": \"down\",\n",
    "            \"showactive\": True,\n",
    "            \"x\": 0.85,  # Position on the right\n",
    "            \"y\": 1.1,\n",
    "        },\n",
    "        # Second dropdown (Subcategory)\n",
    "        {\n",
    "            \"buttons\": subcategory_dropdown,\n",
    "            \"direction\": \"down\",\n",
    "            \"showactive\": True,\n",
    "            \"x\": 0.95,  # Position to the right of the first dropdown\n",
    "            \"y\": 1.1,\n",
    "        },\n",
    "    ],\n",
    "    title=\"Dropdown Filters by Category and Subcategory\",\n",
    ")\n",
    "\n",
    "# Export to HTML\n",
    "fig.write_html(\"plot_with_two_dropdowns_right.html\")\n",
    "\n",
    "# Show the plot (optional)\n",
    "fig.show()"
   ]
  },
  {
   "cell_type": "code",
   "execution_count": 13,
   "metadata": {},
   "outputs": [
    {
     "ename": "ValueError",
     "evalue": "Mime type rendering requires nbformat>=4.2.0 but it is not installed",
     "output_type": "error",
     "traceback": [
      "\u001b[1;31m---------------------------------------------------------------------------\u001b[0m",
      "\u001b[1;31mValueError\u001b[0m                                Traceback (most recent call last)",
      "Cell \u001b[1;32mIn[13], line 143\u001b[0m\n\u001b[0;32m    140\u001b[0m fig\u001b[38;5;241m.\u001b[39mwrite_html(\u001b[38;5;124m\"\u001b[39m\u001b[38;5;124mplot_with_dynamic_total_value.html\u001b[39m\u001b[38;5;124m\"\u001b[39m)\n\u001b[0;32m    142\u001b[0m \u001b[38;5;66;03m# Show the plot (optional)\u001b[39;00m\n\u001b[1;32m--> 143\u001b[0m \u001b[43mfig\u001b[49m\u001b[38;5;241;43m.\u001b[39;49m\u001b[43mshow\u001b[49m\u001b[43m(\u001b[49m\u001b[43m)\u001b[49m\n",
      "File \u001b[1;32mc:\\Users\\Haz\\AppData\\Local\\Programs\\Python\\Python312\\Lib\\site-packages\\plotly\\basedatatypes.py:3414\u001b[0m, in \u001b[0;36mBaseFigure.show\u001b[1;34m(self, *args, **kwargs)\u001b[0m\n\u001b[0;32m   3381\u001b[0m \u001b[38;5;250m\u001b[39m\u001b[38;5;124;03m\"\"\"\u001b[39;00m\n\u001b[0;32m   3382\u001b[0m \u001b[38;5;124;03mShow a figure using either the default renderer(s) or the renderer(s)\u001b[39;00m\n\u001b[0;32m   3383\u001b[0m \u001b[38;5;124;03mspecified by the renderer argument\u001b[39;00m\n\u001b[1;32m   (...)\u001b[0m\n\u001b[0;32m   3410\u001b[0m \u001b[38;5;124;03mNone\u001b[39;00m\n\u001b[0;32m   3411\u001b[0m \u001b[38;5;124;03m\"\"\"\u001b[39;00m\n\u001b[0;32m   3412\u001b[0m \u001b[38;5;28;01mimport\u001b[39;00m \u001b[38;5;21;01mplotly\u001b[39;00m\u001b[38;5;21;01m.\u001b[39;00m\u001b[38;5;21;01mio\u001b[39;00m \u001b[38;5;28;01mas\u001b[39;00m \u001b[38;5;21;01mpio\u001b[39;00m\n\u001b[1;32m-> 3414\u001b[0m \u001b[38;5;28;01mreturn\u001b[39;00m \u001b[43mpio\u001b[49m\u001b[38;5;241;43m.\u001b[39;49m\u001b[43mshow\u001b[49m\u001b[43m(\u001b[49m\u001b[38;5;28;43mself\u001b[39;49m\u001b[43m,\u001b[49m\u001b[43m \u001b[49m\u001b[38;5;241;43m*\u001b[39;49m\u001b[43margs\u001b[49m\u001b[43m,\u001b[49m\u001b[43m \u001b[49m\u001b[38;5;241;43m*\u001b[39;49m\u001b[38;5;241;43m*\u001b[39;49m\u001b[43mkwargs\u001b[49m\u001b[43m)\u001b[49m\n",
      "File \u001b[1;32mc:\\Users\\Haz\\AppData\\Local\\Programs\\Python\\Python312\\Lib\\site-packages\\plotly\\io\\_renderers.py:425\u001b[0m, in \u001b[0;36mshow\u001b[1;34m(fig, renderer, validate, **kwargs)\u001b[0m\n\u001b[0;32m    420\u001b[0m     \u001b[38;5;28;01mraise\u001b[39;00m \u001b[38;5;167;01mValueError\u001b[39;00m(\n\u001b[0;32m    421\u001b[0m         \u001b[38;5;124m\"\u001b[39m\u001b[38;5;124mMime type rendering requires ipython but it is not installed\u001b[39m\u001b[38;5;124m\"\u001b[39m\n\u001b[0;32m    422\u001b[0m     )\n\u001b[0;32m    424\u001b[0m \u001b[38;5;28;01mif\u001b[39;00m \u001b[38;5;129;01mnot\u001b[39;00m nbformat \u001b[38;5;129;01mor\u001b[39;00m Version(nbformat\u001b[38;5;241m.\u001b[39m__version__) \u001b[38;5;241m<\u001b[39m Version(\u001b[38;5;124m\"\u001b[39m\u001b[38;5;124m4.2.0\u001b[39m\u001b[38;5;124m\"\u001b[39m):\n\u001b[1;32m--> 425\u001b[0m     \u001b[38;5;28;01mraise\u001b[39;00m \u001b[38;5;167;01mValueError\u001b[39;00m(\n\u001b[0;32m    426\u001b[0m         \u001b[38;5;124m\"\u001b[39m\u001b[38;5;124mMime type rendering requires nbformat>=4.2.0 but it is not installed\u001b[39m\u001b[38;5;124m\"\u001b[39m\n\u001b[0;32m    427\u001b[0m     )\n\u001b[0;32m    429\u001b[0m display_jupyter_version_warnings()\n\u001b[0;32m    431\u001b[0m ipython_display\u001b[38;5;241m.\u001b[39mdisplay(bundle, raw\u001b[38;5;241m=\u001b[39m\u001b[38;5;28;01mTrue\u001b[39;00m)\n",
      "\u001b[1;31mValueError\u001b[0m: Mime type rendering requires nbformat>=4.2.0 but it is not installed"
     ]
    }
   ],
   "source": [
    "import plotly.graph_objects as go\n",
    "import pandas as pd\n",
    "\n",
    "# Sample data with category, subcategory, and total_value columns\n",
    "data = {\n",
    "    \"Category\": [\"A\", \"A\", \"B\", \"B\", \"C\", \"C\"],\n",
    "    \"Subcategory\": [\"X\", \"Y\", \"X\", \"Y\", \"X\", \"Y\"],\n",
    "    \"X\": [1, 2, 3, 4, 5, 6],\n",
    "    \"Y\": [10, 15, 13, 17, 21, 25],\n",
    "    \"total_value\": [100, 150, 130, 170, 210, 250],  # New column for summing\n",
    "}\n",
    "df = pd.DataFrame(data)\n",
    "\n",
    "# Create the figure\n",
    "fig = go.Figure()\n",
    "\n",
    "# Add traces for each combination of category and subcategory\n",
    "for category in df[\"Category\"].unique():\n",
    "    for subcategory in df[\"Subcategory\"].unique():\n",
    "        filtered_df = df[(df[\"Category\"] == category) & (df[\"Subcategory\"] == subcategory)]\n",
    "        fig.add_trace(\n",
    "            go.Scatter(\n",
    "                x=filtered_df[\"X\"],\n",
    "                y=filtered_df[\"Y\"],\n",
    "                name=f\"{category} - {subcategory}\",\n",
    "                visible=True if (category == \"A\" and subcategory == \"X\") else False,  # Show only one trace by default\n",
    "            )\n",
    "        )\n",
    "\n",
    "# Function to calculate the sum of total_value based on visible traces\n",
    "def calculate_total_value(visible_traces):\n",
    "    total = 0\n",
    "    for trace in fig.data:\n",
    "        if trace.visible:\n",
    "            category, subcategory = trace.name.split(\" - \")\n",
    "            filtered_df = df[(df[\"Category\"] == category) & (df[\"Subcategory\"] == subcategory)]\n",
    "            total += filtered_df[\"total_value\"].sum()\n",
    "    return total\n",
    "\n",
    "# Initial total value calculation\n",
    "initial_total = calculate_total_value([True] * len(fig.data))\n",
    "\n",
    "# Create dropdown menu for Category (first dropdown on the right)\n",
    "category_dropdown = [\n",
    "    {\n",
    "        \"label\": \"All Categories\",\n",
    "        \"method\": \"update\",\n",
    "        \"args\": [\n",
    "            {\"visible\": [True] * len(fig.data)},\n",
    "            {\"title\": \"All Categories\", \"annotations\": [{\"text\": f\"Total Value: {initial_total}\", \"x\": 0.5, \"y\": 1.15, \"showarrow\": False}]},\n",
    "        ],\n",
    "    }\n",
    "] + [\n",
    "    {\n",
    "        \"label\": f\"Category {category}\",\n",
    "        \"method\": \"update\",\n",
    "        \"args\": [\n",
    "            {\"visible\": [trace.name.startswith(f\"{category}\") for trace in fig.data]},\n",
    "            {\n",
    "                \"title\": f\"Category {category}\",\n",
    "                \"annotations\": [\n",
    "                    {\n",
    "                        \"text\": f\"Total Value: {calculate_total_value([trace.name.startswith(f'{category}') for trace in fig.data])}\",\n",
    "                        \"x\": 0.5,\n",
    "                        \"y\": 1.15,\n",
    "                        \"showarrow\": False,\n",
    "                    }\n",
    "                ],\n",
    "            },\n",
    "        ],\n",
    "    }\n",
    "    for category in df[\"Category\"].unique()\n",
    "]\n",
    "\n",
    "# Create dropdown menu for Subcategory (second dropdown on the right)\n",
    "subcategory_dropdown = [\n",
    "    {\n",
    "        \"label\": \"All Subcategories\",\n",
    "        \"method\": \"update\",\n",
    "        \"args\": [\n",
    "            {\"visible\": [True] * len(fig.data)},\n",
    "            {\"title\": \"All Subcategories\", \"annotations\": [{\"text\": f\"Total Value: {initial_total}\", \"x\": 0.5, \"y\": 1.15, \"showarrow\": False}]},\n",
    "        ],\n",
    "    }\n",
    "] + [\n",
    "    {\n",
    "        \"label\": f\"Subcategory {subcategory}\",\n",
    "        \"method\": \"update\",\n",
    "        \"args\": [\n",
    "            {\"visible\": [trace.name.endswith(f\"{subcategory}\") for trace in fig.data]},\n",
    "            {\n",
    "                \"title\": f\"Subcategory {subcategory}\",\n",
    "                \"annotations\": [\n",
    "                    {\n",
    "                        \"text\": f\"Total Value: {calculate_total_value([trace.name.endswith(f'{subcategory}') for trace in fig.data])}\",\n",
    "                        \"x\": 0.5,\n",
    "                        \"y\": 1.15,\n",
    "                        \"showarrow\": False,\n",
    "                    }\n",
    "                ],\n",
    "            },\n",
    "        ],\n",
    "    }\n",
    "    for subcategory in df[\"Subcategory\"].unique()\n",
    "]\n",
    "\n",
    "# Update layout with dropdowns and initial annotation\n",
    "fig.update_layout(\n",
    "    updatemenus=[\n",
    "        # First dropdown (Category)\n",
    "        {\n",
    "            \"buttons\": category_dropdown,\n",
    "            \"direction\": \"down\",\n",
    "            \"showactive\": True,\n",
    "            \"x\": 0.85,  # Position on the right\n",
    "            \"y\": 1.1,\n",
    "        },\n",
    "        # Second dropdown (Subcategory)\n",
    "        {\n",
    "            \"buttons\": subcategory_dropdown,\n",
    "            \"direction\": \"down\",\n",
    "            \"showactive\": True,\n",
    "            \"x\": 0.95,  # Position to the right of the first dropdown\n",
    "            \"y\": 1.1,\n",
    "        },\n",
    "    ],\n",
    "    title=\"Dropdown Filters by Category and Subcategory\",\n",
    "    annotations=[\n",
    "        {\n",
    "            \"text\": f\"Total Value: {initial_total}\",\n",
    "            \"x\": 0.5,  # Center of the chart\n",
    "            \"y\": 1.15,  # Above the title\n",
    "            \"showarrow\": False,\n",
    "            \"font\": {\"size\": 16},\n",
    "        }\n",
    "    ],\n",
    ")\n",
    "\n",
    "# Export to HTML\n",
    "fig.write_html(\"plot_with_dynamic_total_value.html\")\n",
    "\n",
    "# Show the plot (optional)\n",
    "fig.show()"
   ]
  },
  {
   "cell_type": "code",
   "execution_count": 1,
   "metadata": {},
   "outputs": [
    {
     "data": {
      "application/vnd.plotly.v1+json": {
       "config": {
        "plotlyServerURL": "https://plot.ly"
       },
       "data": [
        {
         "name": "A - X",
         "type": "scatter",
         "visible": true,
         "x": {
          "bdata": "AQ==",
          "dtype": "i1"
         },
         "y": {
          "bdata": "Cg==",
          "dtype": "i1"
         }
        },
        {
         "name": "A - Y",
         "type": "scatter",
         "visible": false,
         "x": {
          "bdata": "Ag==",
          "dtype": "i1"
         },
         "y": {
          "bdata": "Dw==",
          "dtype": "i1"
         }
        },
        {
         "name": "B - X",
         "type": "scatter",
         "visible": false,
         "x": {
          "bdata": "Aw==",
          "dtype": "i1"
         },
         "y": {
          "bdata": "DQ==",
          "dtype": "i1"
         }
        },
        {
         "name": "B - Y",
         "type": "scatter",
         "visible": false,
         "x": {
          "bdata": "BA==",
          "dtype": "i1"
         },
         "y": {
          "bdata": "EQ==",
          "dtype": "i1"
         }
        },
        {
         "name": "C - X",
         "type": "scatter",
         "visible": false,
         "x": {
          "bdata": "BQ==",
          "dtype": "i1"
         },
         "y": {
          "bdata": "FQ==",
          "dtype": "i1"
         }
        },
        {
         "name": "C - Y",
         "type": "scatter",
         "visible": false,
         "x": {
          "bdata": "Bg==",
          "dtype": "i1"
         },
         "y": {
          "bdata": "GQ==",
          "dtype": "i1"
         }
        }
       ],
       "layout": {
        "annotations": [
         {
          "font": {
           "size": 16
          },
          "showarrow": false,
          "text": "Total Value: 100",
          "x": 0.5,
          "y": 1.15
         }
        ],
        "template": {
         "data": {
          "bar": [
           {
            "error_x": {
             "color": "#2a3f5f"
            },
            "error_y": {
             "color": "#2a3f5f"
            },
            "marker": {
             "line": {
              "color": "#E5ECF6",
              "width": 0.5
             },
             "pattern": {
              "fillmode": "overlay",
              "size": 10,
              "solidity": 0.2
             }
            },
            "type": "bar"
           }
          ],
          "barpolar": [
           {
            "marker": {
             "line": {
              "color": "#E5ECF6",
              "width": 0.5
             },
             "pattern": {
              "fillmode": "overlay",
              "size": 10,
              "solidity": 0.2
             }
            },
            "type": "barpolar"
           }
          ],
          "carpet": [
           {
            "aaxis": {
             "endlinecolor": "#2a3f5f",
             "gridcolor": "white",
             "linecolor": "white",
             "minorgridcolor": "white",
             "startlinecolor": "#2a3f5f"
            },
            "baxis": {
             "endlinecolor": "#2a3f5f",
             "gridcolor": "white",
             "linecolor": "white",
             "minorgridcolor": "white",
             "startlinecolor": "#2a3f5f"
            },
            "type": "carpet"
           }
          ],
          "choropleth": [
           {
            "colorbar": {
             "outlinewidth": 0,
             "ticks": ""
            },
            "type": "choropleth"
           }
          ],
          "contour": [
           {
            "colorbar": {
             "outlinewidth": 0,
             "ticks": ""
            },
            "colorscale": [
             [
              0,
              "#0d0887"
             ],
             [
              0.1111111111111111,
              "#46039f"
             ],
             [
              0.2222222222222222,
              "#7201a8"
             ],
             [
              0.3333333333333333,
              "#9c179e"
             ],
             [
              0.4444444444444444,
              "#bd3786"
             ],
             [
              0.5555555555555556,
              "#d8576b"
             ],
             [
              0.6666666666666666,
              "#ed7953"
             ],
             [
              0.7777777777777778,
              "#fb9f3a"
             ],
             [
              0.8888888888888888,
              "#fdca26"
             ],
             [
              1,
              "#f0f921"
             ]
            ],
            "type": "contour"
           }
          ],
          "contourcarpet": [
           {
            "colorbar": {
             "outlinewidth": 0,
             "ticks": ""
            },
            "type": "contourcarpet"
           }
          ],
          "heatmap": [
           {
            "colorbar": {
             "outlinewidth": 0,
             "ticks": ""
            },
            "colorscale": [
             [
              0,
              "#0d0887"
             ],
             [
              0.1111111111111111,
              "#46039f"
             ],
             [
              0.2222222222222222,
              "#7201a8"
             ],
             [
              0.3333333333333333,
              "#9c179e"
             ],
             [
              0.4444444444444444,
              "#bd3786"
             ],
             [
              0.5555555555555556,
              "#d8576b"
             ],
             [
              0.6666666666666666,
              "#ed7953"
             ],
             [
              0.7777777777777778,
              "#fb9f3a"
             ],
             [
              0.8888888888888888,
              "#fdca26"
             ],
             [
              1,
              "#f0f921"
             ]
            ],
            "type": "heatmap"
           }
          ],
          "histogram": [
           {
            "marker": {
             "pattern": {
              "fillmode": "overlay",
              "size": 10,
              "solidity": 0.2
             }
            },
            "type": "histogram"
           }
          ],
          "histogram2d": [
           {
            "colorbar": {
             "outlinewidth": 0,
             "ticks": ""
            },
            "colorscale": [
             [
              0,
              "#0d0887"
             ],
             [
              0.1111111111111111,
              "#46039f"
             ],
             [
              0.2222222222222222,
              "#7201a8"
             ],
             [
              0.3333333333333333,
              "#9c179e"
             ],
             [
              0.4444444444444444,
              "#bd3786"
             ],
             [
              0.5555555555555556,
              "#d8576b"
             ],
             [
              0.6666666666666666,
              "#ed7953"
             ],
             [
              0.7777777777777778,
              "#fb9f3a"
             ],
             [
              0.8888888888888888,
              "#fdca26"
             ],
             [
              1,
              "#f0f921"
             ]
            ],
            "type": "histogram2d"
           }
          ],
          "histogram2dcontour": [
           {
            "colorbar": {
             "outlinewidth": 0,
             "ticks": ""
            },
            "colorscale": [
             [
              0,
              "#0d0887"
             ],
             [
              0.1111111111111111,
              "#46039f"
             ],
             [
              0.2222222222222222,
              "#7201a8"
             ],
             [
              0.3333333333333333,
              "#9c179e"
             ],
             [
              0.4444444444444444,
              "#bd3786"
             ],
             [
              0.5555555555555556,
              "#d8576b"
             ],
             [
              0.6666666666666666,
              "#ed7953"
             ],
             [
              0.7777777777777778,
              "#fb9f3a"
             ],
             [
              0.8888888888888888,
              "#fdca26"
             ],
             [
              1,
              "#f0f921"
             ]
            ],
            "type": "histogram2dcontour"
           }
          ],
          "mesh3d": [
           {
            "colorbar": {
             "outlinewidth": 0,
             "ticks": ""
            },
            "type": "mesh3d"
           }
          ],
          "parcoords": [
           {
            "line": {
             "colorbar": {
              "outlinewidth": 0,
              "ticks": ""
             }
            },
            "type": "parcoords"
           }
          ],
          "pie": [
           {
            "automargin": true,
            "type": "pie"
           }
          ],
          "scatter": [
           {
            "fillpattern": {
             "fillmode": "overlay",
             "size": 10,
             "solidity": 0.2
            },
            "type": "scatter"
           }
          ],
          "scatter3d": [
           {
            "line": {
             "colorbar": {
              "outlinewidth": 0,
              "ticks": ""
             }
            },
            "marker": {
             "colorbar": {
              "outlinewidth": 0,
              "ticks": ""
             }
            },
            "type": "scatter3d"
           }
          ],
          "scattercarpet": [
           {
            "marker": {
             "colorbar": {
              "outlinewidth": 0,
              "ticks": ""
             }
            },
            "type": "scattercarpet"
           }
          ],
          "scattergeo": [
           {
            "marker": {
             "colorbar": {
              "outlinewidth": 0,
              "ticks": ""
             }
            },
            "type": "scattergeo"
           }
          ],
          "scattergl": [
           {
            "marker": {
             "colorbar": {
              "outlinewidth": 0,
              "ticks": ""
             }
            },
            "type": "scattergl"
           }
          ],
          "scattermap": [
           {
            "marker": {
             "colorbar": {
              "outlinewidth": 0,
              "ticks": ""
             }
            },
            "type": "scattermap"
           }
          ],
          "scattermapbox": [
           {
            "marker": {
             "colorbar": {
              "outlinewidth": 0,
              "ticks": ""
             }
            },
            "type": "scattermapbox"
           }
          ],
          "scatterpolar": [
           {
            "marker": {
             "colorbar": {
              "outlinewidth": 0,
              "ticks": ""
             }
            },
            "type": "scatterpolar"
           }
          ],
          "scatterpolargl": [
           {
            "marker": {
             "colorbar": {
              "outlinewidth": 0,
              "ticks": ""
             }
            },
            "type": "scatterpolargl"
           }
          ],
          "scatterternary": [
           {
            "marker": {
             "colorbar": {
              "outlinewidth": 0,
              "ticks": ""
             }
            },
            "type": "scatterternary"
           }
          ],
          "surface": [
           {
            "colorbar": {
             "outlinewidth": 0,
             "ticks": ""
            },
            "colorscale": [
             [
              0,
              "#0d0887"
             ],
             [
              0.1111111111111111,
              "#46039f"
             ],
             [
              0.2222222222222222,
              "#7201a8"
             ],
             [
              0.3333333333333333,
              "#9c179e"
             ],
             [
              0.4444444444444444,
              "#bd3786"
             ],
             [
              0.5555555555555556,
              "#d8576b"
             ],
             [
              0.6666666666666666,
              "#ed7953"
             ],
             [
              0.7777777777777778,
              "#fb9f3a"
             ],
             [
              0.8888888888888888,
              "#fdca26"
             ],
             [
              1,
              "#f0f921"
             ]
            ],
            "type": "surface"
           }
          ],
          "table": [
           {
            "cells": {
             "fill": {
              "color": "#EBF0F8"
             },
             "line": {
              "color": "white"
             }
            },
            "header": {
             "fill": {
              "color": "#C8D4E3"
             },
             "line": {
              "color": "white"
             }
            },
            "type": "table"
           }
          ]
         },
         "layout": {
          "annotationdefaults": {
           "arrowcolor": "#2a3f5f",
           "arrowhead": 0,
           "arrowwidth": 1
          },
          "autotypenumbers": "strict",
          "coloraxis": {
           "colorbar": {
            "outlinewidth": 0,
            "ticks": ""
           }
          },
          "colorscale": {
           "diverging": [
            [
             0,
             "#8e0152"
            ],
            [
             0.1,
             "#c51b7d"
            ],
            [
             0.2,
             "#de77ae"
            ],
            [
             0.3,
             "#f1b6da"
            ],
            [
             0.4,
             "#fde0ef"
            ],
            [
             0.5,
             "#f7f7f7"
            ],
            [
             0.6,
             "#e6f5d0"
            ],
            [
             0.7,
             "#b8e186"
            ],
            [
             0.8,
             "#7fbc41"
            ],
            [
             0.9,
             "#4d9221"
            ],
            [
             1,
             "#276419"
            ]
           ],
           "sequential": [
            [
             0,
             "#0d0887"
            ],
            [
             0.1111111111111111,
             "#46039f"
            ],
            [
             0.2222222222222222,
             "#7201a8"
            ],
            [
             0.3333333333333333,
             "#9c179e"
            ],
            [
             0.4444444444444444,
             "#bd3786"
            ],
            [
             0.5555555555555556,
             "#d8576b"
            ],
            [
             0.6666666666666666,
             "#ed7953"
            ],
            [
             0.7777777777777778,
             "#fb9f3a"
            ],
            [
             0.8888888888888888,
             "#fdca26"
            ],
            [
             1,
             "#f0f921"
            ]
           ],
           "sequentialminus": [
            [
             0,
             "#0d0887"
            ],
            [
             0.1111111111111111,
             "#46039f"
            ],
            [
             0.2222222222222222,
             "#7201a8"
            ],
            [
             0.3333333333333333,
             "#9c179e"
            ],
            [
             0.4444444444444444,
             "#bd3786"
            ],
            [
             0.5555555555555556,
             "#d8576b"
            ],
            [
             0.6666666666666666,
             "#ed7953"
            ],
            [
             0.7777777777777778,
             "#fb9f3a"
            ],
            [
             0.8888888888888888,
             "#fdca26"
            ],
            [
             1,
             "#f0f921"
            ]
           ]
          },
          "colorway": [
           "#636efa",
           "#EF553B",
           "#00cc96",
           "#ab63fa",
           "#FFA15A",
           "#19d3f3",
           "#FF6692",
           "#B6E880",
           "#FF97FF",
           "#FECB52"
          ],
          "font": {
           "color": "#2a3f5f"
          },
          "geo": {
           "bgcolor": "white",
           "lakecolor": "white",
           "landcolor": "#E5ECF6",
           "showlakes": true,
           "showland": true,
           "subunitcolor": "white"
          },
          "hoverlabel": {
           "align": "left"
          },
          "hovermode": "closest",
          "mapbox": {
           "style": "light"
          },
          "paper_bgcolor": "white",
          "plot_bgcolor": "#E5ECF6",
          "polar": {
           "angularaxis": {
            "gridcolor": "white",
            "linecolor": "white",
            "ticks": ""
           },
           "bgcolor": "#E5ECF6",
           "radialaxis": {
            "gridcolor": "white",
            "linecolor": "white",
            "ticks": ""
           }
          },
          "scene": {
           "xaxis": {
            "backgroundcolor": "#E5ECF6",
            "gridcolor": "white",
            "gridwidth": 2,
            "linecolor": "white",
            "showbackground": true,
            "ticks": "",
            "zerolinecolor": "white"
           },
           "yaxis": {
            "backgroundcolor": "#E5ECF6",
            "gridcolor": "white",
            "gridwidth": 2,
            "linecolor": "white",
            "showbackground": true,
            "ticks": "",
            "zerolinecolor": "white"
           },
           "zaxis": {
            "backgroundcolor": "#E5ECF6",
            "gridcolor": "white",
            "gridwidth": 2,
            "linecolor": "white",
            "showbackground": true,
            "ticks": "",
            "zerolinecolor": "white"
           }
          },
          "shapedefaults": {
           "line": {
            "color": "#2a3f5f"
           }
          },
          "ternary": {
           "aaxis": {
            "gridcolor": "white",
            "linecolor": "white",
            "ticks": ""
           },
           "baxis": {
            "gridcolor": "white",
            "linecolor": "white",
            "ticks": ""
           },
           "bgcolor": "#E5ECF6",
           "caxis": {
            "gridcolor": "white",
            "linecolor": "white",
            "ticks": ""
           }
          },
          "title": {
           "x": 0.05
          },
          "xaxis": {
           "automargin": true,
           "gridcolor": "white",
           "linecolor": "white",
           "ticks": "",
           "title": {
            "standoff": 15
           },
           "zerolinecolor": "white",
           "zerolinewidth": 2
          },
          "yaxis": {
           "automargin": true,
           "gridcolor": "white",
           "linecolor": "white",
           "ticks": "",
           "title": {
            "standoff": 15
           },
           "zerolinecolor": "white",
           "zerolinewidth": 2
          }
         }
        },
        "title": {
         "text": "Dropdown Filters by Category and Subcategory"
        },
        "updatemenus": [
         {
          "buttons": [
           {
            "args": [
             {
              "visible": [
               true,
               true,
               true,
               true,
               true,
               true
              ]
             },
             {
              "annotations": [
               {
                "showarrow": false,
                "text": "Total Value: 1010",
                "x": 0.5,
                "y": 1.15
               }
              ],
              "title": "All Categories"
             }
            ],
            "label": "All Categories",
            "method": "update"
           },
           {
            "args": [
             {
              "visible": [
               true,
               true,
               false,
               false,
               false,
               false
              ]
             },
             {
              "annotations": [
               {
                "showarrow": false,
                "text": "Total Value: 250",
                "x": 0.5,
                "y": 1.15
               }
              ],
              "title": "Category A"
             }
            ],
            "label": "Category A",
            "method": "update"
           },
           {
            "args": [
             {
              "visible": [
               false,
               false,
               true,
               true,
               false,
               false
              ]
             },
             {
              "annotations": [
               {
                "showarrow": false,
                "text": "Total Value: 300",
                "x": 0.5,
                "y": 1.15
               }
              ],
              "title": "Category B"
             }
            ],
            "label": "Category B",
            "method": "update"
           },
           {
            "args": [
             {
              "visible": [
               false,
               false,
               false,
               false,
               true,
               true
              ]
             },
             {
              "annotations": [
               {
                "showarrow": false,
                "text": "Total Value: 460",
                "x": 0.5,
                "y": 1.15
               }
              ],
              "title": "Category C"
             }
            ],
            "label": "Category C",
            "method": "update"
           }
          ],
          "direction": "down",
          "showactive": true,
          "x": 0.85,
          "y": 1.1
         },
         {
          "buttons": [
           {
            "args": [
             {
              "visible": [
               true,
               true,
               true,
               true,
               true,
               true
              ]
             },
             {
              "annotations": [
               {
                "showarrow": false,
                "text": "Total Value: 1010",
                "x": 0.5,
                "y": 1.15
               }
              ],
              "title": "All Subcategories"
             }
            ],
            "label": "All Subcategories",
            "method": "update"
           },
           {
            "args": [
             {
              "visible": [
               true,
               false,
               true,
               false,
               true,
               false
              ]
             },
             {
              "annotations": [
               {
                "showarrow": false,
                "text": "Total Value: 440",
                "x": 0.5,
                "y": 1.15
               }
              ],
              "title": "Subcategory X"
             }
            ],
            "label": "Subcategory X",
            "method": "update"
           },
           {
            "args": [
             {
              "visible": [
               false,
               true,
               false,
               true,
               false,
               true
              ]
             },
             {
              "annotations": [
               {
                "showarrow": false,
                "text": "Total Value: 570",
                "x": 0.5,
                "y": 1.15
               }
              ],
              "title": "Subcategory Y"
             }
            ],
            "label": "Subcategory Y",
            "method": "update"
           }
          ],
          "direction": "down",
          "showactive": true,
          "x": 0.95,
          "y": 1.1
         }
        ]
       }
      }
     },
     "metadata": {},
     "output_type": "display_data"
    }
   ],
   "source": [
    "import plotly.graph_objects as go\n",
    "import pandas as pd\n",
    "\n",
    "# Sample data with category, subcategory, and total_value columns\n",
    "data = {\n",
    "    \"Category\": [\"A\", \"A\", \"B\", \"B\", \"C\", \"C\"],\n",
    "    \"Subcategory\": [\"X\", \"Y\", \"X\", \"Y\", \"X\", \"Y\"],\n",
    "    \"X\": [1, 2, 3, 4, 5, 6],\n",
    "    \"Y\": [10, 15, 13, 17, 21, 25],\n",
    "    \"total_value\": [100, 150, 130, 170, 210, 250],  # New column for summing\n",
    "}\n",
    "df = pd.DataFrame(data)\n",
    "\n",
    "# Create the figure\n",
    "fig = go.Figure()\n",
    "\n",
    "# Add traces for each combination of category and subcategory\n",
    "for category in df[\"Category\"].unique():\n",
    "    for subcategory in df[\"Subcategory\"].unique():\n",
    "        filtered_df = df[(df[\"Category\"] == category) & (df[\"Subcategory\"] == subcategory)]\n",
    "        fig.add_trace(\n",
    "            go.Scatter(\n",
    "                x=filtered_df[\"X\"],\n",
    "                y=filtered_df[\"Y\"],\n",
    "                name=f\"{category} - {subcategory}\",\n",
    "                visible=True if (category == \"A\" and subcategory == \"X\") else False,  # Show only one trace by default\n",
    "            )\n",
    "        )\n",
    "\n",
    "# Function to calculate the sum of total_value based on visible traces\n",
    "def calculate_total_value(visible_traces):\n",
    "    total = 0\n",
    "    for trace, visible in zip(fig.data, visible_traces):\n",
    "        if visible:\n",
    "            category, subcategory = trace.name.split(\" - \")\n",
    "            filtered_df = df[(df[\"Category\"] == category) & (df[\"Subcategory\"] == subcategory)]\n",
    "            total += filtered_df[\"total_value\"].sum()\n",
    "    return total\n",
    "\n",
    "# Initial total value calculation\n",
    "initial_total = calculate_total_value([trace.visible for trace in fig.data])\n",
    "\n",
    "# Create dropdown menu for Category (first dropdown on the right)\n",
    "category_dropdown = [\n",
    "    {\n",
    "        \"label\": \"All Categories\",\n",
    "        \"method\": \"update\",\n",
    "        \"args\": [\n",
    "            {\"visible\": [True] * len(fig.data)},\n",
    "            {\n",
    "                \"title\": \"All Categories\",\n",
    "                \"annotations\": [{\"text\": f\"Total Value: {calculate_total_value([True] * len(fig.data))}\", \"x\": 0.5, \"y\": 1.15, \"showarrow\": False}],\n",
    "            },\n",
    "        ],\n",
    "    }\n",
    "] + [\n",
    "    {\n",
    "        \"label\": f\"Category {category}\",\n",
    "        \"method\": \"update\",\n",
    "        \"args\": [\n",
    "            {\"visible\": [trace.name.startswith(f\"{category}\") for trace in fig.data]},\n",
    "            {\n",
    "                \"title\": f\"Category {category}\",\n",
    "                \"annotations\": [\n",
    "                    {\n",
    "                        \"text\": f\"Total Value: {calculate_total_value([trace.name.startswith(f'{category}') for trace in fig.data])}\",\n",
    "                        \"x\": 0.5,\n",
    "                        \"y\": 1.15,\n",
    "                        \"showarrow\": False,\n",
    "                    }\n",
    "                ],\n",
    "            },\n",
    "        ],\n",
    "    }\n",
    "    for category in df[\"Category\"].unique()\n",
    "]\n",
    "\n",
    "# Create dropdown menu for Subcategory (second dropdown on the right)\n",
    "subcategory_dropdown = [\n",
    "    {\n",
    "        \"label\": \"All Subcategories\",\n",
    "        \"method\": \"update\",\n",
    "        \"args\": [\n",
    "            {\"visible\": [True] * len(fig.data)},\n",
    "            {\n",
    "                \"title\": \"All Subcategories\",\n",
    "                \"annotations\": [{\"text\": f\"Total Value: {calculate_total_value([True] * len(fig.data))}\", \"x\": 0.5, \"y\": 1.15, \"showarrow\": False}],\n",
    "            },\n",
    "        ],\n",
    "    }\n",
    "] + [\n",
    "    {\n",
    "        \"label\": f\"Subcategory {subcategory}\",\n",
    "        \"method\": \"update\",\n",
    "        \"args\": [\n",
    "            {\"visible\": [trace.name.endswith(f\"{subcategory}\") for trace in fig.data]},\n",
    "            {\n",
    "                \"title\": f\"Subcategory {subcategory}\",\n",
    "                \"annotations\": [\n",
    "                    {\n",
    "                        \"text\": f\"Total Value: {calculate_total_value([trace.name.endswith(f'{subcategory}') for trace in fig.data])}\",\n",
    "                        \"x\": 0.5,\n",
    "                        \"y\": 1.15,\n",
    "                        \"showarrow\": False,\n",
    "                    }\n",
    "                ],\n",
    "            },\n",
    "        ],\n",
    "    }\n",
    "    for subcategory in df[\"Subcategory\"].unique()\n",
    "]\n",
    "\n",
    "# Update layout with dropdowns and initial annotation\n",
    "fig.update_layout(\n",
    "    updatemenus=[\n",
    "        # First dropdown (Category)\n",
    "        {\n",
    "            \"buttons\": category_dropdown,\n",
    "            \"direction\": \"down\",\n",
    "            \"showactive\": True,\n",
    "            \"x\": 0.85,  # Position on the right\n",
    "            \"y\": 1.1,\n",
    "        },\n",
    "        # Second dropdown (Subcategory)\n",
    "        {\n",
    "            \"buttons\": subcategory_dropdown,\n",
    "            \"direction\": \"down\",\n",
    "            \"showactive\": True,\n",
    "            \"x\": 0.95,  # Position to the right of the first dropdown\n",
    "            \"y\": 1.1,\n",
    "        },\n",
    "    ],\n",
    "    title=\"Dropdown Filters by Category and Subcategory\",\n",
    "    annotations=[\n",
    "        {\n",
    "            \"text\": f\"Total Value: {initial_total}\",\n",
    "            \"x\": 0.5,  # Center of the chart\n",
    "            \"y\": 1.15,  # Above the title\n",
    "            \"showarrow\": False,\n",
    "            \"font\": {\"size\": 16},\n",
    "        }\n",
    "    ],\n",
    ")\n",
    "\n",
    "# Export to HTML\n",
    "fig.write_html(\"plot_with_dynamic_total_value.html\")\n",
    "\n",
    "# Show the plot (optional)\n",
    "fig.show()"
   ]
  },
  {
   "cell_type": "code",
   "execution_count": 3,
   "metadata": {},
   "outputs": [
    {
     "data": {
      "application/vnd.plotly.v1+json": {
       "config": {
        "plotlyServerURL": "https://plot.ly"
       },
       "data": [
        {
         "name": "A - X",
         "type": "scatter",
         "visible": true,
         "x": {
          "bdata": "AQ==",
          "dtype": "i1"
         },
         "y": {
          "bdata": "Cg==",
          "dtype": "i1"
         }
        },
        {
         "name": "A - Y",
         "type": "scatter",
         "visible": true,
         "x": {
          "bdata": "Ag==",
          "dtype": "i1"
         },
         "y": {
          "bdata": "Dw==",
          "dtype": "i1"
         }
        },
        {
         "name": "B - X",
         "type": "scatter",
         "visible": true,
         "x": {
          "bdata": "Aw==",
          "dtype": "i1"
         },
         "y": {
          "bdata": "DQ==",
          "dtype": "i1"
         }
        },
        {
         "name": "B - Y",
         "type": "scatter",
         "visible": true,
         "x": {
          "bdata": "BA==",
          "dtype": "i1"
         },
         "y": {
          "bdata": "EQ==",
          "dtype": "i1"
         }
        },
        {
         "name": "C - X",
         "type": "scatter",
         "visible": true,
         "x": {
          "bdata": "BQ==",
          "dtype": "i1"
         },
         "y": {
          "bdata": "FQ==",
          "dtype": "i1"
         }
        },
        {
         "name": "C - Y",
         "type": "scatter",
         "visible": true,
         "x": {
          "bdata": "Bg==",
          "dtype": "i1"
         },
         "y": {
          "bdata": "GQ==",
          "dtype": "i1"
         }
        }
       ],
       "layout": {
        "annotations": [
         {
          "font": {
           "size": 16
          },
          "showarrow": false,
          "text": "Total Value: 1010",
          "x": 0.5,
          "y": 1.15
         }
        ],
        "template": {
         "data": {
          "bar": [
           {
            "error_x": {
             "color": "#2a3f5f"
            },
            "error_y": {
             "color": "#2a3f5f"
            },
            "marker": {
             "line": {
              "color": "#E5ECF6",
              "width": 0.5
             },
             "pattern": {
              "fillmode": "overlay",
              "size": 10,
              "solidity": 0.2
             }
            },
            "type": "bar"
           }
          ],
          "barpolar": [
           {
            "marker": {
             "line": {
              "color": "#E5ECF6",
              "width": 0.5
             },
             "pattern": {
              "fillmode": "overlay",
              "size": 10,
              "solidity": 0.2
             }
            },
            "type": "barpolar"
           }
          ],
          "carpet": [
           {
            "aaxis": {
             "endlinecolor": "#2a3f5f",
             "gridcolor": "white",
             "linecolor": "white",
             "minorgridcolor": "white",
             "startlinecolor": "#2a3f5f"
            },
            "baxis": {
             "endlinecolor": "#2a3f5f",
             "gridcolor": "white",
             "linecolor": "white",
             "minorgridcolor": "white",
             "startlinecolor": "#2a3f5f"
            },
            "type": "carpet"
           }
          ],
          "choropleth": [
           {
            "colorbar": {
             "outlinewidth": 0,
             "ticks": ""
            },
            "type": "choropleth"
           }
          ],
          "contour": [
           {
            "colorbar": {
             "outlinewidth": 0,
             "ticks": ""
            },
            "colorscale": [
             [
              0,
              "#0d0887"
             ],
             [
              0.1111111111111111,
              "#46039f"
             ],
             [
              0.2222222222222222,
              "#7201a8"
             ],
             [
              0.3333333333333333,
              "#9c179e"
             ],
             [
              0.4444444444444444,
              "#bd3786"
             ],
             [
              0.5555555555555556,
              "#d8576b"
             ],
             [
              0.6666666666666666,
              "#ed7953"
             ],
             [
              0.7777777777777778,
              "#fb9f3a"
             ],
             [
              0.8888888888888888,
              "#fdca26"
             ],
             [
              1,
              "#f0f921"
             ]
            ],
            "type": "contour"
           }
          ],
          "contourcarpet": [
           {
            "colorbar": {
             "outlinewidth": 0,
             "ticks": ""
            },
            "type": "contourcarpet"
           }
          ],
          "heatmap": [
           {
            "colorbar": {
             "outlinewidth": 0,
             "ticks": ""
            },
            "colorscale": [
             [
              0,
              "#0d0887"
             ],
             [
              0.1111111111111111,
              "#46039f"
             ],
             [
              0.2222222222222222,
              "#7201a8"
             ],
             [
              0.3333333333333333,
              "#9c179e"
             ],
             [
              0.4444444444444444,
              "#bd3786"
             ],
             [
              0.5555555555555556,
              "#d8576b"
             ],
             [
              0.6666666666666666,
              "#ed7953"
             ],
             [
              0.7777777777777778,
              "#fb9f3a"
             ],
             [
              0.8888888888888888,
              "#fdca26"
             ],
             [
              1,
              "#f0f921"
             ]
            ],
            "type": "heatmap"
           }
          ],
          "histogram": [
           {
            "marker": {
             "pattern": {
              "fillmode": "overlay",
              "size": 10,
              "solidity": 0.2
             }
            },
            "type": "histogram"
           }
          ],
          "histogram2d": [
           {
            "colorbar": {
             "outlinewidth": 0,
             "ticks": ""
            },
            "colorscale": [
             [
              0,
              "#0d0887"
             ],
             [
              0.1111111111111111,
              "#46039f"
             ],
             [
              0.2222222222222222,
              "#7201a8"
             ],
             [
              0.3333333333333333,
              "#9c179e"
             ],
             [
              0.4444444444444444,
              "#bd3786"
             ],
             [
              0.5555555555555556,
              "#d8576b"
             ],
             [
              0.6666666666666666,
              "#ed7953"
             ],
             [
              0.7777777777777778,
              "#fb9f3a"
             ],
             [
              0.8888888888888888,
              "#fdca26"
             ],
             [
              1,
              "#f0f921"
             ]
            ],
            "type": "histogram2d"
           }
          ],
          "histogram2dcontour": [
           {
            "colorbar": {
             "outlinewidth": 0,
             "ticks": ""
            },
            "colorscale": [
             [
              0,
              "#0d0887"
             ],
             [
              0.1111111111111111,
              "#46039f"
             ],
             [
              0.2222222222222222,
              "#7201a8"
             ],
             [
              0.3333333333333333,
              "#9c179e"
             ],
             [
              0.4444444444444444,
              "#bd3786"
             ],
             [
              0.5555555555555556,
              "#d8576b"
             ],
             [
              0.6666666666666666,
              "#ed7953"
             ],
             [
              0.7777777777777778,
              "#fb9f3a"
             ],
             [
              0.8888888888888888,
              "#fdca26"
             ],
             [
              1,
              "#f0f921"
             ]
            ],
            "type": "histogram2dcontour"
           }
          ],
          "mesh3d": [
           {
            "colorbar": {
             "outlinewidth": 0,
             "ticks": ""
            },
            "type": "mesh3d"
           }
          ],
          "parcoords": [
           {
            "line": {
             "colorbar": {
              "outlinewidth": 0,
              "ticks": ""
             }
            },
            "type": "parcoords"
           }
          ],
          "pie": [
           {
            "automargin": true,
            "type": "pie"
           }
          ],
          "scatter": [
           {
            "fillpattern": {
             "fillmode": "overlay",
             "size": 10,
             "solidity": 0.2
            },
            "type": "scatter"
           }
          ],
          "scatter3d": [
           {
            "line": {
             "colorbar": {
              "outlinewidth": 0,
              "ticks": ""
             }
            },
            "marker": {
             "colorbar": {
              "outlinewidth": 0,
              "ticks": ""
             }
            },
            "type": "scatter3d"
           }
          ],
          "scattercarpet": [
           {
            "marker": {
             "colorbar": {
              "outlinewidth": 0,
              "ticks": ""
             }
            },
            "type": "scattercarpet"
           }
          ],
          "scattergeo": [
           {
            "marker": {
             "colorbar": {
              "outlinewidth": 0,
              "ticks": ""
             }
            },
            "type": "scattergeo"
           }
          ],
          "scattergl": [
           {
            "marker": {
             "colorbar": {
              "outlinewidth": 0,
              "ticks": ""
             }
            },
            "type": "scattergl"
           }
          ],
          "scattermap": [
           {
            "marker": {
             "colorbar": {
              "outlinewidth": 0,
              "ticks": ""
             }
            },
            "type": "scattermap"
           }
          ],
          "scattermapbox": [
           {
            "marker": {
             "colorbar": {
              "outlinewidth": 0,
              "ticks": ""
             }
            },
            "type": "scattermapbox"
           }
          ],
          "scatterpolar": [
           {
            "marker": {
             "colorbar": {
              "outlinewidth": 0,
              "ticks": ""
             }
            },
            "type": "scatterpolar"
           }
          ],
          "scatterpolargl": [
           {
            "marker": {
             "colorbar": {
              "outlinewidth": 0,
              "ticks": ""
             }
            },
            "type": "scatterpolargl"
           }
          ],
          "scatterternary": [
           {
            "marker": {
             "colorbar": {
              "outlinewidth": 0,
              "ticks": ""
             }
            },
            "type": "scatterternary"
           }
          ],
          "surface": [
           {
            "colorbar": {
             "outlinewidth": 0,
             "ticks": ""
            },
            "colorscale": [
             [
              0,
              "#0d0887"
             ],
             [
              0.1111111111111111,
              "#46039f"
             ],
             [
              0.2222222222222222,
              "#7201a8"
             ],
             [
              0.3333333333333333,
              "#9c179e"
             ],
             [
              0.4444444444444444,
              "#bd3786"
             ],
             [
              0.5555555555555556,
              "#d8576b"
             ],
             [
              0.6666666666666666,
              "#ed7953"
             ],
             [
              0.7777777777777778,
              "#fb9f3a"
             ],
             [
              0.8888888888888888,
              "#fdca26"
             ],
             [
              1,
              "#f0f921"
             ]
            ],
            "type": "surface"
           }
          ],
          "table": [
           {
            "cells": {
             "fill": {
              "color": "#EBF0F8"
             },
             "line": {
              "color": "white"
             }
            },
            "header": {
             "fill": {
              "color": "#C8D4E3"
             },
             "line": {
              "color": "white"
             }
            },
            "type": "table"
           }
          ]
         },
         "layout": {
          "annotationdefaults": {
           "arrowcolor": "#2a3f5f",
           "arrowhead": 0,
           "arrowwidth": 1
          },
          "autotypenumbers": "strict",
          "coloraxis": {
           "colorbar": {
            "outlinewidth": 0,
            "ticks": ""
           }
          },
          "colorscale": {
           "diverging": [
            [
             0,
             "#8e0152"
            ],
            [
             0.1,
             "#c51b7d"
            ],
            [
             0.2,
             "#de77ae"
            ],
            [
             0.3,
             "#f1b6da"
            ],
            [
             0.4,
             "#fde0ef"
            ],
            [
             0.5,
             "#f7f7f7"
            ],
            [
             0.6,
             "#e6f5d0"
            ],
            [
             0.7,
             "#b8e186"
            ],
            [
             0.8,
             "#7fbc41"
            ],
            [
             0.9,
             "#4d9221"
            ],
            [
             1,
             "#276419"
            ]
           ],
           "sequential": [
            [
             0,
             "#0d0887"
            ],
            [
             0.1111111111111111,
             "#46039f"
            ],
            [
             0.2222222222222222,
             "#7201a8"
            ],
            [
             0.3333333333333333,
             "#9c179e"
            ],
            [
             0.4444444444444444,
             "#bd3786"
            ],
            [
             0.5555555555555556,
             "#d8576b"
            ],
            [
             0.6666666666666666,
             "#ed7953"
            ],
            [
             0.7777777777777778,
             "#fb9f3a"
            ],
            [
             0.8888888888888888,
             "#fdca26"
            ],
            [
             1,
             "#f0f921"
            ]
           ],
           "sequentialminus": [
            [
             0,
             "#0d0887"
            ],
            [
             0.1111111111111111,
             "#46039f"
            ],
            [
             0.2222222222222222,
             "#7201a8"
            ],
            [
             0.3333333333333333,
             "#9c179e"
            ],
            [
             0.4444444444444444,
             "#bd3786"
            ],
            [
             0.5555555555555556,
             "#d8576b"
            ],
            [
             0.6666666666666666,
             "#ed7953"
            ],
            [
             0.7777777777777778,
             "#fb9f3a"
            ],
            [
             0.8888888888888888,
             "#fdca26"
            ],
            [
             1,
             "#f0f921"
            ]
           ]
          },
          "colorway": [
           "#636efa",
           "#EF553B",
           "#00cc96",
           "#ab63fa",
           "#FFA15A",
           "#19d3f3",
           "#FF6692",
           "#B6E880",
           "#FF97FF",
           "#FECB52"
          ],
          "font": {
           "color": "#2a3f5f"
          },
          "geo": {
           "bgcolor": "white",
           "lakecolor": "white",
           "landcolor": "#E5ECF6",
           "showlakes": true,
           "showland": true,
           "subunitcolor": "white"
          },
          "hoverlabel": {
           "align": "left"
          },
          "hovermode": "closest",
          "mapbox": {
           "style": "light"
          },
          "paper_bgcolor": "white",
          "plot_bgcolor": "#E5ECF6",
          "polar": {
           "angularaxis": {
            "gridcolor": "white",
            "linecolor": "white",
            "ticks": ""
           },
           "bgcolor": "#E5ECF6",
           "radialaxis": {
            "gridcolor": "white",
            "linecolor": "white",
            "ticks": ""
           }
          },
          "scene": {
           "xaxis": {
            "backgroundcolor": "#E5ECF6",
            "gridcolor": "white",
            "gridwidth": 2,
            "linecolor": "white",
            "showbackground": true,
            "ticks": "",
            "zerolinecolor": "white"
           },
           "yaxis": {
            "backgroundcolor": "#E5ECF6",
            "gridcolor": "white",
            "gridwidth": 2,
            "linecolor": "white",
            "showbackground": true,
            "ticks": "",
            "zerolinecolor": "white"
           },
           "zaxis": {
            "backgroundcolor": "#E5ECF6",
            "gridcolor": "white",
            "gridwidth": 2,
            "linecolor": "white",
            "showbackground": true,
            "ticks": "",
            "zerolinecolor": "white"
           }
          },
          "shapedefaults": {
           "line": {
            "color": "#2a3f5f"
           }
          },
          "ternary": {
           "aaxis": {
            "gridcolor": "white",
            "linecolor": "white",
            "ticks": ""
           },
           "baxis": {
            "gridcolor": "white",
            "linecolor": "white",
            "ticks": ""
           },
           "bgcolor": "#E5ECF6",
           "caxis": {
            "gridcolor": "white",
            "linecolor": "white",
            "ticks": ""
           }
          },
          "title": {
           "x": 0.05
          },
          "xaxis": {
           "automargin": true,
           "gridcolor": "white",
           "linecolor": "white",
           "ticks": "",
           "title": {
            "standoff": 15
           },
           "zerolinecolor": "white",
           "zerolinewidth": 2
          },
          "yaxis": {
           "automargin": true,
           "gridcolor": "white",
           "linecolor": "white",
           "ticks": "",
           "title": {
            "standoff": 15
           },
           "zerolinecolor": "white",
           "zerolinewidth": 2
          }
         }
        },
        "title": {
         "text": "Dropdown Filters by Category and Subcategory"
        },
        "updatemenus": [
         {
          "buttons": [
           {
            "args": [
             {
              "visible": [
               true,
               true,
               true,
               true,
               true,
               true
              ]
             },
             {
              "annotations": [
               {
                "showarrow": false,
                "text": "Total Value: 1010",
                "x": 0.5,
                "y": 1.15
               }
              ],
              "title": "All Categories"
             }
            ],
            "label": "All Categories",
            "method": "update"
           },
           {
            "args": [
             {
              "visible": [
               true,
               true,
               false,
               false,
               false,
               false
              ]
             },
             {
              "annotations": [
               {
                "showarrow": false,
                "text": "Total Value: 250",
                "x": 0.5,
                "y": 1.15
               }
              ],
              "title": "Category A"
             }
            ],
            "label": "Category A",
            "method": "update"
           },
           {
            "args": [
             {
              "visible": [
               false,
               false,
               true,
               true,
               false,
               false
              ]
             },
             {
              "annotations": [
               {
                "showarrow": false,
                "text": "Total Value: 300",
                "x": 0.5,
                "y": 1.15
               }
              ],
              "title": "Category B"
             }
            ],
            "label": "Category B",
            "method": "update"
           },
           {
            "args": [
             {
              "visible": [
               false,
               false,
               false,
               false,
               true,
               true
              ]
             },
             {
              "annotations": [
               {
                "showarrow": false,
                "text": "Total Value: 460",
                "x": 0.5,
                "y": 1.15
               }
              ],
              "title": "Category C"
             }
            ],
            "label": "Category C",
            "method": "update"
           }
          ],
          "direction": "down",
          "showactive": true,
          "x": 0.85,
          "y": 1.1
         },
         {
          "buttons": [
           {
            "args": [
             {
              "visible": [
               true,
               true,
               true,
               true,
               true,
               true
              ]
             },
             {
              "annotations": [
               {
                "showarrow": false,
                "text": "Total Value: 1010",
                "x": 0.5,
                "y": 1.15
               }
              ],
              "title": "All Subcategories"
             }
            ],
            "label": "All Subcategories",
            "method": "update"
           },
           {
            "args": [
             {
              "visible": [
               true,
               false,
               true,
               false,
               true,
               false
              ]
             },
             {
              "annotations": [
               {
                "showarrow": false,
                "text": "Total Value: 440",
                "x": 0.5,
                "y": 1.15
               }
              ],
              "title": "Subcategory X"
             }
            ],
            "label": "Subcategory X",
            "method": "update"
           },
           {
            "args": [
             {
              "visible": [
               false,
               true,
               false,
               true,
               false,
               true
              ]
             },
             {
              "annotations": [
               {
                "showarrow": false,
                "text": "Total Value: 570",
                "x": 0.5,
                "y": 1.15
               }
              ],
              "title": "Subcategory Y"
             }
            ],
            "label": "Subcategory Y",
            "method": "update"
           }
          ],
          "direction": "down",
          "showactive": true,
          "x": 0.95,
          "y": 1.1
         }
        ]
       }
      }
     },
     "metadata": {},
     "output_type": "display_data"
    }
   ],
   "source": [
    "import plotly.graph_objects as go\n",
    "import pandas as pd\n",
    "\n",
    "# Sample data with category, subcategory, and total_value columns\n",
    "data = {\n",
    "    \"Category\": [\"A\", \"A\", \"B\", \"B\", \"C\", \"C\"],\n",
    "    \"Subcategory\": [\"X\", \"Y\", \"X\", \"Y\", \"X\", \"Y\"],\n",
    "    \"X\": [1, 2, 3, 4, 5, 6],\n",
    "    \"Y\": [10, 15, 13, 17, 21, 25],\n",
    "    \"total_value\": [100, 150, 130, 170, 210, 250],  # New column for summing\n",
    "}\n",
    "df = pd.DataFrame(data)\n",
    "\n",
    "# Create the figure\n",
    "fig = go.Figure()\n",
    "\n",
    "# Add traces for each combination of category and subcategory\n",
    "for category in df[\"Category\"].unique():\n",
    "    for subcategory in df[\"Subcategory\"].unique():\n",
    "        filtered_df = df[(df[\"Category\"] == category) & (df[\"Subcategory\"] == subcategory)]\n",
    "        fig.add_trace(\n",
    "            go.Scatter(\n",
    "                x=filtered_df[\"X\"],\n",
    "                y=filtered_df[\"Y\"],\n",
    "                name=f\"{category} - {subcategory}\",\n",
    "                visible=True,  # All traces are visible by default\n",
    "            )\n",
    "        )\n",
    "\n",
    "# Function to calculate the sum of total_value based on visible traces\n",
    "def calculate_total_value(visible_traces):\n",
    "    total = 0\n",
    "    for trace, visible in zip(fig.data, visible_traces):\n",
    "        if visible:\n",
    "            category, subcategory = trace.name.split(\" - \")\n",
    "            filtered_df = df[(df[\"Category\"] == category) & (df[\"Subcategory\"] == subcategory)]\n",
    "            total += filtered_df[\"total_value\"].sum()\n",
    "    return total\n",
    "\n",
    "# Initial total value calculation (all traces are visible)\n",
    "initial_total = calculate_total_value([True] * len(fig.data))\n",
    "\n",
    "# Create dropdown menu for Category (first dropdown on the right)\n",
    "category_dropdown = [\n",
    "    {\n",
    "        \"label\": \"All Categories\",\n",
    "        \"method\": \"update\",\n",
    "        \"args\": [\n",
    "            {\"visible\": [True] * len(fig.data)},\n",
    "            {\n",
    "                \"title\": \"All Categories\",\n",
    "                \"annotations\": [{\"text\": f\"Total Value: {calculate_total_value([True] * len(fig.data))}\", \"x\": 0.5, \"y\": 1.15, \"showarrow\": False}],\n",
    "            },\n",
    "        ],\n",
    "    }\n",
    "] + [\n",
    "    {\n",
    "        \"label\": f\"Category {category}\",\n",
    "        \"method\": \"update\",\n",
    "        \"args\": [\n",
    "            {\"visible\": [trace.name.startswith(f\"{category}\") for trace in fig.data]},\n",
    "            {\n",
    "                \"title\": f\"Category {category}\",\n",
    "                \"annotations\": [\n",
    "                    {\n",
    "                        \"text\": f\"Total Value: {calculate_total_value([trace.name.startswith(f'{category}') for trace in fig.data])}\",\n",
    "                        \"x\": 0.5,\n",
    "                        \"y\": 1.15,\n",
    "                        \"showarrow\": False,\n",
    "                    }\n",
    "                ],\n",
    "            },\n",
    "        ],\n",
    "    }\n",
    "    for category in df[\"Category\"].unique()\n",
    "]\n",
    "\n",
    "# Create dropdown menu for Subcategory (second dropdown on the right)\n",
    "subcategory_dropdown = [\n",
    "    {\n",
    "        \"label\": \"All Subcategories\",\n",
    "        \"method\": \"update\",\n",
    "        \"args\": [\n",
    "            {\"visible\": [True] * len(fig.data)},\n",
    "            {\n",
    "                \"title\": \"All Subcategories\",\n",
    "                \"annotations\": [{\"text\": f\"Total Value: {calculate_total_value([True] * len(fig.data))}\", \"x\": 0.5, \"y\": 1.15, \"showarrow\": False}],\n",
    "            },\n",
    "        ],\n",
    "    }\n",
    "] + [\n",
    "    {\n",
    "        \"label\": f\"Subcategory {subcategory}\",\n",
    "        \"method\": \"update\",\n",
    "        \"args\": [\n",
    "            {\"visible\": [trace.name.endswith(f\"{subcategory}\") for trace in fig.data]},\n",
    "            {\n",
    "                \"title\": f\"Subcategory {subcategory}\",\n",
    "                \"annotations\": [\n",
    "                    {\n",
    "                        \"text\": f\"Total Value: {calculate_total_value([trace.name.endswith(f'{subcategory}') for trace in fig.data])}\",\n",
    "                        \"x\": 0.5,\n",
    "                        \"y\": 1.15,\n",
    "                        \"showarrow\": False,\n",
    "                    }\n",
    "                ],\n",
    "            },\n",
    "        ],\n",
    "    }\n",
    "    for subcategory in df[\"Subcategory\"].unique()\n",
    "]\n",
    "\n",
    "# Update layout with dropdowns and initial annotation\n",
    "fig.update_layout(\n",
    "    updatemenus=[\n",
    "        # First dropdown (Category)\n",
    "        {\n",
    "            \"buttons\": category_dropdown,\n",
    "            \"direction\": \"down\",\n",
    "            \"showactive\": True,\n",
    "            \"x\": 0.85,  # Position on the right\n",
    "            \"y\": 1.1,\n",
    "        },\n",
    "        # Second dropdown (Subcategory)\n",
    "        {\n",
    "            \"buttons\": subcategory_dropdown,\n",
    "            \"direction\": \"down\",\n",
    "            \"showactive\": True,\n",
    "            \"x\": 0.95,  # Position to the right of the first dropdown\n",
    "            \"y\": 1.1,\n",
    "        },\n",
    "    ],\n",
    "    title=\"Dropdown Filters by Category and Subcategory\",\n",
    "    annotations=[\n",
    "        {\n",
    "            \"text\": f\"Total Value: {initial_total}\",\n",
    "            \"x\": 0.5,  # Center of the chart\n",
    "            \"y\": 1.15,  # Above the title\n",
    "            \"showarrow\": False,\n",
    "            \"font\": {\"size\": 16},\n",
    "        }\n",
    "    ],\n",
    ")\n",
    "\n",
    "# Export to HTML\n",
    "fig.write_html(\"plot_with_dynamic_total_value.html\")\n",
    "\n",
    "# Show the plot (optional)\n",
    "fig.show()"
   ]
  },
  {
   "cell_type": "code",
   "execution_count": 4,
   "metadata": {},
   "outputs": [
    {
     "ename": "SyntaxError",
     "evalue": "incomplete input (1964153232.py, line 100)",
     "output_type": "error",
     "traceback": [
      "\u001b[1;36m  Cell \u001b[1;32mIn[4], line 100\u001b[1;36m\u001b[0m\n\u001b[1;33m    {\"text\": f\"Unique Items: {calculate_unique_count([True] * len(fig.data))\u001b[0m\n\u001b[1;37m                                                                            ^\u001b[0m\n\u001b[1;31mSyntaxError\u001b[0m\u001b[1;31m:\u001b[0m incomplete input\n"
     ]
    }
   ],
   "source": [
    "import plotly.graph_objects as go\n",
    "import pandas as pd\n",
    "\n",
    "# Sample data with category, subcategory, total_value, and item_id columns\n",
    "data = {\n",
    "    \"Category\": [\"A\", \"A\", \"B\", \"B\", \"C\", \"C\"],\n",
    "    \"Subcategory\": [\"X\", \"Y\", \"X\", \"Y\", \"X\", \"Y\"],\n",
    "    \"X\": [1, 2, 3, 4, 5, 6],\n",
    "    \"Y\": [10, 15, 13, 17, 21, 25],\n",
    "    \"total_value\": [100, 150, 130, 170, 210, 250],  # Column for summing\n",
    "    \"item_id\": [1, 2, 3, 4, 5, 6],  # Unique identifier for each item\n",
    "}\n",
    "df = pd.DataFrame(data)\n",
    "\n",
    "# Create the figure\n",
    "fig = go.Figure()\n",
    "\n",
    "# Add traces for each combination of category and subcategory\n",
    "for category in df[\"Category\"].unique():\n",
    "    for subcategory in df[\"Subcategory\"].unique():\n",
    "        filtered_df = df[(df[\"Category\"] == category) & (df[\"Subcategory\"] == subcategory)]\n",
    "        fig.add_trace(\n",
    "            go.Scatter(\n",
    "                x=filtered_df[\"X\"],\n",
    "                y=filtered_df[\"Y\"],\n",
    "                name=f\"{category} - {subcategory}\",\n",
    "                visible=True,  # All traces are visible by default\n",
    "            )\n",
    "        )\n",
    "\n",
    "# Function to calculate the sum of total_value based on visible traces\n",
    "def calculate_total_value(visible_traces):\n",
    "    total = 0\n",
    "    for trace, visible in zip(fig.data, visible_traces):\n",
    "        if visible:\n",
    "            category, subcategory = trace.name.split(\" - \")\n",
    "            filtered_df = df[(df[\"Category\"] == category) & (df[\"Subcategory\"] == subcategory)]\n",
    "            total += filtered_df[\"total_value\"].sum()\n",
    "    return total\n",
    "\n",
    "# Function to calculate the unique count of items based on visible traces\n",
    "def calculate_unique_count(visible_traces):\n",
    "    unique_items = set()\n",
    "    for trace, visible in zip(fig.data, visible_traces):\n",
    "        if visible:\n",
    "            category, subcategory = trace.name.split(\" - \")\n",
    "            filtered_df = df[(df[\"Category\"] == category) & (df[\"Subcategory\"] == subcategory)]\n",
    "            unique_items.update(filtered_df[\"item_id\"].tolist())\n",
    "    return len(unique_items)\n",
    "\n",
    "# Initial calculations (all traces are visible)\n",
    "initial_total = calculate_total_value([True] * len(fig.data))\n",
    "initial_unique_count = calculate_unique_count([True] * len(fig.data))\n",
    "\n",
    "# Create dropdown menu for Category (first dropdown on the right)\n",
    "category_dropdown = [\n",
    "    {\n",
    "        \"label\": \"All Categories\",\n",
    "        \"method\": \"update\",\n",
    "        \"args\": [\n",
    "            {\"visible\": [True] * len(fig.data)},\n",
    "            {\n",
    "                \"title\": \"All Categories\",\n",
    "                \"annotations\": [\n",
    "                    {\"text\": f\"Total Value: {calculate_total_value([True] * len(fig.data))}\", \"x\": 0.5, \"y\": 1.15, \"showarrow\": False},\n",
    "                    {\"text\": f\"Unique Items: {calculate_unique_count([True] * len(fig.data))}\", \"x\": 0.5, \"y\": 1.1, \"showarrow\": False},\n",
    "                ],\n",
    "            },\n",
    "        ],\n",
    "    }\n",
    "] + [\n",
    "    {\n",
    "        \"label\": f\"Category {category}\",\n",
    "        \"method\": \"update\",\n",
    "        \"args\": [\n",
    "            {\"visible\": [trace.name.startswith(f\"{category}\") for trace in fig.data]},\n",
    "            {\n",
    "                \"title\": f\"Category {category}\",\n",
    "                \"annotations\": [\n",
    "                    {\"text\": f\"Total Value: {calculate_total_value([trace.name.startswith(f'{category}') for trace in fig.data])}\", \"x\": 0.5, \"y\": 1.15, \"showarrow\": False},\n",
    "                    {\"text\": f\"Unique Items: {calculate_unique_count([trace.name.startswith(f'{category}') for trace in fig.data])}\", \"x\": 0.5, \"y\": 1.1, \"showarrow\": False},\n",
    "                ],\n",
    "            },\n",
    "        ],\n",
    "    }\n",
    "    for category in df[\"Category\"].unique()\n",
    "]\n",
    "\n",
    "# Create dropdown menu for Subcategory (second dropdown on the right)\n",
    "subcategory_dropdown = [\n",
    "    {\n",
    "        \"label\": \"All Subcategories\",\n",
    "        \"method\": \"update\",\n",
    "        \"args\": [\n",
    "            {\"visible\": [True] * len(fig.data)},\n",
    "            {\n",
    "                \"title\": \"All Subcategories\",\n",
    "                \"annotations\": [\n",
    "                    {\"text\": f\"Total Value: {calculate_total_value([True] * len(fig.data))}\", \"x\": 0.5, \"y\": 1.15, \"showarrow\": False},\n",
    "                    {\"text\": f\"Unique Items: {calculate_unique_count([True] * len(fig.data))"
   ]
  },
  {
   "cell_type": "code",
   "execution_count": 5,
   "metadata": {},
   "outputs": [
    {
     "data": {
      "application/vnd.plotly.v1+json": {
       "config": {
        "plotlyServerURL": "https://plot.ly"
       },
       "data": [
        {
         "name": "A - X",
         "type": "scatter",
         "visible": true,
         "x": {
          "bdata": "AQ==",
          "dtype": "i1"
         },
         "y": {
          "bdata": "Cg==",
          "dtype": "i1"
         }
        },
        {
         "name": "A - Y",
         "type": "scatter",
         "visible": true,
         "x": {
          "bdata": "Ag==",
          "dtype": "i1"
         },
         "y": {
          "bdata": "Dw==",
          "dtype": "i1"
         }
        },
        {
         "name": "B - X",
         "type": "scatter",
         "visible": true,
         "x": {
          "bdata": "Aw==",
          "dtype": "i1"
         },
         "y": {
          "bdata": "DQ==",
          "dtype": "i1"
         }
        },
        {
         "name": "B - Y",
         "type": "scatter",
         "visible": true,
         "x": {
          "bdata": "BA==",
          "dtype": "i1"
         },
         "y": {
          "bdata": "EQ==",
          "dtype": "i1"
         }
        },
        {
         "name": "C - X",
         "type": "scatter",
         "visible": true,
         "x": {
          "bdata": "BQ==",
          "dtype": "i1"
         },
         "y": {
          "bdata": "FQ==",
          "dtype": "i1"
         }
        },
        {
         "name": "C - Y",
         "type": "scatter",
         "visible": true,
         "x": {
          "bdata": "Bg==",
          "dtype": "i1"
         },
         "y": {
          "bdata": "GQ==",
          "dtype": "i1"
         }
        }
       ],
       "layout": {
        "annotations": [
         {
          "font": {
           "size": 16
          },
          "showarrow": false,
          "text": "Total Value: 1010",
          "x": 0.5,
          "y": 1.15
         },
         {
          "font": {
           "size": 16
          },
          "showarrow": false,
          "text": "Unique Items: 6",
          "x": 0.5,
          "y": 1.1
         }
        ],
        "template": {
         "data": {
          "bar": [
           {
            "error_x": {
             "color": "#2a3f5f"
            },
            "error_y": {
             "color": "#2a3f5f"
            },
            "marker": {
             "line": {
              "color": "#E5ECF6",
              "width": 0.5
             },
             "pattern": {
              "fillmode": "overlay",
              "size": 10,
              "solidity": 0.2
             }
            },
            "type": "bar"
           }
          ],
          "barpolar": [
           {
            "marker": {
             "line": {
              "color": "#E5ECF6",
              "width": 0.5
             },
             "pattern": {
              "fillmode": "overlay",
              "size": 10,
              "solidity": 0.2
             }
            },
            "type": "barpolar"
           }
          ],
          "carpet": [
           {
            "aaxis": {
             "endlinecolor": "#2a3f5f",
             "gridcolor": "white",
             "linecolor": "white",
             "minorgridcolor": "white",
             "startlinecolor": "#2a3f5f"
            },
            "baxis": {
             "endlinecolor": "#2a3f5f",
             "gridcolor": "white",
             "linecolor": "white",
             "minorgridcolor": "white",
             "startlinecolor": "#2a3f5f"
            },
            "type": "carpet"
           }
          ],
          "choropleth": [
           {
            "colorbar": {
             "outlinewidth": 0,
             "ticks": ""
            },
            "type": "choropleth"
           }
          ],
          "contour": [
           {
            "colorbar": {
             "outlinewidth": 0,
             "ticks": ""
            },
            "colorscale": [
             [
              0,
              "#0d0887"
             ],
             [
              0.1111111111111111,
              "#46039f"
             ],
             [
              0.2222222222222222,
              "#7201a8"
             ],
             [
              0.3333333333333333,
              "#9c179e"
             ],
             [
              0.4444444444444444,
              "#bd3786"
             ],
             [
              0.5555555555555556,
              "#d8576b"
             ],
             [
              0.6666666666666666,
              "#ed7953"
             ],
             [
              0.7777777777777778,
              "#fb9f3a"
             ],
             [
              0.8888888888888888,
              "#fdca26"
             ],
             [
              1,
              "#f0f921"
             ]
            ],
            "type": "contour"
           }
          ],
          "contourcarpet": [
           {
            "colorbar": {
             "outlinewidth": 0,
             "ticks": ""
            },
            "type": "contourcarpet"
           }
          ],
          "heatmap": [
           {
            "colorbar": {
             "outlinewidth": 0,
             "ticks": ""
            },
            "colorscale": [
             [
              0,
              "#0d0887"
             ],
             [
              0.1111111111111111,
              "#46039f"
             ],
             [
              0.2222222222222222,
              "#7201a8"
             ],
             [
              0.3333333333333333,
              "#9c179e"
             ],
             [
              0.4444444444444444,
              "#bd3786"
             ],
             [
              0.5555555555555556,
              "#d8576b"
             ],
             [
              0.6666666666666666,
              "#ed7953"
             ],
             [
              0.7777777777777778,
              "#fb9f3a"
             ],
             [
              0.8888888888888888,
              "#fdca26"
             ],
             [
              1,
              "#f0f921"
             ]
            ],
            "type": "heatmap"
           }
          ],
          "histogram": [
           {
            "marker": {
             "pattern": {
              "fillmode": "overlay",
              "size": 10,
              "solidity": 0.2
             }
            },
            "type": "histogram"
           }
          ],
          "histogram2d": [
           {
            "colorbar": {
             "outlinewidth": 0,
             "ticks": ""
            },
            "colorscale": [
             [
              0,
              "#0d0887"
             ],
             [
              0.1111111111111111,
              "#46039f"
             ],
             [
              0.2222222222222222,
              "#7201a8"
             ],
             [
              0.3333333333333333,
              "#9c179e"
             ],
             [
              0.4444444444444444,
              "#bd3786"
             ],
             [
              0.5555555555555556,
              "#d8576b"
             ],
             [
              0.6666666666666666,
              "#ed7953"
             ],
             [
              0.7777777777777778,
              "#fb9f3a"
             ],
             [
              0.8888888888888888,
              "#fdca26"
             ],
             [
              1,
              "#f0f921"
             ]
            ],
            "type": "histogram2d"
           }
          ],
          "histogram2dcontour": [
           {
            "colorbar": {
             "outlinewidth": 0,
             "ticks": ""
            },
            "colorscale": [
             [
              0,
              "#0d0887"
             ],
             [
              0.1111111111111111,
              "#46039f"
             ],
             [
              0.2222222222222222,
              "#7201a8"
             ],
             [
              0.3333333333333333,
              "#9c179e"
             ],
             [
              0.4444444444444444,
              "#bd3786"
             ],
             [
              0.5555555555555556,
              "#d8576b"
             ],
             [
              0.6666666666666666,
              "#ed7953"
             ],
             [
              0.7777777777777778,
              "#fb9f3a"
             ],
             [
              0.8888888888888888,
              "#fdca26"
             ],
             [
              1,
              "#f0f921"
             ]
            ],
            "type": "histogram2dcontour"
           }
          ],
          "mesh3d": [
           {
            "colorbar": {
             "outlinewidth": 0,
             "ticks": ""
            },
            "type": "mesh3d"
           }
          ],
          "parcoords": [
           {
            "line": {
             "colorbar": {
              "outlinewidth": 0,
              "ticks": ""
             }
            },
            "type": "parcoords"
           }
          ],
          "pie": [
           {
            "automargin": true,
            "type": "pie"
           }
          ],
          "scatter": [
           {
            "fillpattern": {
             "fillmode": "overlay",
             "size": 10,
             "solidity": 0.2
            },
            "type": "scatter"
           }
          ],
          "scatter3d": [
           {
            "line": {
             "colorbar": {
              "outlinewidth": 0,
              "ticks": ""
             }
            },
            "marker": {
             "colorbar": {
              "outlinewidth": 0,
              "ticks": ""
             }
            },
            "type": "scatter3d"
           }
          ],
          "scattercarpet": [
           {
            "marker": {
             "colorbar": {
              "outlinewidth": 0,
              "ticks": ""
             }
            },
            "type": "scattercarpet"
           }
          ],
          "scattergeo": [
           {
            "marker": {
             "colorbar": {
              "outlinewidth": 0,
              "ticks": ""
             }
            },
            "type": "scattergeo"
           }
          ],
          "scattergl": [
           {
            "marker": {
             "colorbar": {
              "outlinewidth": 0,
              "ticks": ""
             }
            },
            "type": "scattergl"
           }
          ],
          "scattermap": [
           {
            "marker": {
             "colorbar": {
              "outlinewidth": 0,
              "ticks": ""
             }
            },
            "type": "scattermap"
           }
          ],
          "scattermapbox": [
           {
            "marker": {
             "colorbar": {
              "outlinewidth": 0,
              "ticks": ""
             }
            },
            "type": "scattermapbox"
           }
          ],
          "scatterpolar": [
           {
            "marker": {
             "colorbar": {
              "outlinewidth": 0,
              "ticks": ""
             }
            },
            "type": "scatterpolar"
           }
          ],
          "scatterpolargl": [
           {
            "marker": {
             "colorbar": {
              "outlinewidth": 0,
              "ticks": ""
             }
            },
            "type": "scatterpolargl"
           }
          ],
          "scatterternary": [
           {
            "marker": {
             "colorbar": {
              "outlinewidth": 0,
              "ticks": ""
             }
            },
            "type": "scatterternary"
           }
          ],
          "surface": [
           {
            "colorbar": {
             "outlinewidth": 0,
             "ticks": ""
            },
            "colorscale": [
             [
              0,
              "#0d0887"
             ],
             [
              0.1111111111111111,
              "#46039f"
             ],
             [
              0.2222222222222222,
              "#7201a8"
             ],
             [
              0.3333333333333333,
              "#9c179e"
             ],
             [
              0.4444444444444444,
              "#bd3786"
             ],
             [
              0.5555555555555556,
              "#d8576b"
             ],
             [
              0.6666666666666666,
              "#ed7953"
             ],
             [
              0.7777777777777778,
              "#fb9f3a"
             ],
             [
              0.8888888888888888,
              "#fdca26"
             ],
             [
              1,
              "#f0f921"
             ]
            ],
            "type": "surface"
           }
          ],
          "table": [
           {
            "cells": {
             "fill": {
              "color": "#EBF0F8"
             },
             "line": {
              "color": "white"
             }
            },
            "header": {
             "fill": {
              "color": "#C8D4E3"
             },
             "line": {
              "color": "white"
             }
            },
            "type": "table"
           }
          ]
         },
         "layout": {
          "annotationdefaults": {
           "arrowcolor": "#2a3f5f",
           "arrowhead": 0,
           "arrowwidth": 1
          },
          "autotypenumbers": "strict",
          "coloraxis": {
           "colorbar": {
            "outlinewidth": 0,
            "ticks": ""
           }
          },
          "colorscale": {
           "diverging": [
            [
             0,
             "#8e0152"
            ],
            [
             0.1,
             "#c51b7d"
            ],
            [
             0.2,
             "#de77ae"
            ],
            [
             0.3,
             "#f1b6da"
            ],
            [
             0.4,
             "#fde0ef"
            ],
            [
             0.5,
             "#f7f7f7"
            ],
            [
             0.6,
             "#e6f5d0"
            ],
            [
             0.7,
             "#b8e186"
            ],
            [
             0.8,
             "#7fbc41"
            ],
            [
             0.9,
             "#4d9221"
            ],
            [
             1,
             "#276419"
            ]
           ],
           "sequential": [
            [
             0,
             "#0d0887"
            ],
            [
             0.1111111111111111,
             "#46039f"
            ],
            [
             0.2222222222222222,
             "#7201a8"
            ],
            [
             0.3333333333333333,
             "#9c179e"
            ],
            [
             0.4444444444444444,
             "#bd3786"
            ],
            [
             0.5555555555555556,
             "#d8576b"
            ],
            [
             0.6666666666666666,
             "#ed7953"
            ],
            [
             0.7777777777777778,
             "#fb9f3a"
            ],
            [
             0.8888888888888888,
             "#fdca26"
            ],
            [
             1,
             "#f0f921"
            ]
           ],
           "sequentialminus": [
            [
             0,
             "#0d0887"
            ],
            [
             0.1111111111111111,
             "#46039f"
            ],
            [
             0.2222222222222222,
             "#7201a8"
            ],
            [
             0.3333333333333333,
             "#9c179e"
            ],
            [
             0.4444444444444444,
             "#bd3786"
            ],
            [
             0.5555555555555556,
             "#d8576b"
            ],
            [
             0.6666666666666666,
             "#ed7953"
            ],
            [
             0.7777777777777778,
             "#fb9f3a"
            ],
            [
             0.8888888888888888,
             "#fdca26"
            ],
            [
             1,
             "#f0f921"
            ]
           ]
          },
          "colorway": [
           "#636efa",
           "#EF553B",
           "#00cc96",
           "#ab63fa",
           "#FFA15A",
           "#19d3f3",
           "#FF6692",
           "#B6E880",
           "#FF97FF",
           "#FECB52"
          ],
          "font": {
           "color": "#2a3f5f"
          },
          "geo": {
           "bgcolor": "white",
           "lakecolor": "white",
           "landcolor": "#E5ECF6",
           "showlakes": true,
           "showland": true,
           "subunitcolor": "white"
          },
          "hoverlabel": {
           "align": "left"
          },
          "hovermode": "closest",
          "mapbox": {
           "style": "light"
          },
          "paper_bgcolor": "white",
          "plot_bgcolor": "#E5ECF6",
          "polar": {
           "angularaxis": {
            "gridcolor": "white",
            "linecolor": "white",
            "ticks": ""
           },
           "bgcolor": "#E5ECF6",
           "radialaxis": {
            "gridcolor": "white",
            "linecolor": "white",
            "ticks": ""
           }
          },
          "scene": {
           "xaxis": {
            "backgroundcolor": "#E5ECF6",
            "gridcolor": "white",
            "gridwidth": 2,
            "linecolor": "white",
            "showbackground": true,
            "ticks": "",
            "zerolinecolor": "white"
           },
           "yaxis": {
            "backgroundcolor": "#E5ECF6",
            "gridcolor": "white",
            "gridwidth": 2,
            "linecolor": "white",
            "showbackground": true,
            "ticks": "",
            "zerolinecolor": "white"
           },
           "zaxis": {
            "backgroundcolor": "#E5ECF6",
            "gridcolor": "white",
            "gridwidth": 2,
            "linecolor": "white",
            "showbackground": true,
            "ticks": "",
            "zerolinecolor": "white"
           }
          },
          "shapedefaults": {
           "line": {
            "color": "#2a3f5f"
           }
          },
          "ternary": {
           "aaxis": {
            "gridcolor": "white",
            "linecolor": "white",
            "ticks": ""
           },
           "baxis": {
            "gridcolor": "white",
            "linecolor": "white",
            "ticks": ""
           },
           "bgcolor": "#E5ECF6",
           "caxis": {
            "gridcolor": "white",
            "linecolor": "white",
            "ticks": ""
           }
          },
          "title": {
           "x": 0.05
          },
          "xaxis": {
           "automargin": true,
           "gridcolor": "white",
           "linecolor": "white",
           "ticks": "",
           "title": {
            "standoff": 15
           },
           "zerolinecolor": "white",
           "zerolinewidth": 2
          },
          "yaxis": {
           "automargin": true,
           "gridcolor": "white",
           "linecolor": "white",
           "ticks": "",
           "title": {
            "standoff": 15
           },
           "zerolinecolor": "white",
           "zerolinewidth": 2
          }
         }
        },
        "title": {
         "text": "Dropdown Filters by Category and Subcategory"
        },
        "updatemenus": [
         {
          "buttons": [
           {
            "args": [
             {
              "visible": [
               true,
               true,
               true,
               true,
               true,
               true
              ]
             },
             {
              "annotations": [
               {
                "showarrow": false,
                "text": "Total Value: 1010",
                "x": 0.5,
                "y": 1.15
               },
               {
                "showarrow": false,
                "text": "Unique Items: 6",
                "x": 0.5,
                "y": 1.1
               }
              ],
              "title": "All Categories"
             }
            ],
            "label": "All Categories",
            "method": "update"
           },
           {
            "args": [
             {
              "visible": [
               true,
               true,
               false,
               false,
               false,
               false
              ]
             },
             {
              "annotations": [
               {
                "showarrow": false,
                "text": "Total Value: 250",
                "x": 0.5,
                "y": 1.15
               },
               {
                "showarrow": false,
                "text": "Unique Items: 2",
                "x": 0.5,
                "y": 1.1
               }
              ],
              "title": "Category A"
             }
            ],
            "label": "Category A",
            "method": "update"
           },
           {
            "args": [
             {
              "visible": [
               false,
               false,
               true,
               true,
               false,
               false
              ]
             },
             {
              "annotations": [
               {
                "showarrow": false,
                "text": "Total Value: 300",
                "x": 0.5,
                "y": 1.15
               },
               {
                "showarrow": false,
                "text": "Unique Items: 2",
                "x": 0.5,
                "y": 1.1
               }
              ],
              "title": "Category B"
             }
            ],
            "label": "Category B",
            "method": "update"
           },
           {
            "args": [
             {
              "visible": [
               false,
               false,
               false,
               false,
               true,
               true
              ]
             },
             {
              "annotations": [
               {
                "showarrow": false,
                "text": "Total Value: 460",
                "x": 0.5,
                "y": 1.15
               },
               {
                "showarrow": false,
                "text": "Unique Items: 2",
                "x": 0.5,
                "y": 1.1
               }
              ],
              "title": "Category C"
             }
            ],
            "label": "Category C",
            "method": "update"
           }
          ],
          "direction": "down",
          "showactive": true,
          "x": 0.85,
          "y": 1.1
         },
         {
          "buttons": [
           {
            "args": [
             {
              "visible": [
               true,
               true,
               true,
               true,
               true,
               true
              ]
             },
             {
              "annotations": [
               {
                "showarrow": false,
                "text": "Total Value: 1010",
                "x": 0.5,
                "y": 1.15
               },
               {
                "showarrow": false,
                "text": "Unique Items: 6",
                "x": 0.5,
                "y": 1.1
               }
              ],
              "title": "All Subcategories"
             }
            ],
            "label": "All Subcategories",
            "method": "update"
           },
           {
            "args": [
             {
              "visible": [
               true,
               false,
               true,
               false,
               true,
               false
              ]
             },
             {
              "annotations": [
               {
                "showarrow": false,
                "text": "Total Value: 440",
                "x": 0.5,
                "y": 1.15
               },
               {
                "showarrow": false,
                "text": "Unique Items: 3",
                "x": 0.5,
                "y": 1.1
               }
              ],
              "title": "Subcategory X"
             }
            ],
            "label": "Subcategory X",
            "method": "update"
           },
           {
            "args": [
             {
              "visible": [
               false,
               true,
               false,
               true,
               false,
               true
              ]
             },
             {
              "annotations": [
               {
                "showarrow": false,
                "text": "Total Value: 570",
                "x": 0.5,
                "y": 1.15
               },
               {
                "showarrow": false,
                "text": "Unique Items: 3",
                "x": 0.5,
                "y": 1.1
               }
              ],
              "title": "Subcategory Y"
             }
            ],
            "label": "Subcategory Y",
            "method": "update"
           }
          ],
          "direction": "down",
          "showactive": true,
          "x": 0.95,
          "y": 1.1
         }
        ]
       }
      }
     },
     "metadata": {},
     "output_type": "display_data"
    }
   ],
   "source": [
    "import plotly.graph_objects as go\n",
    "import pandas as pd\n",
    "\n",
    "# Sample data with category, subcategory, total_value, and item_id columns\n",
    "data = {\n",
    "    \"Category\": [\"A\", \"A\", \"B\", \"B\", \"C\", \"C\"],\n",
    "    \"Subcategory\": [\"X\", \"Y\", \"X\", \"Y\", \"X\", \"Y\"],\n",
    "    \"X\": [1, 2, 3, 4, 5, 6],\n",
    "    \"Y\": [10, 15, 13, 17, 21, 25],\n",
    "    \"total_value\": [100, 150, 130, 170, 210, 250],  # Column for summing\n",
    "    \"item_id\": [1, 2, 3, 4, 5, 6],  # Unique identifier for each item\n",
    "}\n",
    "df = pd.DataFrame(data)\n",
    "\n",
    "# Create the figure\n",
    "fig = go.Figure()\n",
    "\n",
    "# Add traces for each combination of category and subcategory\n",
    "for category in df[\"Category\"].unique():\n",
    "    for subcategory in df[\"Subcategory\"].unique():\n",
    "        filtered_df = df[(df[\"Category\"] == category) & (df[\"Subcategory\"] == subcategory)]\n",
    "        fig.add_trace(\n",
    "            go.Scatter(\n",
    "                x=filtered_df[\"X\"],\n",
    "                y=filtered_df[\"Y\"],\n",
    "                name=f\"{category} - {subcategory}\",\n",
    "                visible=True,  # All traces are visible by default\n",
    "            )\n",
    "        )\n",
    "\n",
    "# Function to calculate the sum of total_value based on visible traces\n",
    "def calculate_total_value(visible_traces):\n",
    "    total = 0\n",
    "    for trace, visible in zip(fig.data, visible_traces):\n",
    "        if visible:\n",
    "            category, subcategory = trace.name.split(\" - \")\n",
    "            filtered_df = df[(df[\"Category\"] == category) & (df[\"Subcategory\"] == subcategory)]\n",
    "            total += filtered_df[\"total_value\"].sum()\n",
    "    return total\n",
    "\n",
    "# Function to calculate the unique count of items based on visible traces\n",
    "def calculate_unique_count(visible_traces):\n",
    "    unique_items = set()\n",
    "    for trace, visible in zip(fig.data, visible_traces):\n",
    "        if visible:\n",
    "            category, subcategory = trace.name.split(\" - \")\n",
    "            filtered_df = df[(df[\"Category\"] == category) & (df[\"Subcategory\"] == subcategory)]\n",
    "            unique_items.update(filtered_df[\"item_id\"].tolist())\n",
    "    return len(unique_items)\n",
    "\n",
    "# Initial calculations (all traces are visible)\n",
    "initial_total = calculate_total_value([True] * len(fig.data))\n",
    "initial_unique_count = calculate_unique_count([True] * len(fig.data))\n",
    "\n",
    "# Create dropdown menu for Category (first dropdown on the right)\n",
    "category_dropdown = [\n",
    "    {\n",
    "        \"label\": \"All Categories\",\n",
    "        \"method\": \"update\",\n",
    "        \"args\": [\n",
    "            {\"visible\": [True] * len(fig.data)},\n",
    "            {\n",
    "                \"title\": \"All Categories\",\n",
    "                \"annotations\": [\n",
    "                    {\"text\": f\"Total Value: {calculate_total_value([True] * len(fig.data))}\", \"x\": 0.5, \"y\": 1.15, \"showarrow\": False},\n",
    "                    {\"text\": f\"Unique Items: {calculate_unique_count([True] * len(fig.data))}\", \"x\": 0.5, \"y\": 1.1, \"showarrow\": False},\n",
    "                ],\n",
    "            },\n",
    "        ],\n",
    "    }\n",
    "] + [\n",
    "    {\n",
    "        \"label\": f\"Category {category}\",\n",
    "        \"method\": \"update\",\n",
    "        \"args\": [\n",
    "            {\"visible\": [trace.name.startswith(f\"{category}\") for trace in fig.data]},\n",
    "            {\n",
    "                \"title\": f\"Category {category}\",\n",
    "                \"annotations\": [\n",
    "                    {\"text\": f\"Total Value: {calculate_total_value([trace.name.startswith(f'{category}') for trace in fig.data])}\", \"x\": 0.5, \"y\": 1.15, \"showarrow\": False},\n",
    "                    {\"text\": f\"Unique Items: {calculate_unique_count([trace.name.startswith(f'{category}') for trace in fig.data])}\", \"x\": 0.5, \"y\": 1.1, \"showarrow\": False},\n",
    "                ],\n",
    "            },\n",
    "        ],\n",
    "    }\n",
    "    for category in df[\"Category\"].unique()\n",
    "]\n",
    "\n",
    "# Create dropdown menu for Subcategory (second dropdown on the right)\n",
    "subcategory_dropdown = [\n",
    "    {\n",
    "        \"label\": \"All Subcategories\",\n",
    "        \"method\": \"update\",\n",
    "        \"args\": [\n",
    "            {\"visible\": [True] * len(fig.data)},\n",
    "            {\n",
    "                \"title\": \"All Subcategories\",\n",
    "                \"annotations\": [\n",
    "                    {\"text\": f\"Total Value: {calculate_total_value([True] * len(fig.data))}\", \"x\": 0.5, \"y\": 1.15, \"showarrow\": False},\n",
    "                    {\"text\": f\"Unique Items: {calculate_unique_count([True] * len(fig.data))}\", \"x\": 0.5, \"y\": 1.1, \"showarrow\": False},\n",
    "                ],\n",
    "            },\n",
    "        ],\n",
    "    }\n",
    "] + [\n",
    "    {\n",
    "        \"label\": f\"Subcategory {subcategory}\",\n",
    "        \"method\": \"update\",\n",
    "        \"args\": [\n",
    "            {\"visible\": [trace.name.endswith(f\"{subcategory}\") for trace in fig.data]},\n",
    "            {\n",
    "                \"title\": f\"Subcategory {subcategory}\",\n",
    "                \"annotations\": [\n",
    "                    {\"text\": f\"Total Value: {calculate_total_value([trace.name.endswith(f'{subcategory}') for trace in fig.data])}\", \"x\": 0.5, \"y\": 1.15, \"showarrow\": False},\n",
    "                    {\"text\": f\"Unique Items: {calculate_unique_count([trace.name.endswith(f'{subcategory}') for trace in fig.data])}\", \"x\": 0.5, \"y\": 1.1, \"showarrow\": False},\n",
    "                ],\n",
    "            },\n",
    "        ],\n",
    "    }\n",
    "    for subcategory in df[\"Subcategory\"].unique()\n",
    "]\n",
    "\n",
    "# Update layout with dropdowns and initial annotations\n",
    "fig.update_layout(\n",
    "    updatemenus=[\n",
    "        # First dropdown (Category)\n",
    "        {\n",
    "            \"buttons\": category_dropdown,\n",
    "            \"direction\": \"down\",\n",
    "            \"showactive\": True,\n",
    "            \"x\": 0.85,  # Position on the right\n",
    "            \"y\": 1.1,\n",
    "        },\n",
    "        # Second dropdown (Subcategory)\n",
    "        {\n",
    "            \"buttons\": subcategory_dropdown,\n",
    "            \"direction\": \"down\",\n",
    "            \"showactive\": True,\n",
    "            \"x\": 0.95,  # Position to the right of the first dropdown\n",
    "            \"y\": 1.1,\n",
    "        },\n",
    "    ],\n",
    "    title=\"Dropdown Filters by Category and Subcategory\",\n",
    "    annotations=[\n",
    "        {\n",
    "            \"text\": f\"Total Value: {initial_total}\",\n",
    "            \"x\": 0.5,  # Center of the chart\n",
    "            \"y\": 1.15,  # Above the title\n",
    "            \"showarrow\": False,\n",
    "            \"font\": {\"size\": 16},\n",
    "        },\n",
    "        {\n",
    "            \"text\": f\"Unique Items: {initial_unique_count}\",\n",
    "            \"x\": 0.5,  # Center of the chart\n",
    "            \"y\": 1.1,  # Below the total value annotation\n",
    "            \"showarrow\": False,\n",
    "            \"font\": {\"size\": 16},\n",
    "        },\n",
    "    ],\n",
    ")\n",
    "\n",
    "# Export to HTML\n",
    "fig.write_html(\"plot_with_dynamic_annotations.html\")\n",
    "\n",
    "# Show the plot (optional)\n",
    "fig.show()"
   ]
  },
  {
   "cell_type": "code",
   "execution_count": 6,
   "metadata": {},
   "outputs": [
    {
     "data": {
      "application/vnd.plotly.v1+json": {
       "config": {
        "plotlyServerURL": "https://plot.ly"
       },
       "data": [
        {
         "marker": {
          "size": 10
         },
         "mode": "markers",
         "name": "A - X",
         "type": "scatter",
         "visible": true,
         "x": {
          "bdata": "AQ==",
          "dtype": "i1"
         },
         "y": {
          "bdata": "Cg==",
          "dtype": "i1"
         }
        },
        {
         "marker": {
          "size": 10
         },
         "mode": "markers",
         "name": "A - Y",
         "type": "scatter",
         "visible": true,
         "x": {
          "bdata": "Ag==",
          "dtype": "i1"
         },
         "y": {
          "bdata": "Dw==",
          "dtype": "i1"
         }
        },
        {
         "marker": {
          "size": 10
         },
         "mode": "markers",
         "name": "B - X",
         "type": "scatter",
         "visible": true,
         "x": {
          "bdata": "Aw==",
          "dtype": "i1"
         },
         "y": {
          "bdata": "DQ==",
          "dtype": "i1"
         }
        },
        {
         "marker": {
          "size": 10
         },
         "mode": "markers",
         "name": "B - Y",
         "type": "scatter",
         "visible": true,
         "x": {
          "bdata": "BA==",
          "dtype": "i1"
         },
         "y": {
          "bdata": "EQ==",
          "dtype": "i1"
         }
        },
        {
         "marker": {
          "size": 10
         },
         "mode": "markers",
         "name": "C - X",
         "type": "scatter",
         "visible": true,
         "x": {
          "bdata": "BQ==",
          "dtype": "i1"
         },
         "y": {
          "bdata": "FQ==",
          "dtype": "i1"
         }
        },
        {
         "marker": {
          "size": 10
         },
         "mode": "markers",
         "name": "C - Y",
         "type": "scatter",
         "visible": true,
         "x": {
          "bdata": "Bg==",
          "dtype": "i1"
         },
         "y": {
          "bdata": "GQ==",
          "dtype": "i1"
         }
        }
       ],
       "layout": {
        "annotations": [
         {
          "arrowhead": 2,
          "ax": 20,
          "ay": -30,
          "showarrow": true,
          "text": "(1, 10)",
          "x": 1,
          "y": 10
         },
         {
          "arrowhead": 2,
          "ax": 20,
          "ay": 30,
          "showarrow": true,
          "text": "(2, 15)",
          "x": 2,
          "y": 15
         },
         {
          "arrowhead": 2,
          "ax": 20,
          "ay": -30,
          "showarrow": true,
          "text": "(3, 13)",
          "x": 3,
          "y": 13
         },
         {
          "arrowhead": 2,
          "ax": 20,
          "ay": 30,
          "showarrow": true,
          "text": "(4, 17)",
          "x": 4,
          "y": 17
         },
         {
          "arrowhead": 2,
          "ax": 20,
          "ay": -30,
          "showarrow": true,
          "text": "(5, 21)",
          "x": 5,
          "y": 21
         },
         {
          "arrowhead": 2,
          "ax": 20,
          "ay": 30,
          "showarrow": true,
          "text": "(6, 25)",
          "x": 6,
          "y": 25
         }
        ],
        "template": {
         "data": {
          "bar": [
           {
            "error_x": {
             "color": "#2a3f5f"
            },
            "error_y": {
             "color": "#2a3f5f"
            },
            "marker": {
             "line": {
              "color": "#E5ECF6",
              "width": 0.5
             },
             "pattern": {
              "fillmode": "overlay",
              "size": 10,
              "solidity": 0.2
             }
            },
            "type": "bar"
           }
          ],
          "barpolar": [
           {
            "marker": {
             "line": {
              "color": "#E5ECF6",
              "width": 0.5
             },
             "pattern": {
              "fillmode": "overlay",
              "size": 10,
              "solidity": 0.2
             }
            },
            "type": "barpolar"
           }
          ],
          "carpet": [
           {
            "aaxis": {
             "endlinecolor": "#2a3f5f",
             "gridcolor": "white",
             "linecolor": "white",
             "minorgridcolor": "white",
             "startlinecolor": "#2a3f5f"
            },
            "baxis": {
             "endlinecolor": "#2a3f5f",
             "gridcolor": "white",
             "linecolor": "white",
             "minorgridcolor": "white",
             "startlinecolor": "#2a3f5f"
            },
            "type": "carpet"
           }
          ],
          "choropleth": [
           {
            "colorbar": {
             "outlinewidth": 0,
             "ticks": ""
            },
            "type": "choropleth"
           }
          ],
          "contour": [
           {
            "colorbar": {
             "outlinewidth": 0,
             "ticks": ""
            },
            "colorscale": [
             [
              0,
              "#0d0887"
             ],
             [
              0.1111111111111111,
              "#46039f"
             ],
             [
              0.2222222222222222,
              "#7201a8"
             ],
             [
              0.3333333333333333,
              "#9c179e"
             ],
             [
              0.4444444444444444,
              "#bd3786"
             ],
             [
              0.5555555555555556,
              "#d8576b"
             ],
             [
              0.6666666666666666,
              "#ed7953"
             ],
             [
              0.7777777777777778,
              "#fb9f3a"
             ],
             [
              0.8888888888888888,
              "#fdca26"
             ],
             [
              1,
              "#f0f921"
             ]
            ],
            "type": "contour"
           }
          ],
          "contourcarpet": [
           {
            "colorbar": {
             "outlinewidth": 0,
             "ticks": ""
            },
            "type": "contourcarpet"
           }
          ],
          "heatmap": [
           {
            "colorbar": {
             "outlinewidth": 0,
             "ticks": ""
            },
            "colorscale": [
             [
              0,
              "#0d0887"
             ],
             [
              0.1111111111111111,
              "#46039f"
             ],
             [
              0.2222222222222222,
              "#7201a8"
             ],
             [
              0.3333333333333333,
              "#9c179e"
             ],
             [
              0.4444444444444444,
              "#bd3786"
             ],
             [
              0.5555555555555556,
              "#d8576b"
             ],
             [
              0.6666666666666666,
              "#ed7953"
             ],
             [
              0.7777777777777778,
              "#fb9f3a"
             ],
             [
              0.8888888888888888,
              "#fdca26"
             ],
             [
              1,
              "#f0f921"
             ]
            ],
            "type": "heatmap"
           }
          ],
          "histogram": [
           {
            "marker": {
             "pattern": {
              "fillmode": "overlay",
              "size": 10,
              "solidity": 0.2
             }
            },
            "type": "histogram"
           }
          ],
          "histogram2d": [
           {
            "colorbar": {
             "outlinewidth": 0,
             "ticks": ""
            },
            "colorscale": [
             [
              0,
              "#0d0887"
             ],
             [
              0.1111111111111111,
              "#46039f"
             ],
             [
              0.2222222222222222,
              "#7201a8"
             ],
             [
              0.3333333333333333,
              "#9c179e"
             ],
             [
              0.4444444444444444,
              "#bd3786"
             ],
             [
              0.5555555555555556,
              "#d8576b"
             ],
             [
              0.6666666666666666,
              "#ed7953"
             ],
             [
              0.7777777777777778,
              "#fb9f3a"
             ],
             [
              0.8888888888888888,
              "#fdca26"
             ],
             [
              1,
              "#f0f921"
             ]
            ],
            "type": "histogram2d"
           }
          ],
          "histogram2dcontour": [
           {
            "colorbar": {
             "outlinewidth": 0,
             "ticks": ""
            },
            "colorscale": [
             [
              0,
              "#0d0887"
             ],
             [
              0.1111111111111111,
              "#46039f"
             ],
             [
              0.2222222222222222,
              "#7201a8"
             ],
             [
              0.3333333333333333,
              "#9c179e"
             ],
             [
              0.4444444444444444,
              "#bd3786"
             ],
             [
              0.5555555555555556,
              "#d8576b"
             ],
             [
              0.6666666666666666,
              "#ed7953"
             ],
             [
              0.7777777777777778,
              "#fb9f3a"
             ],
             [
              0.8888888888888888,
              "#fdca26"
             ],
             [
              1,
              "#f0f921"
             ]
            ],
            "type": "histogram2dcontour"
           }
          ],
          "mesh3d": [
           {
            "colorbar": {
             "outlinewidth": 0,
             "ticks": ""
            },
            "type": "mesh3d"
           }
          ],
          "parcoords": [
           {
            "line": {
             "colorbar": {
              "outlinewidth": 0,
              "ticks": ""
             }
            },
            "type": "parcoords"
           }
          ],
          "pie": [
           {
            "automargin": true,
            "type": "pie"
           }
          ],
          "scatter": [
           {
            "fillpattern": {
             "fillmode": "overlay",
             "size": 10,
             "solidity": 0.2
            },
            "type": "scatter"
           }
          ],
          "scatter3d": [
           {
            "line": {
             "colorbar": {
              "outlinewidth": 0,
              "ticks": ""
             }
            },
            "marker": {
             "colorbar": {
              "outlinewidth": 0,
              "ticks": ""
             }
            },
            "type": "scatter3d"
           }
          ],
          "scattercarpet": [
           {
            "marker": {
             "colorbar": {
              "outlinewidth": 0,
              "ticks": ""
             }
            },
            "type": "scattercarpet"
           }
          ],
          "scattergeo": [
           {
            "marker": {
             "colorbar": {
              "outlinewidth": 0,
              "ticks": ""
             }
            },
            "type": "scattergeo"
           }
          ],
          "scattergl": [
           {
            "marker": {
             "colorbar": {
              "outlinewidth": 0,
              "ticks": ""
             }
            },
            "type": "scattergl"
           }
          ],
          "scattermap": [
           {
            "marker": {
             "colorbar": {
              "outlinewidth": 0,
              "ticks": ""
             }
            },
            "type": "scattermap"
           }
          ],
          "scattermapbox": [
           {
            "marker": {
             "colorbar": {
              "outlinewidth": 0,
              "ticks": ""
             }
            },
            "type": "scattermapbox"
           }
          ],
          "scatterpolar": [
           {
            "marker": {
             "colorbar": {
              "outlinewidth": 0,
              "ticks": ""
             }
            },
            "type": "scatterpolar"
           }
          ],
          "scatterpolargl": [
           {
            "marker": {
             "colorbar": {
              "outlinewidth": 0,
              "ticks": ""
             }
            },
            "type": "scatterpolargl"
           }
          ],
          "scatterternary": [
           {
            "marker": {
             "colorbar": {
              "outlinewidth": 0,
              "ticks": ""
             }
            },
            "type": "scatterternary"
           }
          ],
          "surface": [
           {
            "colorbar": {
             "outlinewidth": 0,
             "ticks": ""
            },
            "colorscale": [
             [
              0,
              "#0d0887"
             ],
             [
              0.1111111111111111,
              "#46039f"
             ],
             [
              0.2222222222222222,
              "#7201a8"
             ],
             [
              0.3333333333333333,
              "#9c179e"
             ],
             [
              0.4444444444444444,
              "#bd3786"
             ],
             [
              0.5555555555555556,
              "#d8576b"
             ],
             [
              0.6666666666666666,
              "#ed7953"
             ],
             [
              0.7777777777777778,
              "#fb9f3a"
             ],
             [
              0.8888888888888888,
              "#fdca26"
             ],
             [
              1,
              "#f0f921"
             ]
            ],
            "type": "surface"
           }
          ],
          "table": [
           {
            "cells": {
             "fill": {
              "color": "#EBF0F8"
             },
             "line": {
              "color": "white"
             }
            },
            "header": {
             "fill": {
              "color": "#C8D4E3"
             },
             "line": {
              "color": "white"
             }
            },
            "type": "table"
           }
          ]
         },
         "layout": {
          "annotationdefaults": {
           "arrowcolor": "#2a3f5f",
           "arrowhead": 0,
           "arrowwidth": 1
          },
          "autotypenumbers": "strict",
          "coloraxis": {
           "colorbar": {
            "outlinewidth": 0,
            "ticks": ""
           }
          },
          "colorscale": {
           "diverging": [
            [
             0,
             "#8e0152"
            ],
            [
             0.1,
             "#c51b7d"
            ],
            [
             0.2,
             "#de77ae"
            ],
            [
             0.3,
             "#f1b6da"
            ],
            [
             0.4,
             "#fde0ef"
            ],
            [
             0.5,
             "#f7f7f7"
            ],
            [
             0.6,
             "#e6f5d0"
            ],
            [
             0.7,
             "#b8e186"
            ],
            [
             0.8,
             "#7fbc41"
            ],
            [
             0.9,
             "#4d9221"
            ],
            [
             1,
             "#276419"
            ]
           ],
           "sequential": [
            [
             0,
             "#0d0887"
            ],
            [
             0.1111111111111111,
             "#46039f"
            ],
            [
             0.2222222222222222,
             "#7201a8"
            ],
            [
             0.3333333333333333,
             "#9c179e"
            ],
            [
             0.4444444444444444,
             "#bd3786"
            ],
            [
             0.5555555555555556,
             "#d8576b"
            ],
            [
             0.6666666666666666,
             "#ed7953"
            ],
            [
             0.7777777777777778,
             "#fb9f3a"
            ],
            [
             0.8888888888888888,
             "#fdca26"
            ],
            [
             1,
             "#f0f921"
            ]
           ],
           "sequentialminus": [
            [
             0,
             "#0d0887"
            ],
            [
             0.1111111111111111,
             "#46039f"
            ],
            [
             0.2222222222222222,
             "#7201a8"
            ],
            [
             0.3333333333333333,
             "#9c179e"
            ],
            [
             0.4444444444444444,
             "#bd3786"
            ],
            [
             0.5555555555555556,
             "#d8576b"
            ],
            [
             0.6666666666666666,
             "#ed7953"
            ],
            [
             0.7777777777777778,
             "#fb9f3a"
            ],
            [
             0.8888888888888888,
             "#fdca26"
            ],
            [
             1,
             "#f0f921"
            ]
           ]
          },
          "colorway": [
           "#636efa",
           "#EF553B",
           "#00cc96",
           "#ab63fa",
           "#FFA15A",
           "#19d3f3",
           "#FF6692",
           "#B6E880",
           "#FF97FF",
           "#FECB52"
          ],
          "font": {
           "color": "#2a3f5f"
          },
          "geo": {
           "bgcolor": "white",
           "lakecolor": "white",
           "landcolor": "#E5ECF6",
           "showlakes": true,
           "showland": true,
           "subunitcolor": "white"
          },
          "hoverlabel": {
           "align": "left"
          },
          "hovermode": "closest",
          "mapbox": {
           "style": "light"
          },
          "paper_bgcolor": "white",
          "plot_bgcolor": "#E5ECF6",
          "polar": {
           "angularaxis": {
            "gridcolor": "white",
            "linecolor": "white",
            "ticks": ""
           },
           "bgcolor": "#E5ECF6",
           "radialaxis": {
            "gridcolor": "white",
            "linecolor": "white",
            "ticks": ""
           }
          },
          "scene": {
           "xaxis": {
            "backgroundcolor": "#E5ECF6",
            "gridcolor": "white",
            "gridwidth": 2,
            "linecolor": "white",
            "showbackground": true,
            "ticks": "",
            "zerolinecolor": "white"
           },
           "yaxis": {
            "backgroundcolor": "#E5ECF6",
            "gridcolor": "white",
            "gridwidth": 2,
            "linecolor": "white",
            "showbackground": true,
            "ticks": "",
            "zerolinecolor": "white"
           },
           "zaxis": {
            "backgroundcolor": "#E5ECF6",
            "gridcolor": "white",
            "gridwidth": 2,
            "linecolor": "white",
            "showbackground": true,
            "ticks": "",
            "zerolinecolor": "white"
           }
          },
          "shapedefaults": {
           "line": {
            "color": "#2a3f5f"
           }
          },
          "ternary": {
           "aaxis": {
            "gridcolor": "white",
            "linecolor": "white",
            "ticks": ""
           },
           "baxis": {
            "gridcolor": "white",
            "linecolor": "white",
            "ticks": ""
           },
           "bgcolor": "#E5ECF6",
           "caxis": {
            "gridcolor": "white",
            "linecolor": "white",
            "ticks": ""
           }
          },
          "title": {
           "x": 0.05
          },
          "xaxis": {
           "automargin": true,
           "gridcolor": "white",
           "linecolor": "white",
           "ticks": "",
           "title": {
            "standoff": 15
           },
           "zerolinecolor": "white",
           "zerolinewidth": 2
          },
          "yaxis": {
           "automargin": true,
           "gridcolor": "white",
           "linecolor": "white",
           "ticks": "",
           "title": {
            "standoff": 15
           },
           "zerolinecolor": "white",
           "zerolinewidth": 2
          }
         }
        },
        "title": {
         "text": "Scatter Plot with Annotations and Dropdown Filters"
        }
       }
      }
     },
     "metadata": {},
     "output_type": "display_data"
    }
   ],
   "source": [
    "import plotly.graph_objects as go\n",
    "import pandas as pd\n",
    "\n",
    "# Sample data\n",
    "data = {\n",
    "    \"Category\": [\"A\", \"A\", \"B\", \"B\", \"C\", \"C\"],\n",
    "    \"Subcategory\": [\"X\", \"Y\", \"X\", \"Y\", \"X\", \"Y\"],\n",
    "    \"X\": [1, 2, 3, 4, 5, 6],\n",
    "    \"Y\": [10, 15, 13, 17, 21, 25],\n",
    "    \"total_value\": [100, 150, 130, 170, 210, 250],\n",
    "    \"item_id\": [1, 2, 3, 4, 5, 6],\n",
    "}\n",
    "df = pd.DataFrame(data)\n",
    "\n",
    "# Create figure\n",
    "fig = go.Figure()\n",
    "\n",
    "# Add scatter plots without lines\n",
    "for category in df[\"Category\"].unique():\n",
    "    for subcategory in df[\"Subcategory\"].unique():\n",
    "        filtered_df = df[(df[\"Category\"] == category) & (df[\"Subcategory\"] == subcategory)]\n",
    "        fig.add_trace(\n",
    "            go.Scatter(\n",
    "                x=filtered_df[\"X\"],\n",
    "                y=filtered_df[\"Y\"],\n",
    "                mode=\"markers\",  # Ensures only dots, no lines\n",
    "                name=f\"{category} - {subcategory}\",\n",
    "                visible=True,\n",
    "                marker=dict(size=10),  # Adjust marker size for better visibility\n",
    "            )\n",
    "        )\n",
    "\n",
    "# Spread out annotations\n",
    "annotations = []\n",
    "y_offset = 1.15  # Start above the title\n",
    "\n",
    "for i, row in df.iterrows():\n",
    "    annotations.append(\n",
    "        dict(\n",
    "            x=row[\"X\"],\n",
    "            y=row[\"Y\"],\n",
    "            text=f\"({row['X']}, {row['Y']})\",  # Custom annotation text\n",
    "            showarrow=True,\n",
    "            arrowhead=2,\n",
    "            ax=20,  # Offset for readability\n",
    "            ay=-30 if i % 2 == 0 else 30,  # Alternating annotation positions\n",
    "        )\n",
    "    )\n",
    "\n",
    "# Update layout\n",
    "fig.update_layout(\n",
    "    title=\"Scatter Plot with Annotations and Dropdown Filters\",\n",
    "    annotations=annotations,\n",
    ")\n",
    "\n",
    "fig.show()\n"
   ]
  },
  {
   "cell_type": "code",
   "execution_count": 7,
   "metadata": {},
   "outputs": [
    {
     "data": {
      "application/vnd.plotly.v1+json": {
       "config": {
        "plotlyServerURL": "https://plot.ly"
       },
       "data": [
        {
         "name": "A - X",
         "type": "scatter",
         "visible": true,
         "x": {
          "bdata": "AQ==",
          "dtype": "i1"
         },
         "y": {
          "bdata": "Cg==",
          "dtype": "i1"
         }
        },
        {
         "name": "A - Y",
         "type": "scatter",
         "visible": true,
         "x": {
          "bdata": "Ag==",
          "dtype": "i1"
         },
         "y": {
          "bdata": "Dw==",
          "dtype": "i1"
         }
        },
        {
         "name": "B - X",
         "type": "scatter",
         "visible": true,
         "x": {
          "bdata": "Aw==",
          "dtype": "i1"
         },
         "y": {
          "bdata": "DQ==",
          "dtype": "i1"
         }
        },
        {
         "name": "B - Y",
         "type": "scatter",
         "visible": true,
         "x": {
          "bdata": "BA==",
          "dtype": "i1"
         },
         "y": {
          "bdata": "EQ==",
          "dtype": "i1"
         }
        },
        {
         "name": "C - X",
         "type": "scatter",
         "visible": true,
         "x": {
          "bdata": "BQ==",
          "dtype": "i1"
         },
         "y": {
          "bdata": "FQ==",
          "dtype": "i1"
         }
        },
        {
         "name": "C - Y",
         "type": "scatter",
         "visible": true,
         "x": {
          "bdata": "Bg==",
          "dtype": "i1"
         },
         "y": {
          "bdata": "GQ==",
          "dtype": "i1"
         }
        }
       ],
       "layout": {
        "annotations": [
         {
          "font": {
           "size": 16
          },
          "showarrow": false,
          "text": "Total Value: 1010",
          "x": 0.5,
          "y": 1.15
         },
         {
          "font": {
           "size": 16
          },
          "showarrow": false,
          "text": "Unique Items: 6",
          "x": 0.5,
          "y": 1.1
         }
        ],
        "template": {
         "data": {
          "bar": [
           {
            "error_x": {
             "color": "#2a3f5f"
            },
            "error_y": {
             "color": "#2a3f5f"
            },
            "marker": {
             "line": {
              "color": "#E5ECF6",
              "width": 0.5
             },
             "pattern": {
              "fillmode": "overlay",
              "size": 10,
              "solidity": 0.2
             }
            },
            "type": "bar"
           }
          ],
          "barpolar": [
           {
            "marker": {
             "line": {
              "color": "#E5ECF6",
              "width": 0.5
             },
             "pattern": {
              "fillmode": "overlay",
              "size": 10,
              "solidity": 0.2
             }
            },
            "type": "barpolar"
           }
          ],
          "carpet": [
           {
            "aaxis": {
             "endlinecolor": "#2a3f5f",
             "gridcolor": "white",
             "linecolor": "white",
             "minorgridcolor": "white",
             "startlinecolor": "#2a3f5f"
            },
            "baxis": {
             "endlinecolor": "#2a3f5f",
             "gridcolor": "white",
             "linecolor": "white",
             "minorgridcolor": "white",
             "startlinecolor": "#2a3f5f"
            },
            "type": "carpet"
           }
          ],
          "choropleth": [
           {
            "colorbar": {
             "outlinewidth": 0,
             "ticks": ""
            },
            "type": "choropleth"
           }
          ],
          "contour": [
           {
            "colorbar": {
             "outlinewidth": 0,
             "ticks": ""
            },
            "colorscale": [
             [
              0,
              "#0d0887"
             ],
             [
              0.1111111111111111,
              "#46039f"
             ],
             [
              0.2222222222222222,
              "#7201a8"
             ],
             [
              0.3333333333333333,
              "#9c179e"
             ],
             [
              0.4444444444444444,
              "#bd3786"
             ],
             [
              0.5555555555555556,
              "#d8576b"
             ],
             [
              0.6666666666666666,
              "#ed7953"
             ],
             [
              0.7777777777777778,
              "#fb9f3a"
             ],
             [
              0.8888888888888888,
              "#fdca26"
             ],
             [
              1,
              "#f0f921"
             ]
            ],
            "type": "contour"
           }
          ],
          "contourcarpet": [
           {
            "colorbar": {
             "outlinewidth": 0,
             "ticks": ""
            },
            "type": "contourcarpet"
           }
          ],
          "heatmap": [
           {
            "colorbar": {
             "outlinewidth": 0,
             "ticks": ""
            },
            "colorscale": [
             [
              0,
              "#0d0887"
             ],
             [
              0.1111111111111111,
              "#46039f"
             ],
             [
              0.2222222222222222,
              "#7201a8"
             ],
             [
              0.3333333333333333,
              "#9c179e"
             ],
             [
              0.4444444444444444,
              "#bd3786"
             ],
             [
              0.5555555555555556,
              "#d8576b"
             ],
             [
              0.6666666666666666,
              "#ed7953"
             ],
             [
              0.7777777777777778,
              "#fb9f3a"
             ],
             [
              0.8888888888888888,
              "#fdca26"
             ],
             [
              1,
              "#f0f921"
             ]
            ],
            "type": "heatmap"
           }
          ],
          "histogram": [
           {
            "marker": {
             "pattern": {
              "fillmode": "overlay",
              "size": 10,
              "solidity": 0.2
             }
            },
            "type": "histogram"
           }
          ],
          "histogram2d": [
           {
            "colorbar": {
             "outlinewidth": 0,
             "ticks": ""
            },
            "colorscale": [
             [
              0,
              "#0d0887"
             ],
             [
              0.1111111111111111,
              "#46039f"
             ],
             [
              0.2222222222222222,
              "#7201a8"
             ],
             [
              0.3333333333333333,
              "#9c179e"
             ],
             [
              0.4444444444444444,
              "#bd3786"
             ],
             [
              0.5555555555555556,
              "#d8576b"
             ],
             [
              0.6666666666666666,
              "#ed7953"
             ],
             [
              0.7777777777777778,
              "#fb9f3a"
             ],
             [
              0.8888888888888888,
              "#fdca26"
             ],
             [
              1,
              "#f0f921"
             ]
            ],
            "type": "histogram2d"
           }
          ],
          "histogram2dcontour": [
           {
            "colorbar": {
             "outlinewidth": 0,
             "ticks": ""
            },
            "colorscale": [
             [
              0,
              "#0d0887"
             ],
             [
              0.1111111111111111,
              "#46039f"
             ],
             [
              0.2222222222222222,
              "#7201a8"
             ],
             [
              0.3333333333333333,
              "#9c179e"
             ],
             [
              0.4444444444444444,
              "#bd3786"
             ],
             [
              0.5555555555555556,
              "#d8576b"
             ],
             [
              0.6666666666666666,
              "#ed7953"
             ],
             [
              0.7777777777777778,
              "#fb9f3a"
             ],
             [
              0.8888888888888888,
              "#fdca26"
             ],
             [
              1,
              "#f0f921"
             ]
            ],
            "type": "histogram2dcontour"
           }
          ],
          "mesh3d": [
           {
            "colorbar": {
             "outlinewidth": 0,
             "ticks": ""
            },
            "type": "mesh3d"
           }
          ],
          "parcoords": [
           {
            "line": {
             "colorbar": {
              "outlinewidth": 0,
              "ticks": ""
             }
            },
            "type": "parcoords"
           }
          ],
          "pie": [
           {
            "automargin": true,
            "type": "pie"
           }
          ],
          "scatter": [
           {
            "fillpattern": {
             "fillmode": "overlay",
             "size": 10,
             "solidity": 0.2
            },
            "type": "scatter"
           }
          ],
          "scatter3d": [
           {
            "line": {
             "colorbar": {
              "outlinewidth": 0,
              "ticks": ""
             }
            },
            "marker": {
             "colorbar": {
              "outlinewidth": 0,
              "ticks": ""
             }
            },
            "type": "scatter3d"
           }
          ],
          "scattercarpet": [
           {
            "marker": {
             "colorbar": {
              "outlinewidth": 0,
              "ticks": ""
             }
            },
            "type": "scattercarpet"
           }
          ],
          "scattergeo": [
           {
            "marker": {
             "colorbar": {
              "outlinewidth": 0,
              "ticks": ""
             }
            },
            "type": "scattergeo"
           }
          ],
          "scattergl": [
           {
            "marker": {
             "colorbar": {
              "outlinewidth": 0,
              "ticks": ""
             }
            },
            "type": "scattergl"
           }
          ],
          "scattermap": [
           {
            "marker": {
             "colorbar": {
              "outlinewidth": 0,
              "ticks": ""
             }
            },
            "type": "scattermap"
           }
          ],
          "scattermapbox": [
           {
            "marker": {
             "colorbar": {
              "outlinewidth": 0,
              "ticks": ""
             }
            },
            "type": "scattermapbox"
           }
          ],
          "scatterpolar": [
           {
            "marker": {
             "colorbar": {
              "outlinewidth": 0,
              "ticks": ""
             }
            },
            "type": "scatterpolar"
           }
          ],
          "scatterpolargl": [
           {
            "marker": {
             "colorbar": {
              "outlinewidth": 0,
              "ticks": ""
             }
            },
            "type": "scatterpolargl"
           }
          ],
          "scatterternary": [
           {
            "marker": {
             "colorbar": {
              "outlinewidth": 0,
              "ticks": ""
             }
            },
            "type": "scatterternary"
           }
          ],
          "surface": [
           {
            "colorbar": {
             "outlinewidth": 0,
             "ticks": ""
            },
            "colorscale": [
             [
              0,
              "#0d0887"
             ],
             [
              0.1111111111111111,
              "#46039f"
             ],
             [
              0.2222222222222222,
              "#7201a8"
             ],
             [
              0.3333333333333333,
              "#9c179e"
             ],
             [
              0.4444444444444444,
              "#bd3786"
             ],
             [
              0.5555555555555556,
              "#d8576b"
             ],
             [
              0.6666666666666666,
              "#ed7953"
             ],
             [
              0.7777777777777778,
              "#fb9f3a"
             ],
             [
              0.8888888888888888,
              "#fdca26"
             ],
             [
              1,
              "#f0f921"
             ]
            ],
            "type": "surface"
           }
          ],
          "table": [
           {
            "cells": {
             "fill": {
              "color": "#EBF0F8"
             },
             "line": {
              "color": "white"
             }
            },
            "header": {
             "fill": {
              "color": "#C8D4E3"
             },
             "line": {
              "color": "white"
             }
            },
            "type": "table"
           }
          ]
         },
         "layout": {
          "annotationdefaults": {
           "arrowcolor": "#2a3f5f",
           "arrowhead": 0,
           "arrowwidth": 1
          },
          "autotypenumbers": "strict",
          "coloraxis": {
           "colorbar": {
            "outlinewidth": 0,
            "ticks": ""
           }
          },
          "colorscale": {
           "diverging": [
            [
             0,
             "#8e0152"
            ],
            [
             0.1,
             "#c51b7d"
            ],
            [
             0.2,
             "#de77ae"
            ],
            [
             0.3,
             "#f1b6da"
            ],
            [
             0.4,
             "#fde0ef"
            ],
            [
             0.5,
             "#f7f7f7"
            ],
            [
             0.6,
             "#e6f5d0"
            ],
            [
             0.7,
             "#b8e186"
            ],
            [
             0.8,
             "#7fbc41"
            ],
            [
             0.9,
             "#4d9221"
            ],
            [
             1,
             "#276419"
            ]
           ],
           "sequential": [
            [
             0,
             "#0d0887"
            ],
            [
             0.1111111111111111,
             "#46039f"
            ],
            [
             0.2222222222222222,
             "#7201a8"
            ],
            [
             0.3333333333333333,
             "#9c179e"
            ],
            [
             0.4444444444444444,
             "#bd3786"
            ],
            [
             0.5555555555555556,
             "#d8576b"
            ],
            [
             0.6666666666666666,
             "#ed7953"
            ],
            [
             0.7777777777777778,
             "#fb9f3a"
            ],
            [
             0.8888888888888888,
             "#fdca26"
            ],
            [
             1,
             "#f0f921"
            ]
           ],
           "sequentialminus": [
            [
             0,
             "#0d0887"
            ],
            [
             0.1111111111111111,
             "#46039f"
            ],
            [
             0.2222222222222222,
             "#7201a8"
            ],
            [
             0.3333333333333333,
             "#9c179e"
            ],
            [
             0.4444444444444444,
             "#bd3786"
            ],
            [
             0.5555555555555556,
             "#d8576b"
            ],
            [
             0.6666666666666666,
             "#ed7953"
            ],
            [
             0.7777777777777778,
             "#fb9f3a"
            ],
            [
             0.8888888888888888,
             "#fdca26"
            ],
            [
             1,
             "#f0f921"
            ]
           ]
          },
          "colorway": [
           "#636efa",
           "#EF553B",
           "#00cc96",
           "#ab63fa",
           "#FFA15A",
           "#19d3f3",
           "#FF6692",
           "#B6E880",
           "#FF97FF",
           "#FECB52"
          ],
          "font": {
           "color": "#2a3f5f"
          },
          "geo": {
           "bgcolor": "white",
           "lakecolor": "white",
           "landcolor": "#E5ECF6",
           "showlakes": true,
           "showland": true,
           "subunitcolor": "white"
          },
          "hoverlabel": {
           "align": "left"
          },
          "hovermode": "closest",
          "mapbox": {
           "style": "light"
          },
          "paper_bgcolor": "white",
          "plot_bgcolor": "#E5ECF6",
          "polar": {
           "angularaxis": {
            "gridcolor": "white",
            "linecolor": "white",
            "ticks": ""
           },
           "bgcolor": "#E5ECF6",
           "radialaxis": {
            "gridcolor": "white",
            "linecolor": "white",
            "ticks": ""
           }
          },
          "scene": {
           "xaxis": {
            "backgroundcolor": "#E5ECF6",
            "gridcolor": "white",
            "gridwidth": 2,
            "linecolor": "white",
            "showbackground": true,
            "ticks": "",
            "zerolinecolor": "white"
           },
           "yaxis": {
            "backgroundcolor": "#E5ECF6",
            "gridcolor": "white",
            "gridwidth": 2,
            "linecolor": "white",
            "showbackground": true,
            "ticks": "",
            "zerolinecolor": "white"
           },
           "zaxis": {
            "backgroundcolor": "#E5ECF6",
            "gridcolor": "white",
            "gridwidth": 2,
            "linecolor": "white",
            "showbackground": true,
            "ticks": "",
            "zerolinecolor": "white"
           }
          },
          "shapedefaults": {
           "line": {
            "color": "#2a3f5f"
           }
          },
          "ternary": {
           "aaxis": {
            "gridcolor": "white",
            "linecolor": "white",
            "ticks": ""
           },
           "baxis": {
            "gridcolor": "white",
            "linecolor": "white",
            "ticks": ""
           },
           "bgcolor": "#E5ECF6",
           "caxis": {
            "gridcolor": "white",
            "linecolor": "white",
            "ticks": ""
           }
          },
          "title": {
           "x": 0.05
          },
          "xaxis": {
           "automargin": true,
           "gridcolor": "white",
           "linecolor": "white",
           "ticks": "",
           "title": {
            "standoff": 15
           },
           "zerolinecolor": "white",
           "zerolinewidth": 2
          },
          "yaxis": {
           "automargin": true,
           "gridcolor": "white",
           "linecolor": "white",
           "ticks": "",
           "title": {
            "standoff": 15
           },
           "zerolinecolor": "white",
           "zerolinewidth": 2
          }
         }
        },
        "title": {
         "text": "Dropdown Filters by Category and Subcategory"
        },
        "updatemenus": [
         {
          "buttons": [
           {
            "args": [
             {
              "visible": [
               true,
               true,
               true,
               true,
               true,
               true
              ]
             },
             {
              "annotations": [
               {
                "showarrow": false,
                "text": "Total Value: 1010",
                "x": 0.5,
                "y": 1.15
               },
               {
                "showarrow": false,
                "text": "Unique Items: 6",
                "x": 0.5,
                "y": 1.1
               }
              ],
              "title": "All Categories"
             }
            ],
            "label": "All Categories",
            "method": "update"
           },
           {
            "args": [
             {
              "visible": [
               true,
               true,
               false,
               false,
               false,
               false
              ]
             },
             {
              "annotations": [
               {
                "showarrow": false,
                "text": "Total Value: 250",
                "x": 0.5,
                "y": 1.15
               },
               {
                "showarrow": false,
                "text": "Unique Items: 2",
                "x": 0.5,
                "y": 1.1
               }
              ],
              "title": "Category A"
             }
            ],
            "label": "Category A",
            "method": "update"
           },
           {
            "args": [
             {
              "visible": [
               false,
               false,
               true,
               true,
               false,
               false
              ]
             },
             {
              "annotations": [
               {
                "showarrow": false,
                "text": "Total Value: 300",
                "x": 0.5,
                "y": 1.15
               },
               {
                "showarrow": false,
                "text": "Unique Items: 2",
                "x": 0.5,
                "y": 1.1
               }
              ],
              "title": "Category B"
             }
            ],
            "label": "Category B",
            "method": "update"
           },
           {
            "args": [
             {
              "visible": [
               false,
               false,
               false,
               false,
               true,
               true
              ]
             },
             {
              "annotations": [
               {
                "showarrow": false,
                "text": "Total Value: 460",
                "x": 0.5,
                "y": 1.15
               },
               {
                "showarrow": false,
                "text": "Unique Items: 2",
                "x": 0.5,
                "y": 1.1
               }
              ],
              "title": "Category C"
             }
            ],
            "label": "Category C",
            "method": "update"
           }
          ],
          "direction": "down",
          "showactive": true,
          "x": 0.85,
          "y": 1.1
         },
         {
          "buttons": [
           {
            "args": [
             {
              "visible": [
               true,
               true,
               true,
               true,
               true,
               true
              ]
             },
             {
              "annotations": [
               {
                "showarrow": false,
                "text": "Total Value: 1010",
                "x": 0.5,
                "y": 1.15
               },
               {
                "showarrow": false,
                "text": "Unique Items: 6",
                "x": 0.5,
                "y": 1.1
               }
              ],
              "title": "All Subcategories"
             }
            ],
            "label": "All Subcategories",
            "method": "update"
           },
           {
            "args": [
             {
              "visible": [
               true,
               false,
               true,
               false,
               true,
               false
              ]
             },
             {
              "annotations": [
               {
                "showarrow": false,
                "text": "Total Value: 440",
                "x": 0.5,
                "y": 1.15
               },
               {
                "showarrow": false,
                "text": "Unique Items: 3",
                "x": 0.5,
                "y": 1.1
               }
              ],
              "title": "Subcategory X"
             }
            ],
            "label": "Subcategory X",
            "method": "update"
           },
           {
            "args": [
             {
              "visible": [
               false,
               true,
               false,
               true,
               false,
               true
              ]
             },
             {
              "annotations": [
               {
                "showarrow": false,
                "text": "Total Value: 570",
                "x": 0.5,
                "y": 1.15
               },
               {
                "showarrow": false,
                "text": "Unique Items: 3",
                "x": 0.5,
                "y": 1.1
               }
              ],
              "title": "Subcategory Y"
             }
            ],
            "label": "Subcategory Y",
            "method": "update"
           }
          ],
          "direction": "down",
          "showactive": true,
          "x": 0.95,
          "y": 1.1
         }
        ]
       }
      }
     },
     "metadata": {},
     "output_type": "display_data"
    }
   ],
   "source": [
    "import plotly.graph_objects as go\n",
    "import pandas as pd\n",
    "\n",
    "# Sample data with category, subcategory, total_value, and item_id columns\n",
    "data = {\n",
    "    \"Category\": [\"A\", \"A\", \"B\", \"B\", \"C\", \"C\"],\n",
    "    \"Subcategory\": [\"X\", \"Y\", \"X\", \"Y\", \"X\", \"Y\"],\n",
    "    \"X\": [1, 2, 3, 4, 5, 6],\n",
    "    \"Y\": [10, 15, 13, 17, 21, 25],\n",
    "    \"total_value\": [100, 150, 130, 170, 210, 250],  # Column for summing\n",
    "    \"item_id\": [1, 2, 3, 4, 5, 6],  # Unique identifier for each item\n",
    "}\n",
    "df = pd.DataFrame(data)\n",
    "\n",
    "# Create the figure\n",
    "fig = go.Figure()\n",
    "\n",
    "# Add traces for each combination of category and subcategory\n",
    "for category in df[\"Category\"].unique():\n",
    "    for subcategory in df[\"Subcategory\"].unique():\n",
    "        filtered_df = df[(df[\"Category\"] == category) & (df[\"Subcategory\"] == subcategory)]\n",
    "        fig.add_trace(\n",
    "            go.Scatter(\n",
    "                x=filtered_df[\"X\"],\n",
    "                y=filtered_df[\"Y\"],\n",
    "                name=f\"{category} - {subcategory}\",\n",
    "                visible=True,  # All traces are visible by default\n",
    "            )\n",
    "        )\n",
    "\n",
    "# Function to calculate the sum of total_value based on visible traces\n",
    "def calculate_total_value(visible_traces):\n",
    "    total = 0\n",
    "    for trace, visible in zip(fig.data, visible_traces):\n",
    "        if visible:\n",
    "            category, subcategory = trace.name.split(\" - \")\n",
    "            filtered_df = df[(df[\"Category\"] == category) & (df[\"Subcategory\"] == subcategory)]\n",
    "            total += filtered_df[\"total_value\"].sum()\n",
    "    return total\n",
    "\n",
    "# Function to calculate the unique count of items based on visible traces\n",
    "def calculate_unique_count(visible_traces):\n",
    "    unique_items = set()\n",
    "    for trace, visible in zip(fig.data, visible_traces):\n",
    "        if visible:\n",
    "            category, subcategory = trace.name.split(\" - \")\n",
    "            filtered_df = df[(df[\"Category\"] == category) & (df[\"Subcategory\"] == subcategory)]\n",
    "            unique_items.update(filtered_df[\"item_id\"].tolist())\n",
    "    return len(unique_items)\n",
    "\n",
    "# Initial calculations (all traces are visible)\n",
    "initial_total = calculate_total_value([True] * len(fig.data))\n",
    "initial_unique_count = calculate_unique_count([True] * len(fig.data))\n",
    "\n",
    "# Create dropdown menu for Category (first dropdown on the right)\n",
    "category_dropdown = [\n",
    "    {\n",
    "        \"label\": \"All Categories\",\n",
    "        \"method\": \"update\",\n",
    "        \"args\": [\n",
    "            {\"visible\": [True] * len(fig.data)},\n",
    "            {\n",
    "                \"title\": \"All Categories\",\n",
    "                \"annotations\": [\n",
    "                    {\"text\": f\"Total Value: {calculate_total_value([True] * len(fig.data))}\", \"x\": 0.5, \"y\": 1.15, \"showarrow\": False},\n",
    "                    {\"text\": f\"Unique Items: {calculate_unique_count([True] * len(fig.data))}\", \"x\": 0.5, \"y\": 1.1, \"showarrow\": False},\n",
    "                ],\n",
    "            },\n",
    "        ],\n",
    "    }\n",
    "] + [\n",
    "    {\n",
    "        \"label\": f\"Category {category}\",\n",
    "        \"method\": \"update\",\n",
    "        \"args\": [\n",
    "            {\"visible\": [trace.name.startswith(f\"{category}\") for trace in fig.data]},\n",
    "            {\n",
    "                \"title\": f\"Category {category}\",\n",
    "                \"annotations\": [\n",
    "                    {\"text\": f\"Total Value: {calculate_total_value([trace.name.startswith(f'{category}') for trace in fig.data])}\", \"x\": 0.5, \"y\": 1.15, \"showarrow\": False},\n",
    "                    {\"text\": f\"Unique Items: {calculate_unique_count([trace.name.startswith(f'{category}') for trace in fig.data])}\", \"x\": 0.5, \"y\": 1.1, \"showarrow\": False},\n",
    "                ],\n",
    "            },\n",
    "        ],\n",
    "    }\n",
    "    for category in df[\"Category\"].unique()\n",
    "]\n",
    "\n",
    "# Create dropdown menu for Subcategory (second dropdown on the right)\n",
    "subcategory_dropdown = [\n",
    "    {\n",
    "        \"label\": \"All Subcategories\",\n",
    "        \"method\": \"update\",\n",
    "        \"args\": [\n",
    "            {\"visible\": [True] * len(fig.data)},\n",
    "            {\n",
    "                \"title\": \"All Subcategories\",\n",
    "                \"annotations\": [\n",
    "                    {\"text\": f\"Total Value: {calculate_total_value([True] * len(fig.data))}\", \"x\": 0.5, \"y\": 1.15, \"showarrow\": False},\n",
    "                    {\"text\": f\"Unique Items: {calculate_unique_count([True] * len(fig.data))}\", \"x\": 0.5, \"y\": 1.1, \"showarrow\": False},\n",
    "                ],\n",
    "            },\n",
    "        ],\n",
    "    }\n",
    "] + [\n",
    "    {\n",
    "        \"label\": f\"Subcategory {subcategory}\",\n",
    "        \"method\": \"update\",\n",
    "        \"args\": [\n",
    "            {\"visible\": [trace.name.endswith(f\"{subcategory}\") for trace in fig.data]},\n",
    "            {\n",
    "                \"title\": f\"Subcategory {subcategory}\",\n",
    "                \"annotations\": [\n",
    "                    {\"text\": f\"Total Value: {calculate_total_value([trace.name.endswith(f'{subcategory}') for trace in fig.data])}\", \"x\": 0.5, \"y\": 1.15, \"showarrow\": False},\n",
    "                    {\"text\": f\"Unique Items: {calculate_unique_count([trace.name.endswith(f'{subcategory}') for trace in fig.data])}\", \"x\": 0.5, \"y\": 1.1, \"showarrow\": False},\n",
    "                ],\n",
    "            },\n",
    "        ],\n",
    "    }\n",
    "    for subcategory in df[\"Subcategory\"].unique()\n",
    "]\n",
    "\n",
    "# Update layout with dropdowns and initial annotations\n",
    "fig.update_layout(\n",
    "    updatemenus=[\n",
    "        # First dropdown (Category)\n",
    "        {\n",
    "            \"buttons\": category_dropdown,\n",
    "            \"direction\": \"down\",\n",
    "            \"showactive\": True,\n",
    "            \"x\": 0.85,  # Position on the right\n",
    "            \"y\": 1.1,\n",
    "        },\n",
    "        # Second dropdown (Subcategory)\n",
    "        {\n",
    "            \"buttons\": subcategory_dropdown,\n",
    "            \"direction\": \"down\",\n",
    "            \"showactive\": True,\n",
    "            \"x\": 0.95,  # Position to the right of the first dropdown\n",
    "            \"y\": 1.1,\n",
    "        },\n",
    "    ],\n",
    "    title=\"Dropdown Filters by Category and Subcategory\",\n",
    "    annotations=[\n",
    "        {\n",
    "            \"text\": f\"Total Value: {initial_total}\",\n",
    "            \"x\": 0.5,  # Center of the chart\n",
    "            \"y\": 1.15,  # Above the title\n",
    "            \"showarrow\": False,\n",
    "            \"font\": {\"size\": 16},\n",
    "        },\n",
    "        {\n",
    "            \"text\": f\"Unique Items: {initial_unique_count}\",\n",
    "            \"x\": 0.5,  # Center of the chart\n",
    "            \"y\": 1.1,  # Below the total value annotation\n",
    "            \"showarrow\": False,\n",
    "            \"font\": {\"size\": 16},\n",
    "        },\n",
    "    ],\n",
    ")\n",
    "\n",
    "# Export to HTML\n",
    "fig.write_html(\"plot_with_dynamic_annotations.html\")\n",
    "\n",
    "# Show the plot (optional)\n",
    "fig.show()"
   ]
  },
  {
   "cell_type": "code",
   "execution_count": 9,
   "metadata": {},
   "outputs": [
    {
     "data": {
      "application/vnd.plotly.v1+json": {
       "config": {
        "plotlyServerURL": "https://plot.ly"
       },
       "data": [
        {
         "name": "A - X",
         "type": "scatter",
         "visible": true,
         "x": {
          "bdata": "AQ==",
          "dtype": "i1"
         },
         "y": {
          "bdata": "Cg==",
          "dtype": "i1"
         }
        },
        {
         "name": "A - Y",
         "type": "scatter",
         "visible": true,
         "x": {
          "bdata": "Ag==",
          "dtype": "i1"
         },
         "y": {
          "bdata": "Dw==",
          "dtype": "i1"
         }
        },
        {
         "name": "B - X",
         "type": "scatter",
         "visible": true,
         "x": {
          "bdata": "Aw==",
          "dtype": "i1"
         },
         "y": {
          "bdata": "DQ==",
          "dtype": "i1"
         }
        },
        {
         "name": "B - Y",
         "type": "scatter",
         "visible": true,
         "x": {
          "bdata": "BA==",
          "dtype": "i1"
         },
         "y": {
          "bdata": "EQ==",
          "dtype": "i1"
         }
        },
        {
         "name": "C - X",
         "type": "scatter",
         "visible": true,
         "x": {
          "bdata": "BQ==",
          "dtype": "i1"
         },
         "y": {
          "bdata": "FQ==",
          "dtype": "i1"
         }
        },
        {
         "name": "C - Y",
         "type": "scatter",
         "visible": true,
         "x": {
          "bdata": "Bg==",
          "dtype": "i1"
         },
         "y": {
          "bdata": "GQ==",
          "dtype": "i1"
         }
        }
       ],
       "layout": {
        "annotations": [
         {
          "font": {
           "size": 16
          },
          "showarrow": false,
          "text": "Total Value: 1010",
          "x": 0.5,
          "y": 1.15
         },
         {
          "font": {
           "size": 16
          },
          "showarrow": false,
          "text": "Unique Items: 6",
          "x": 0.5,
          "y": 1.1
         }
        ],
        "template": {
         "data": {
          "bar": [
           {
            "error_x": {
             "color": "#2a3f5f"
            },
            "error_y": {
             "color": "#2a3f5f"
            },
            "marker": {
             "line": {
              "color": "#E5ECF6",
              "width": 0.5
             },
             "pattern": {
              "fillmode": "overlay",
              "size": 10,
              "solidity": 0.2
             }
            },
            "type": "bar"
           }
          ],
          "barpolar": [
           {
            "marker": {
             "line": {
              "color": "#E5ECF6",
              "width": 0.5
             },
             "pattern": {
              "fillmode": "overlay",
              "size": 10,
              "solidity": 0.2
             }
            },
            "type": "barpolar"
           }
          ],
          "carpet": [
           {
            "aaxis": {
             "endlinecolor": "#2a3f5f",
             "gridcolor": "white",
             "linecolor": "white",
             "minorgridcolor": "white",
             "startlinecolor": "#2a3f5f"
            },
            "baxis": {
             "endlinecolor": "#2a3f5f",
             "gridcolor": "white",
             "linecolor": "white",
             "minorgridcolor": "white",
             "startlinecolor": "#2a3f5f"
            },
            "type": "carpet"
           }
          ],
          "choropleth": [
           {
            "colorbar": {
             "outlinewidth": 0,
             "ticks": ""
            },
            "type": "choropleth"
           }
          ],
          "contour": [
           {
            "colorbar": {
             "outlinewidth": 0,
             "ticks": ""
            },
            "colorscale": [
             [
              0,
              "#0d0887"
             ],
             [
              0.1111111111111111,
              "#46039f"
             ],
             [
              0.2222222222222222,
              "#7201a8"
             ],
             [
              0.3333333333333333,
              "#9c179e"
             ],
             [
              0.4444444444444444,
              "#bd3786"
             ],
             [
              0.5555555555555556,
              "#d8576b"
             ],
             [
              0.6666666666666666,
              "#ed7953"
             ],
             [
              0.7777777777777778,
              "#fb9f3a"
             ],
             [
              0.8888888888888888,
              "#fdca26"
             ],
             [
              1,
              "#f0f921"
             ]
            ],
            "type": "contour"
           }
          ],
          "contourcarpet": [
           {
            "colorbar": {
             "outlinewidth": 0,
             "ticks": ""
            },
            "type": "contourcarpet"
           }
          ],
          "heatmap": [
           {
            "colorbar": {
             "outlinewidth": 0,
             "ticks": ""
            },
            "colorscale": [
             [
              0,
              "#0d0887"
             ],
             [
              0.1111111111111111,
              "#46039f"
             ],
             [
              0.2222222222222222,
              "#7201a8"
             ],
             [
              0.3333333333333333,
              "#9c179e"
             ],
             [
              0.4444444444444444,
              "#bd3786"
             ],
             [
              0.5555555555555556,
              "#d8576b"
             ],
             [
              0.6666666666666666,
              "#ed7953"
             ],
             [
              0.7777777777777778,
              "#fb9f3a"
             ],
             [
              0.8888888888888888,
              "#fdca26"
             ],
             [
              1,
              "#f0f921"
             ]
            ],
            "type": "heatmap"
           }
          ],
          "histogram": [
           {
            "marker": {
             "pattern": {
              "fillmode": "overlay",
              "size": 10,
              "solidity": 0.2
             }
            },
            "type": "histogram"
           }
          ],
          "histogram2d": [
           {
            "colorbar": {
             "outlinewidth": 0,
             "ticks": ""
            },
            "colorscale": [
             [
              0,
              "#0d0887"
             ],
             [
              0.1111111111111111,
              "#46039f"
             ],
             [
              0.2222222222222222,
              "#7201a8"
             ],
             [
              0.3333333333333333,
              "#9c179e"
             ],
             [
              0.4444444444444444,
              "#bd3786"
             ],
             [
              0.5555555555555556,
              "#d8576b"
             ],
             [
              0.6666666666666666,
              "#ed7953"
             ],
             [
              0.7777777777777778,
              "#fb9f3a"
             ],
             [
              0.8888888888888888,
              "#fdca26"
             ],
             [
              1,
              "#f0f921"
             ]
            ],
            "type": "histogram2d"
           }
          ],
          "histogram2dcontour": [
           {
            "colorbar": {
             "outlinewidth": 0,
             "ticks": ""
            },
            "colorscale": [
             [
              0,
              "#0d0887"
             ],
             [
              0.1111111111111111,
              "#46039f"
             ],
             [
              0.2222222222222222,
              "#7201a8"
             ],
             [
              0.3333333333333333,
              "#9c179e"
             ],
             [
              0.4444444444444444,
              "#bd3786"
             ],
             [
              0.5555555555555556,
              "#d8576b"
             ],
             [
              0.6666666666666666,
              "#ed7953"
             ],
             [
              0.7777777777777778,
              "#fb9f3a"
             ],
             [
              0.8888888888888888,
              "#fdca26"
             ],
             [
              1,
              "#f0f921"
             ]
            ],
            "type": "histogram2dcontour"
           }
          ],
          "mesh3d": [
           {
            "colorbar": {
             "outlinewidth": 0,
             "ticks": ""
            },
            "type": "mesh3d"
           }
          ],
          "parcoords": [
           {
            "line": {
             "colorbar": {
              "outlinewidth": 0,
              "ticks": ""
             }
            },
            "type": "parcoords"
           }
          ],
          "pie": [
           {
            "automargin": true,
            "type": "pie"
           }
          ],
          "scatter": [
           {
            "fillpattern": {
             "fillmode": "overlay",
             "size": 10,
             "solidity": 0.2
            },
            "type": "scatter"
           }
          ],
          "scatter3d": [
           {
            "line": {
             "colorbar": {
              "outlinewidth": 0,
              "ticks": ""
             }
            },
            "marker": {
             "colorbar": {
              "outlinewidth": 0,
              "ticks": ""
             }
            },
            "type": "scatter3d"
           }
          ],
          "scattercarpet": [
           {
            "marker": {
             "colorbar": {
              "outlinewidth": 0,
              "ticks": ""
             }
            },
            "type": "scattercarpet"
           }
          ],
          "scattergeo": [
           {
            "marker": {
             "colorbar": {
              "outlinewidth": 0,
              "ticks": ""
             }
            },
            "type": "scattergeo"
           }
          ],
          "scattergl": [
           {
            "marker": {
             "colorbar": {
              "outlinewidth": 0,
              "ticks": ""
             }
            },
            "type": "scattergl"
           }
          ],
          "scattermap": [
           {
            "marker": {
             "colorbar": {
              "outlinewidth": 0,
              "ticks": ""
             }
            },
            "type": "scattermap"
           }
          ],
          "scattermapbox": [
           {
            "marker": {
             "colorbar": {
              "outlinewidth": 0,
              "ticks": ""
             }
            },
            "type": "scattermapbox"
           }
          ],
          "scatterpolar": [
           {
            "marker": {
             "colorbar": {
              "outlinewidth": 0,
              "ticks": ""
             }
            },
            "type": "scatterpolar"
           }
          ],
          "scatterpolargl": [
           {
            "marker": {
             "colorbar": {
              "outlinewidth": 0,
              "ticks": ""
             }
            },
            "type": "scatterpolargl"
           }
          ],
          "scatterternary": [
           {
            "marker": {
             "colorbar": {
              "outlinewidth": 0,
              "ticks": ""
             }
            },
            "type": "scatterternary"
           }
          ],
          "surface": [
           {
            "colorbar": {
             "outlinewidth": 0,
             "ticks": ""
            },
            "colorscale": [
             [
              0,
              "#0d0887"
             ],
             [
              0.1111111111111111,
              "#46039f"
             ],
             [
              0.2222222222222222,
              "#7201a8"
             ],
             [
              0.3333333333333333,
              "#9c179e"
             ],
             [
              0.4444444444444444,
              "#bd3786"
             ],
             [
              0.5555555555555556,
              "#d8576b"
             ],
             [
              0.6666666666666666,
              "#ed7953"
             ],
             [
              0.7777777777777778,
              "#fb9f3a"
             ],
             [
              0.8888888888888888,
              "#fdca26"
             ],
             [
              1,
              "#f0f921"
             ]
            ],
            "type": "surface"
           }
          ],
          "table": [
           {
            "cells": {
             "fill": {
              "color": "#EBF0F8"
             },
             "line": {
              "color": "white"
             }
            },
            "header": {
             "fill": {
              "color": "#C8D4E3"
             },
             "line": {
              "color": "white"
             }
            },
            "type": "table"
           }
          ]
         },
         "layout": {
          "annotationdefaults": {
           "arrowcolor": "#2a3f5f",
           "arrowhead": 0,
           "arrowwidth": 1
          },
          "autotypenumbers": "strict",
          "coloraxis": {
           "colorbar": {
            "outlinewidth": 0,
            "ticks": ""
           }
          },
          "colorscale": {
           "diverging": [
            [
             0,
             "#8e0152"
            ],
            [
             0.1,
             "#c51b7d"
            ],
            [
             0.2,
             "#de77ae"
            ],
            [
             0.3,
             "#f1b6da"
            ],
            [
             0.4,
             "#fde0ef"
            ],
            [
             0.5,
             "#f7f7f7"
            ],
            [
             0.6,
             "#e6f5d0"
            ],
            [
             0.7,
             "#b8e186"
            ],
            [
             0.8,
             "#7fbc41"
            ],
            [
             0.9,
             "#4d9221"
            ],
            [
             1,
             "#276419"
            ]
           ],
           "sequential": [
            [
             0,
             "#0d0887"
            ],
            [
             0.1111111111111111,
             "#46039f"
            ],
            [
             0.2222222222222222,
             "#7201a8"
            ],
            [
             0.3333333333333333,
             "#9c179e"
            ],
            [
             0.4444444444444444,
             "#bd3786"
            ],
            [
             0.5555555555555556,
             "#d8576b"
            ],
            [
             0.6666666666666666,
             "#ed7953"
            ],
            [
             0.7777777777777778,
             "#fb9f3a"
            ],
            [
             0.8888888888888888,
             "#fdca26"
            ],
            [
             1,
             "#f0f921"
            ]
           ],
           "sequentialminus": [
            [
             0,
             "#0d0887"
            ],
            [
             0.1111111111111111,
             "#46039f"
            ],
            [
             0.2222222222222222,
             "#7201a8"
            ],
            [
             0.3333333333333333,
             "#9c179e"
            ],
            [
             0.4444444444444444,
             "#bd3786"
            ],
            [
             0.5555555555555556,
             "#d8576b"
            ],
            [
             0.6666666666666666,
             "#ed7953"
            ],
            [
             0.7777777777777778,
             "#fb9f3a"
            ],
            [
             0.8888888888888888,
             "#fdca26"
            ],
            [
             1,
             "#f0f921"
            ]
           ]
          },
          "colorway": [
           "#636efa",
           "#EF553B",
           "#00cc96",
           "#ab63fa",
           "#FFA15A",
           "#19d3f3",
           "#FF6692",
           "#B6E880",
           "#FF97FF",
           "#FECB52"
          ],
          "font": {
           "color": "#2a3f5f"
          },
          "geo": {
           "bgcolor": "white",
           "lakecolor": "white",
           "landcolor": "#E5ECF6",
           "showlakes": true,
           "showland": true,
           "subunitcolor": "white"
          },
          "hoverlabel": {
           "align": "left"
          },
          "hovermode": "closest",
          "mapbox": {
           "style": "light"
          },
          "paper_bgcolor": "white",
          "plot_bgcolor": "#E5ECF6",
          "polar": {
           "angularaxis": {
            "gridcolor": "white",
            "linecolor": "white",
            "ticks": ""
           },
           "bgcolor": "#E5ECF6",
           "radialaxis": {
            "gridcolor": "white",
            "linecolor": "white",
            "ticks": ""
           }
          },
          "scene": {
           "xaxis": {
            "backgroundcolor": "#E5ECF6",
            "gridcolor": "white",
            "gridwidth": 2,
            "linecolor": "white",
            "showbackground": true,
            "ticks": "",
            "zerolinecolor": "white"
           },
           "yaxis": {
            "backgroundcolor": "#E5ECF6",
            "gridcolor": "white",
            "gridwidth": 2,
            "linecolor": "white",
            "showbackground": true,
            "ticks": "",
            "zerolinecolor": "white"
           },
           "zaxis": {
            "backgroundcolor": "#E5ECF6",
            "gridcolor": "white",
            "gridwidth": 2,
            "linecolor": "white",
            "showbackground": true,
            "ticks": "",
            "zerolinecolor": "white"
           }
          },
          "shapedefaults": {
           "line": {
            "color": "#2a3f5f"
           }
          },
          "ternary": {
           "aaxis": {
            "gridcolor": "white",
            "linecolor": "white",
            "ticks": ""
           },
           "baxis": {
            "gridcolor": "white",
            "linecolor": "white",
            "ticks": ""
           },
           "bgcolor": "#E5ECF6",
           "caxis": {
            "gridcolor": "white",
            "linecolor": "white",
            "ticks": ""
           }
          },
          "title": {
           "x": 0.05
          },
          "xaxis": {
           "automargin": true,
           "gridcolor": "white",
           "linecolor": "white",
           "ticks": "",
           "title": {
            "standoff": 15
           },
           "zerolinecolor": "white",
           "zerolinewidth": 2
          },
          "yaxis": {
           "automargin": true,
           "gridcolor": "white",
           "linecolor": "white",
           "ticks": "",
           "title": {
            "standoff": 15
           },
           "zerolinecolor": "white",
           "zerolinewidth": 2
          }
         }
        },
        "title": {
         "text": "Dropdown Filters by Category and Subcategory"
        },
        "updatemenus": [
         {
          "buttons": [
           {
            "args": [
             {
              "visible": [
               true,
               true,
               true,
               true,
               true,
               true
              ]
             },
             {
              "annotations": [
               {
                "showarrow": false,
                "text": "Total Value: 1010",
                "x": 0.5,
                "y": 1.15
               },
               {
                "showarrow": false,
                "text": "Unique Items: 6",
                "x": 0.5,
                "y": 1.1
               }
              ],
              "title": "All Categories"
             }
            ],
            "label": "All Categories",
            "method": "update"
           },
           {
            "args": [
             {
              "visible": [
               true,
               true,
               false,
               false,
               false,
               false
              ]
             },
             {
              "annotations": [
               {
                "showarrow": false,
                "text": "Total Value: 250",
                "x": 0.5,
                "y": 1.15
               },
               {
                "showarrow": false,
                "text": "Unique Items: 2",
                "x": 0.5,
                "y": 1.1
               }
              ],
              "title": "Category A"
             },
             {
              "visible": [
               true,
               true,
               false,
               false,
               false,
               false
              ]
             }
            ],
            "label": "Category A",
            "method": "update"
           },
           {
            "args": [
             {
              "visible": [
               false,
               false,
               true,
               true,
               false,
               false
              ]
             },
             {
              "annotations": [
               {
                "showarrow": false,
                "text": "Total Value: 300",
                "x": 0.5,
                "y": 1.15
               },
               {
                "showarrow": false,
                "text": "Unique Items: 2",
                "x": 0.5,
                "y": 1.1
               }
              ],
              "title": "Category B"
             },
             {
              "visible": [
               false,
               false,
               true,
               true,
               false,
               false
              ]
             }
            ],
            "label": "Category B",
            "method": "update"
           },
           {
            "args": [
             {
              "visible": [
               false,
               false,
               false,
               false,
               true,
               true
              ]
             },
             {
              "annotations": [
               {
                "showarrow": false,
                "text": "Total Value: 460",
                "x": 0.5,
                "y": 1.15
               },
               {
                "showarrow": false,
                "text": "Unique Items: 2",
                "x": 0.5,
                "y": 1.1
               }
              ],
              "title": "Category C"
             },
             {
              "visible": [
               false,
               false,
               false,
               false,
               true,
               true
              ]
             }
            ],
            "label": "Category C",
            "method": "update"
           }
          ],
          "direction": "down",
          "showactive": true,
          "x": 0.85,
          "y": 1.1
         },
         {
          "buttons": [
           {
            "args": [
             {
              "visible": [
               true,
               true,
               true,
               true,
               true,
               true
              ]
             },
             {
              "annotations": [
               {
                "showarrow": false,
                "text": "Total Value: 1010",
                "x": 0.5,
                "y": 1.15
               },
               {
                "showarrow": false,
                "text": "Unique Items: 6",
                "x": 0.5,
                "y": 1.1
               }
              ],
              "title": "All Subcategories"
             }
            ],
            "label": "All Subcategories",
            "method": "update"
           },
           {
            "args": [
             {
              "visible": [
               true,
               false,
               true,
               false,
               true,
               false
              ]
             },
             {
              "annotations": [
               {
                "showarrow": false,
                "text": "Total Value: 440",
                "x": 0.5,
                "y": 1.15
               },
               {
                "showarrow": false,
                "text": "Unique Items: 3",
                "x": 0.5,
                "y": 1.1
               }
              ],
              "title": "Subcategory X"
             }
            ],
            "label": "Subcategory X",
            "method": "update"
           },
           {
            "args": [
             {
              "visible": [
               false,
               true,
               false,
               true,
               false,
               true
              ]
             },
             {
              "annotations": [
               {
                "showarrow": false,
                "text": "Total Value: 570",
                "x": 0.5,
                "y": 1.15
               },
               {
                "showarrow": false,
                "text": "Unique Items: 3",
                "x": 0.5,
                "y": 1.1
               }
              ],
              "title": "Subcategory Y"
             }
            ],
            "label": "Subcategory Y",
            "method": "update"
           }
          ],
          "direction": "down",
          "showactive": true,
          "x": 0.95,
          "y": 1.1
         }
        ]
       }
      }
     },
     "metadata": {},
     "output_type": "display_data"
    }
   ],
   "source": [
    "import plotly.graph_objects as go\n",
    "import pandas as pd\n",
    "\n",
    "# Sample data with category, subcategory, total_value, and item_id columns\n",
    "data = {\n",
    "    \"Category\": [\"A\", \"A\", \"B\", \"B\", \"C\", \"C\"],\n",
    "    \"Subcategory\": [\"X\", \"Y\", \"X\", \"Y\", \"X\", \"Y\"],\n",
    "    \"X\": [1, 2, 3, 4, 5, 6],\n",
    "    \"Y\": [10, 15, 13, 17, 21, 25],\n",
    "    \"total_value\": [100, 150, 130, 170, 210, 250],  # Column for summing\n",
    "    \"item_id\": [1, 2, 3, 4, 5, 6],  # Unique identifier for each item\n",
    "}\n",
    "df = pd.DataFrame(data)\n",
    "\n",
    "# Create the figure\n",
    "fig = go.Figure()\n",
    "\n",
    "# Add traces for each combination of category and subcategory\n",
    "for category in df[\"Category\"].unique():\n",
    "    for subcategory in df[\"Subcategory\"].unique():\n",
    "        filtered_df = df[(df[\"Category\"] == category) & (df[\"Subcategory\"] == subcategory)]\n",
    "        fig.add_trace(\n",
    "            go.Scatter(\n",
    "                x=filtered_df[\"X\"],\n",
    "                y=filtered_df[\"Y\"],\n",
    "                name=f\"{category} - {subcategory}\",\n",
    "                visible=True,  # All traces are visible by default\n",
    "            )\n",
    "        )\n",
    "\n",
    "# Function to calculate the sum of total_value based on visible traces\n",
    "def calculate_total_value(visible_traces):\n",
    "    total = 0\n",
    "    for trace, visible in zip(fig.data, visible_traces):\n",
    "        if visible:\n",
    "            category, subcategory = trace.name.split(\" - \")\n",
    "            filtered_df = df[(df[\"Category\"] == category) & (df[\"Subcategory\"] == subcategory)]\n",
    "            total += filtered_df[\"total_value\"].sum()\n",
    "    return total\n",
    "\n",
    "# Function to calculate the unique count of items based on visible traces\n",
    "def calculate_unique_count(visible_traces):\n",
    "    unique_items = set()\n",
    "    for trace, visible in zip(fig.data, visible_traces):\n",
    "        if visible:\n",
    "            category, subcategory = trace.name.split(\" - \")\n",
    "            filtered_df = df[(df[\"Category\"] == category) & (df[\"Subcategory\"] == subcategory)]\n",
    "            unique_items.update(filtered_df[\"item_id\"].tolist())\n",
    "    return len(unique_items)\n",
    "\n",
    "# Initial calculations (all traces are visible)\n",
    "initial_total = calculate_total_value([True] * len(fig.data))\n",
    "initial_unique_count = calculate_unique_count([True] * len(fig.data))\n",
    "\n",
    "# Create dropdown menu for Category (first dropdown on the right)\n",
    "category_dropdown = [\n",
    "    {\n",
    "        \"label\": \"All Categories\",\n",
    "        \"method\": \"update\",\n",
    "        \"args\": [\n",
    "            {\"visible\": [True] * len(fig.data)},\n",
    "            {\n",
    "                \"title\": \"All Categories\",\n",
    "                \"annotations\": [\n",
    "                    {\"text\": f\"Total Value: {initial_total}\", \"x\": 0.5, \"y\": 1.15, \"showarrow\": False},\n",
    "                    {\"text\": f\"Unique Items: {initial_unique_count}\", \"x\": 0.5, \"y\": 1.1, \"showarrow\": False},\n",
    "                ],\n",
    "            },\n",
    "        ],\n",
    "    }\n",
    "] + [\n",
    "    {\n",
    "        \"label\": f\"Category {category}\",\n",
    "        \"method\": \"update\",\n",
    "        \"args\": [\n",
    "            {\"visible\": [trace.name.startswith(f\"{category}\") for trace in fig.data]},\n",
    "            {\n",
    "                \"title\": f\"Category {category}\",\n",
    "                \"annotations\": [\n",
    "                    {\"text\": f\"Total Value: {calculate_total_value([trace.name.startswith(f'{category}') for trace in fig.data])}\", \"x\": 0.5, \"y\": 1.15, \"showarrow\": False},\n",
    "                    {\"text\": f\"Unique Items: {calculate_unique_count([trace.name.startswith(f'{category}') for trace in fig.data])}\", \"x\": 0.5, \"y\": 1.1, \"showarrow\": False},\n",
    "                ],\n",
    "            },\n",
    "            # Update the subcategory options based on selected category\n",
    "            {\n",
    "                \"visible\": [trace.name.startswith(f\"{category}\") for trace in fig.data]\n",
    "            }\n",
    "        ],\n",
    "    }\n",
    "    for category in df[\"Category\"].unique()\n",
    "]\n",
    "\n",
    "# Create dropdown menu for Subcategory (second dropdown on the right)\n",
    "subcategory_dropdown = [\n",
    "    {\n",
    "        \"label\": \"All Subcategories\",\n",
    "        \"method\": \"update\",\n",
    "        \"args\": [\n",
    "            {\"visible\": [True] * len(fig.data)},\n",
    "            {\n",
    "                \"title\": \"All Subcategories\",\n",
    "                \"annotations\": [\n",
    "                    {\"text\": f\"Total Value: {initial_total}\", \"x\": 0.5, \"y\": 1.15, \"showarrow\": False},\n",
    "                    {\"text\": f\"Unique Items: {initial_unique_count}\", \"x\": 0.5, \"y\": 1.1, \"showarrow\": False},\n",
    "                ],\n",
    "            },\n",
    "        ],\n",
    "    }\n",
    "] + [\n",
    "    {\n",
    "        \"label\": f\"Subcategory {subcategory}\",\n",
    "        \"method\": \"update\",\n",
    "        \"args\": [\n",
    "            {\"visible\": [trace.name.endswith(f\"{subcategory}\") for trace in fig.data]},\n",
    "            {\n",
    "                \"title\": f\"Subcategory {subcategory}\",\n",
    "                \"annotations\": [\n",
    "                    {\"text\": f\"Total Value: {calculate_total_value([trace.name.endswith(f'{subcategory}') for trace in fig.data])}\", \"x\": 0.5, \"y\": 1.15, \"showarrow\": False},\n",
    "                    {\"text\": f\"Unique Items: {calculate_unique_count([trace.name.endswith(f'{subcategory}') for trace in fig.data])}\", \"x\": 0.5, \"y\": 1.1, \"showarrow\": False},\n",
    "                ],\n",
    "            },\n",
    "        ],\n",
    "    }\n",
    "    for subcategory in df[df[\"Category\"] == \"A\"][\"Subcategory\"].unique()  # Adjust dynamically based on category\n",
    "]\n",
    "\n",
    "# Update layout with dropdowns and initial annotations\n",
    "fig.update_layout(\n",
    "    updatemenus=[\n",
    "        # First dropdown (Category)\n",
    "        {\n",
    "            \"buttons\": category_dropdown,\n",
    "            \"direction\": \"down\",\n",
    "            \"showactive\": True,\n",
    "            \"x\": 0.85,  # Position on the right\n",
    "            \"y\": 1.1,   # Slightly higher than the middle\n",
    "        },\n",
    "        # Second dropdown (Subcategory)\n",
    "        {\n",
    "            \"buttons\": subcategory_dropdown,\n",
    "            \"direction\": \"down\",\n",
    "            \"showactive\": True,\n",
    "            \"x\": 0.95,  # Position to the right of the first dropdown\n",
    "            \"y\": 1.1,   # Same height as the first dropdown\n",
    "        },\n",
    "    ],\n",
    "    title=\"Dropdown Filters by Category and Subcategory\",\n",
    "    annotations=[\n",
    "        {\n",
    "            \"text\": f\"Total Value: {initial_total}\",\n",
    "            \"x\": 0.5,  # Center of the chart\n",
    "            \"y\": 1.15,  # Above the title\n",
    "            \"showarrow\": False,\n",
    "            \"font\": {\"size\": 16},\n",
    "        },\n",
    "        {\n",
    "            \"text\": f\"Unique Items: {initial_unique_count}\",\n",
    "            \"x\": 0.5,  # Center of the chart\n",
    "            \"y\": 1.1,  # Below the total value annotation\n",
    "            \"showarrow\": False,\n",
    "            \"font\": {\"size\": 16},\n",
    "        },\n",
    "    ],\n",
    ")\n",
    "\n",
    "# Export to HTML\n",
    "fig.write_html(\"plot_with_dynamic_annotations.html\")\n",
    "\n",
    "# Show the plot (optional)\n",
    "fig.show()\n"
   ]
  },
  {
   "cell_type": "code",
   "execution_count": 11,
   "metadata": {},
   "outputs": [
    {
     "data": {
      "application/vnd.plotly.v1+json": {
       "config": {
        "plotlyServerURL": "https://plot.ly"
       },
       "data": [
        {
         "name": "A - X",
         "type": "scatter",
         "visible": true,
         "x": {
          "bdata": "AQ==",
          "dtype": "i1"
         },
         "y": {
          "bdata": "Cg==",
          "dtype": "i1"
         }
        },
        {
         "name": "A - Y",
         "type": "scatter",
         "visible": true,
         "x": {
          "bdata": "Ag==",
          "dtype": "i1"
         },
         "y": {
          "bdata": "Dw==",
          "dtype": "i1"
         }
        },
        {
         "name": "B - X",
         "type": "scatter",
         "visible": true,
         "x": {
          "bdata": "Aw==",
          "dtype": "i1"
         },
         "y": {
          "bdata": "DQ==",
          "dtype": "i1"
         }
        },
        {
         "name": "B - Y",
         "type": "scatter",
         "visible": true,
         "x": {
          "bdata": "BA==",
          "dtype": "i1"
         },
         "y": {
          "bdata": "EQ==",
          "dtype": "i1"
         }
        },
        {
         "name": "C - X",
         "type": "scatter",
         "visible": true,
         "x": {
          "bdata": "BQ==",
          "dtype": "i1"
         },
         "y": {
          "bdata": "FQ==",
          "dtype": "i1"
         }
        },
        {
         "name": "C - Y",
         "type": "scatter",
         "visible": true,
         "x": {
          "bdata": "Bg==",
          "dtype": "i1"
         },
         "y": {
          "bdata": "GQ==",
          "dtype": "i1"
         }
        }
       ],
       "layout": {
        "annotations": [
         {
          "font": {
           "size": 16
          },
          "showarrow": false,
          "text": "Total Value: 1010",
          "x": 0.5,
          "y": 1.15
         },
         {
          "font": {
           "size": 16
          },
          "showarrow": false,
          "text": "Unique Items: 6",
          "x": 0.5,
          "y": 1.1
         }
        ],
        "template": {
         "data": {
          "bar": [
           {
            "error_x": {
             "color": "#2a3f5f"
            },
            "error_y": {
             "color": "#2a3f5f"
            },
            "marker": {
             "line": {
              "color": "#E5ECF6",
              "width": 0.5
             },
             "pattern": {
              "fillmode": "overlay",
              "size": 10,
              "solidity": 0.2
             }
            },
            "type": "bar"
           }
          ],
          "barpolar": [
           {
            "marker": {
             "line": {
              "color": "#E5ECF6",
              "width": 0.5
             },
             "pattern": {
              "fillmode": "overlay",
              "size": 10,
              "solidity": 0.2
             }
            },
            "type": "barpolar"
           }
          ],
          "carpet": [
           {
            "aaxis": {
             "endlinecolor": "#2a3f5f",
             "gridcolor": "white",
             "linecolor": "white",
             "minorgridcolor": "white",
             "startlinecolor": "#2a3f5f"
            },
            "baxis": {
             "endlinecolor": "#2a3f5f",
             "gridcolor": "white",
             "linecolor": "white",
             "minorgridcolor": "white",
             "startlinecolor": "#2a3f5f"
            },
            "type": "carpet"
           }
          ],
          "choropleth": [
           {
            "colorbar": {
             "outlinewidth": 0,
             "ticks": ""
            },
            "type": "choropleth"
           }
          ],
          "contour": [
           {
            "colorbar": {
             "outlinewidth": 0,
             "ticks": ""
            },
            "colorscale": [
             [
              0,
              "#0d0887"
             ],
             [
              0.1111111111111111,
              "#46039f"
             ],
             [
              0.2222222222222222,
              "#7201a8"
             ],
             [
              0.3333333333333333,
              "#9c179e"
             ],
             [
              0.4444444444444444,
              "#bd3786"
             ],
             [
              0.5555555555555556,
              "#d8576b"
             ],
             [
              0.6666666666666666,
              "#ed7953"
             ],
             [
              0.7777777777777778,
              "#fb9f3a"
             ],
             [
              0.8888888888888888,
              "#fdca26"
             ],
             [
              1,
              "#f0f921"
             ]
            ],
            "type": "contour"
           }
          ],
          "contourcarpet": [
           {
            "colorbar": {
             "outlinewidth": 0,
             "ticks": ""
            },
            "type": "contourcarpet"
           }
          ],
          "heatmap": [
           {
            "colorbar": {
             "outlinewidth": 0,
             "ticks": ""
            },
            "colorscale": [
             [
              0,
              "#0d0887"
             ],
             [
              0.1111111111111111,
              "#46039f"
             ],
             [
              0.2222222222222222,
              "#7201a8"
             ],
             [
              0.3333333333333333,
              "#9c179e"
             ],
             [
              0.4444444444444444,
              "#bd3786"
             ],
             [
              0.5555555555555556,
              "#d8576b"
             ],
             [
              0.6666666666666666,
              "#ed7953"
             ],
             [
              0.7777777777777778,
              "#fb9f3a"
             ],
             [
              0.8888888888888888,
              "#fdca26"
             ],
             [
              1,
              "#f0f921"
             ]
            ],
            "type": "heatmap"
           }
          ],
          "histogram": [
           {
            "marker": {
             "pattern": {
              "fillmode": "overlay",
              "size": 10,
              "solidity": 0.2
             }
            },
            "type": "histogram"
           }
          ],
          "histogram2d": [
           {
            "colorbar": {
             "outlinewidth": 0,
             "ticks": ""
            },
            "colorscale": [
             [
              0,
              "#0d0887"
             ],
             [
              0.1111111111111111,
              "#46039f"
             ],
             [
              0.2222222222222222,
              "#7201a8"
             ],
             [
              0.3333333333333333,
              "#9c179e"
             ],
             [
              0.4444444444444444,
              "#bd3786"
             ],
             [
              0.5555555555555556,
              "#d8576b"
             ],
             [
              0.6666666666666666,
              "#ed7953"
             ],
             [
              0.7777777777777778,
              "#fb9f3a"
             ],
             [
              0.8888888888888888,
              "#fdca26"
             ],
             [
              1,
              "#f0f921"
             ]
            ],
            "type": "histogram2d"
           }
          ],
          "histogram2dcontour": [
           {
            "colorbar": {
             "outlinewidth": 0,
             "ticks": ""
            },
            "colorscale": [
             [
              0,
              "#0d0887"
             ],
             [
              0.1111111111111111,
              "#46039f"
             ],
             [
              0.2222222222222222,
              "#7201a8"
             ],
             [
              0.3333333333333333,
              "#9c179e"
             ],
             [
              0.4444444444444444,
              "#bd3786"
             ],
             [
              0.5555555555555556,
              "#d8576b"
             ],
             [
              0.6666666666666666,
              "#ed7953"
             ],
             [
              0.7777777777777778,
              "#fb9f3a"
             ],
             [
              0.8888888888888888,
              "#fdca26"
             ],
             [
              1,
              "#f0f921"
             ]
            ],
            "type": "histogram2dcontour"
           }
          ],
          "mesh3d": [
           {
            "colorbar": {
             "outlinewidth": 0,
             "ticks": ""
            },
            "type": "mesh3d"
           }
          ],
          "parcoords": [
           {
            "line": {
             "colorbar": {
              "outlinewidth": 0,
              "ticks": ""
             }
            },
            "type": "parcoords"
           }
          ],
          "pie": [
           {
            "automargin": true,
            "type": "pie"
           }
          ],
          "scatter": [
           {
            "fillpattern": {
             "fillmode": "overlay",
             "size": 10,
             "solidity": 0.2
            },
            "type": "scatter"
           }
          ],
          "scatter3d": [
           {
            "line": {
             "colorbar": {
              "outlinewidth": 0,
              "ticks": ""
             }
            },
            "marker": {
             "colorbar": {
              "outlinewidth": 0,
              "ticks": ""
             }
            },
            "type": "scatter3d"
           }
          ],
          "scattercarpet": [
           {
            "marker": {
             "colorbar": {
              "outlinewidth": 0,
              "ticks": ""
             }
            },
            "type": "scattercarpet"
           }
          ],
          "scattergeo": [
           {
            "marker": {
             "colorbar": {
              "outlinewidth": 0,
              "ticks": ""
             }
            },
            "type": "scattergeo"
           }
          ],
          "scattergl": [
           {
            "marker": {
             "colorbar": {
              "outlinewidth": 0,
              "ticks": ""
             }
            },
            "type": "scattergl"
           }
          ],
          "scattermap": [
           {
            "marker": {
             "colorbar": {
              "outlinewidth": 0,
              "ticks": ""
             }
            },
            "type": "scattermap"
           }
          ],
          "scattermapbox": [
           {
            "marker": {
             "colorbar": {
              "outlinewidth": 0,
              "ticks": ""
             }
            },
            "type": "scattermapbox"
           }
          ],
          "scatterpolar": [
           {
            "marker": {
             "colorbar": {
              "outlinewidth": 0,
              "ticks": ""
             }
            },
            "type": "scatterpolar"
           }
          ],
          "scatterpolargl": [
           {
            "marker": {
             "colorbar": {
              "outlinewidth": 0,
              "ticks": ""
             }
            },
            "type": "scatterpolargl"
           }
          ],
          "scatterternary": [
           {
            "marker": {
             "colorbar": {
              "outlinewidth": 0,
              "ticks": ""
             }
            },
            "type": "scatterternary"
           }
          ],
          "surface": [
           {
            "colorbar": {
             "outlinewidth": 0,
             "ticks": ""
            },
            "colorscale": [
             [
              0,
              "#0d0887"
             ],
             [
              0.1111111111111111,
              "#46039f"
             ],
             [
              0.2222222222222222,
              "#7201a8"
             ],
             [
              0.3333333333333333,
              "#9c179e"
             ],
             [
              0.4444444444444444,
              "#bd3786"
             ],
             [
              0.5555555555555556,
              "#d8576b"
             ],
             [
              0.6666666666666666,
              "#ed7953"
             ],
             [
              0.7777777777777778,
              "#fb9f3a"
             ],
             [
              0.8888888888888888,
              "#fdca26"
             ],
             [
              1,
              "#f0f921"
             ]
            ],
            "type": "surface"
           }
          ],
          "table": [
           {
            "cells": {
             "fill": {
              "color": "#EBF0F8"
             },
             "line": {
              "color": "white"
             }
            },
            "header": {
             "fill": {
              "color": "#C8D4E3"
             },
             "line": {
              "color": "white"
             }
            },
            "type": "table"
           }
          ]
         },
         "layout": {
          "annotationdefaults": {
           "arrowcolor": "#2a3f5f",
           "arrowhead": 0,
           "arrowwidth": 1
          },
          "autotypenumbers": "strict",
          "coloraxis": {
           "colorbar": {
            "outlinewidth": 0,
            "ticks": ""
           }
          },
          "colorscale": {
           "diverging": [
            [
             0,
             "#8e0152"
            ],
            [
             0.1,
             "#c51b7d"
            ],
            [
             0.2,
             "#de77ae"
            ],
            [
             0.3,
             "#f1b6da"
            ],
            [
             0.4,
             "#fde0ef"
            ],
            [
             0.5,
             "#f7f7f7"
            ],
            [
             0.6,
             "#e6f5d0"
            ],
            [
             0.7,
             "#b8e186"
            ],
            [
             0.8,
             "#7fbc41"
            ],
            [
             0.9,
             "#4d9221"
            ],
            [
             1,
             "#276419"
            ]
           ],
           "sequential": [
            [
             0,
             "#0d0887"
            ],
            [
             0.1111111111111111,
             "#46039f"
            ],
            [
             0.2222222222222222,
             "#7201a8"
            ],
            [
             0.3333333333333333,
             "#9c179e"
            ],
            [
             0.4444444444444444,
             "#bd3786"
            ],
            [
             0.5555555555555556,
             "#d8576b"
            ],
            [
             0.6666666666666666,
             "#ed7953"
            ],
            [
             0.7777777777777778,
             "#fb9f3a"
            ],
            [
             0.8888888888888888,
             "#fdca26"
            ],
            [
             1,
             "#f0f921"
            ]
           ],
           "sequentialminus": [
            [
             0,
             "#0d0887"
            ],
            [
             0.1111111111111111,
             "#46039f"
            ],
            [
             0.2222222222222222,
             "#7201a8"
            ],
            [
             0.3333333333333333,
             "#9c179e"
            ],
            [
             0.4444444444444444,
             "#bd3786"
            ],
            [
             0.5555555555555556,
             "#d8576b"
            ],
            [
             0.6666666666666666,
             "#ed7953"
            ],
            [
             0.7777777777777778,
             "#fb9f3a"
            ],
            [
             0.8888888888888888,
             "#fdca26"
            ],
            [
             1,
             "#f0f921"
            ]
           ]
          },
          "colorway": [
           "#636efa",
           "#EF553B",
           "#00cc96",
           "#ab63fa",
           "#FFA15A",
           "#19d3f3",
           "#FF6692",
           "#B6E880",
           "#FF97FF",
           "#FECB52"
          ],
          "font": {
           "color": "#2a3f5f"
          },
          "geo": {
           "bgcolor": "white",
           "lakecolor": "white",
           "landcolor": "#E5ECF6",
           "showlakes": true,
           "showland": true,
           "subunitcolor": "white"
          },
          "hoverlabel": {
           "align": "left"
          },
          "hovermode": "closest",
          "mapbox": {
           "style": "light"
          },
          "paper_bgcolor": "white",
          "plot_bgcolor": "#E5ECF6",
          "polar": {
           "angularaxis": {
            "gridcolor": "white",
            "linecolor": "white",
            "ticks": ""
           },
           "bgcolor": "#E5ECF6",
           "radialaxis": {
            "gridcolor": "white",
            "linecolor": "white",
            "ticks": ""
           }
          },
          "scene": {
           "xaxis": {
            "backgroundcolor": "#E5ECF6",
            "gridcolor": "white",
            "gridwidth": 2,
            "linecolor": "white",
            "showbackground": true,
            "ticks": "",
            "zerolinecolor": "white"
           },
           "yaxis": {
            "backgroundcolor": "#E5ECF6",
            "gridcolor": "white",
            "gridwidth": 2,
            "linecolor": "white",
            "showbackground": true,
            "ticks": "",
            "zerolinecolor": "white"
           },
           "zaxis": {
            "backgroundcolor": "#E5ECF6",
            "gridcolor": "white",
            "gridwidth": 2,
            "linecolor": "white",
            "showbackground": true,
            "ticks": "",
            "zerolinecolor": "white"
           }
          },
          "shapedefaults": {
           "line": {
            "color": "#2a3f5f"
           }
          },
          "ternary": {
           "aaxis": {
            "gridcolor": "white",
            "linecolor": "white",
            "ticks": ""
           },
           "baxis": {
            "gridcolor": "white",
            "linecolor": "white",
            "ticks": ""
           },
           "bgcolor": "#E5ECF6",
           "caxis": {
            "gridcolor": "white",
            "linecolor": "white",
            "ticks": ""
           }
          },
          "title": {
           "x": 0.05
          },
          "xaxis": {
           "automargin": true,
           "gridcolor": "white",
           "linecolor": "white",
           "ticks": "",
           "title": {
            "standoff": 15
           },
           "zerolinecolor": "white",
           "zerolinewidth": 2
          },
          "yaxis": {
           "automargin": true,
           "gridcolor": "white",
           "linecolor": "white",
           "ticks": "",
           "title": {
            "standoff": 15
           },
           "zerolinecolor": "white",
           "zerolinewidth": 2
          }
         }
        },
        "title": {
         "text": "Dropdown Filters by Category and Subcategory"
        },
        "updatemenus": [
         {
          "buttons": [
           {
            "args": [
             {
              "visible": [
               true,
               true,
               true,
               true,
               true,
               true
              ]
             },
             {
              "annotations": [
               {
                "showarrow": false,
                "text": "Total Value: 1010",
                "x": 0.5,
                "y": 1.15
               },
               {
                "showarrow": false,
                "text": "Unique Items: 6",
                "x": 0.5,
                "y": 1.1
               }
              ],
              "title": "All Categories"
             }
            ],
            "label": "All Categories",
            "method": "update"
           },
           {
            "args": [
             {
              "visible": [
               true,
               true,
               false,
               false,
               false,
               false
              ]
             },
             {
              "annotations": [
               {
                "showarrow": false,
                "text": "Total Value: 250",
                "x": 0.5,
                "y": 1.15
               },
               {
                "showarrow": false,
                "text": "Unique Items: 2",
                "x": 0.5,
                "y": 1.1
               }
              ],
              "title": "Category A"
             }
            ],
            "label": "Category A",
            "method": "update"
           },
           {
            "args": [
             {
              "visible": [
               false,
               false,
               true,
               true,
               false,
               false
              ]
             },
             {
              "annotations": [
               {
                "showarrow": false,
                "text": "Total Value: 300",
                "x": 0.5,
                "y": 1.15
               },
               {
                "showarrow": false,
                "text": "Unique Items: 2",
                "x": 0.5,
                "y": 1.1
               }
              ],
              "title": "Category B"
             }
            ],
            "label": "Category B",
            "method": "update"
           },
           {
            "args": [
             {
              "visible": [
               false,
               false,
               false,
               false,
               true,
               true
              ]
             },
             {
              "annotations": [
               {
                "showarrow": false,
                "text": "Total Value: 460",
                "x": 0.5,
                "y": 1.15
               },
               {
                "showarrow": false,
                "text": "Unique Items: 2",
                "x": 0.5,
                "y": 1.1
               }
              ],
              "title": "Category C"
             }
            ],
            "label": "Category C",
            "method": "update"
           }
          ],
          "direction": "down",
          "showactive": true,
          "x": 0.85,
          "y": 1.1
         },
         {
          "buttons": [
           {
            "args": [
             {
              "visible": [
               true,
               true,
               true,
               true,
               true,
               true
              ]
             },
             {
              "annotations": [
               {
                "showarrow": false,
                "text": "Total Value: 1010",
                "x": 0.5,
                "y": 1.15
               },
               {
                "showarrow": false,
                "text": "Unique Items: 6",
                "x": 0.5,
                "y": 1.1
               }
              ],
              "title": "All Subcategories"
             }
            ],
            "label": "All Subcategories",
            "method": "update"
           },
           {
            "args": [
             {
              "visible": [
               true,
               false,
               true,
               false,
               true,
               false
              ]
             },
             {
              "annotations": [
               {
                "showarrow": false,
                "text": "Total Value: 440",
                "x": 0.5,
                "y": 1.15
               },
               {
                "showarrow": false,
                "text": "Unique Items: 3",
                "x": 0.5,
                "y": 1.1
               }
              ],
              "title": "Subcategory X"
             }
            ],
            "label": "Subcategory X",
            "method": "update"
           },
           {
            "args": [
             {
              "visible": [
               false,
               true,
               false,
               true,
               false,
               true
              ]
             },
             {
              "annotations": [
               {
                "showarrow": false,
                "text": "Total Value: 570",
                "x": 0.5,
                "y": 1.15
               },
               {
                "showarrow": false,
                "text": "Unique Items: 3",
                "x": 0.5,
                "y": 1.1
               }
              ],
              "title": "Subcategory Y"
             }
            ],
            "label": "Subcategory Y",
            "method": "update"
           }
          ],
          "direction": "down",
          "showactive": true,
          "x": 0.95,
          "y": 1.1
         }
        ]
       }
      }
     },
     "metadata": {},
     "output_type": "display_data"
    },
    {
     "data": {
      "application/vnd.plotly.v1+json": {
       "config": {
        "plotlyServerURL": "https://plot.ly"
       },
       "data": [
        {
         "name": "A - X",
         "type": "scatter",
         "visible": true,
         "x": {
          "bdata": "AQ==",
          "dtype": "i1"
         },
         "y": {
          "bdata": "Cg==",
          "dtype": "i1"
         }
        },
        {
         "name": "A - Y",
         "type": "scatter",
         "visible": true,
         "x": {
          "bdata": "Ag==",
          "dtype": "i1"
         },
         "y": {
          "bdata": "Dw==",
          "dtype": "i1"
         }
        },
        {
         "name": "B - X",
         "type": "scatter",
         "visible": true,
         "x": {
          "bdata": "Aw==",
          "dtype": "i1"
         },
         "y": {
          "bdata": "DQ==",
          "dtype": "i1"
         }
        },
        {
         "name": "B - Y",
         "type": "scatter",
         "visible": true,
         "x": {
          "bdata": "BA==",
          "dtype": "i1"
         },
         "y": {
          "bdata": "EQ==",
          "dtype": "i1"
         }
        },
        {
         "name": "C - X",
         "type": "scatter",
         "visible": true,
         "x": {
          "bdata": "BQ==",
          "dtype": "i1"
         },
         "y": {
          "bdata": "FQ==",
          "dtype": "i1"
         }
        },
        {
         "name": "C - Y",
         "type": "scatter",
         "visible": true,
         "x": {
          "bdata": "Bg==",
          "dtype": "i1"
         },
         "y": {
          "bdata": "GQ==",
          "dtype": "i1"
         }
        }
       ],
       "layout": {
        "annotations": [
         {
          "font": {
           "size": 16
          },
          "showarrow": false,
          "text": "Total Value: 1010",
          "x": 0.5,
          "y": 1.15
         },
         {
          "font": {
           "size": 16
          },
          "showarrow": false,
          "text": "Unique Items: 6",
          "x": 0.5,
          "y": 1.1
         }
        ],
        "template": {
         "data": {
          "bar": [
           {
            "error_x": {
             "color": "#2a3f5f"
            },
            "error_y": {
             "color": "#2a3f5f"
            },
            "marker": {
             "line": {
              "color": "#E5ECF6",
              "width": 0.5
             },
             "pattern": {
              "fillmode": "overlay",
              "size": 10,
              "solidity": 0.2
             }
            },
            "type": "bar"
           }
          ],
          "barpolar": [
           {
            "marker": {
             "line": {
              "color": "#E5ECF6",
              "width": 0.5
             },
             "pattern": {
              "fillmode": "overlay",
              "size": 10,
              "solidity": 0.2
             }
            },
            "type": "barpolar"
           }
          ],
          "carpet": [
           {
            "aaxis": {
             "endlinecolor": "#2a3f5f",
             "gridcolor": "white",
             "linecolor": "white",
             "minorgridcolor": "white",
             "startlinecolor": "#2a3f5f"
            },
            "baxis": {
             "endlinecolor": "#2a3f5f",
             "gridcolor": "white",
             "linecolor": "white",
             "minorgridcolor": "white",
             "startlinecolor": "#2a3f5f"
            },
            "type": "carpet"
           }
          ],
          "choropleth": [
           {
            "colorbar": {
             "outlinewidth": 0,
             "ticks": ""
            },
            "type": "choropleth"
           }
          ],
          "contour": [
           {
            "colorbar": {
             "outlinewidth": 0,
             "ticks": ""
            },
            "colorscale": [
             [
              0,
              "#0d0887"
             ],
             [
              0.1111111111111111,
              "#46039f"
             ],
             [
              0.2222222222222222,
              "#7201a8"
             ],
             [
              0.3333333333333333,
              "#9c179e"
             ],
             [
              0.4444444444444444,
              "#bd3786"
             ],
             [
              0.5555555555555556,
              "#d8576b"
             ],
             [
              0.6666666666666666,
              "#ed7953"
             ],
             [
              0.7777777777777778,
              "#fb9f3a"
             ],
             [
              0.8888888888888888,
              "#fdca26"
             ],
             [
              1,
              "#f0f921"
             ]
            ],
            "type": "contour"
           }
          ],
          "contourcarpet": [
           {
            "colorbar": {
             "outlinewidth": 0,
             "ticks": ""
            },
            "type": "contourcarpet"
           }
          ],
          "heatmap": [
           {
            "colorbar": {
             "outlinewidth": 0,
             "ticks": ""
            },
            "colorscale": [
             [
              0,
              "#0d0887"
             ],
             [
              0.1111111111111111,
              "#46039f"
             ],
             [
              0.2222222222222222,
              "#7201a8"
             ],
             [
              0.3333333333333333,
              "#9c179e"
             ],
             [
              0.4444444444444444,
              "#bd3786"
             ],
             [
              0.5555555555555556,
              "#d8576b"
             ],
             [
              0.6666666666666666,
              "#ed7953"
             ],
             [
              0.7777777777777778,
              "#fb9f3a"
             ],
             [
              0.8888888888888888,
              "#fdca26"
             ],
             [
              1,
              "#f0f921"
             ]
            ],
            "type": "heatmap"
           }
          ],
          "histogram": [
           {
            "marker": {
             "pattern": {
              "fillmode": "overlay",
              "size": 10,
              "solidity": 0.2
             }
            },
            "type": "histogram"
           }
          ],
          "histogram2d": [
           {
            "colorbar": {
             "outlinewidth": 0,
             "ticks": ""
            },
            "colorscale": [
             [
              0,
              "#0d0887"
             ],
             [
              0.1111111111111111,
              "#46039f"
             ],
             [
              0.2222222222222222,
              "#7201a8"
             ],
             [
              0.3333333333333333,
              "#9c179e"
             ],
             [
              0.4444444444444444,
              "#bd3786"
             ],
             [
              0.5555555555555556,
              "#d8576b"
             ],
             [
              0.6666666666666666,
              "#ed7953"
             ],
             [
              0.7777777777777778,
              "#fb9f3a"
             ],
             [
              0.8888888888888888,
              "#fdca26"
             ],
             [
              1,
              "#f0f921"
             ]
            ],
            "type": "histogram2d"
           }
          ],
          "histogram2dcontour": [
           {
            "colorbar": {
             "outlinewidth": 0,
             "ticks": ""
            },
            "colorscale": [
             [
              0,
              "#0d0887"
             ],
             [
              0.1111111111111111,
              "#46039f"
             ],
             [
              0.2222222222222222,
              "#7201a8"
             ],
             [
              0.3333333333333333,
              "#9c179e"
             ],
             [
              0.4444444444444444,
              "#bd3786"
             ],
             [
              0.5555555555555556,
              "#d8576b"
             ],
             [
              0.6666666666666666,
              "#ed7953"
             ],
             [
              0.7777777777777778,
              "#fb9f3a"
             ],
             [
              0.8888888888888888,
              "#fdca26"
             ],
             [
              1,
              "#f0f921"
             ]
            ],
            "type": "histogram2dcontour"
           }
          ],
          "mesh3d": [
           {
            "colorbar": {
             "outlinewidth": 0,
             "ticks": ""
            },
            "type": "mesh3d"
           }
          ],
          "parcoords": [
           {
            "line": {
             "colorbar": {
              "outlinewidth": 0,
              "ticks": ""
             }
            },
            "type": "parcoords"
           }
          ],
          "pie": [
           {
            "automargin": true,
            "type": "pie"
           }
          ],
          "scatter": [
           {
            "fillpattern": {
             "fillmode": "overlay",
             "size": 10,
             "solidity": 0.2
            },
            "type": "scatter"
           }
          ],
          "scatter3d": [
           {
            "line": {
             "colorbar": {
              "outlinewidth": 0,
              "ticks": ""
             }
            },
            "marker": {
             "colorbar": {
              "outlinewidth": 0,
              "ticks": ""
             }
            },
            "type": "scatter3d"
           }
          ],
          "scattercarpet": [
           {
            "marker": {
             "colorbar": {
              "outlinewidth": 0,
              "ticks": ""
             }
            },
            "type": "scattercarpet"
           }
          ],
          "scattergeo": [
           {
            "marker": {
             "colorbar": {
              "outlinewidth": 0,
              "ticks": ""
             }
            },
            "type": "scattergeo"
           }
          ],
          "scattergl": [
           {
            "marker": {
             "colorbar": {
              "outlinewidth": 0,
              "ticks": ""
             }
            },
            "type": "scattergl"
           }
          ],
          "scattermap": [
           {
            "marker": {
             "colorbar": {
              "outlinewidth": 0,
              "ticks": ""
             }
            },
            "type": "scattermap"
           }
          ],
          "scattermapbox": [
           {
            "marker": {
             "colorbar": {
              "outlinewidth": 0,
              "ticks": ""
             }
            },
            "type": "scattermapbox"
           }
          ],
          "scatterpolar": [
           {
            "marker": {
             "colorbar": {
              "outlinewidth": 0,
              "ticks": ""
             }
            },
            "type": "scatterpolar"
           }
          ],
          "scatterpolargl": [
           {
            "marker": {
             "colorbar": {
              "outlinewidth": 0,
              "ticks": ""
             }
            },
            "type": "scatterpolargl"
           }
          ],
          "scatterternary": [
           {
            "marker": {
             "colorbar": {
              "outlinewidth": 0,
              "ticks": ""
             }
            },
            "type": "scatterternary"
           }
          ],
          "surface": [
           {
            "colorbar": {
             "outlinewidth": 0,
             "ticks": ""
            },
            "colorscale": [
             [
              0,
              "#0d0887"
             ],
             [
              0.1111111111111111,
              "#46039f"
             ],
             [
              0.2222222222222222,
              "#7201a8"
             ],
             [
              0.3333333333333333,
              "#9c179e"
             ],
             [
              0.4444444444444444,
              "#bd3786"
             ],
             [
              0.5555555555555556,
              "#d8576b"
             ],
             [
              0.6666666666666666,
              "#ed7953"
             ],
             [
              0.7777777777777778,
              "#fb9f3a"
             ],
             [
              0.8888888888888888,
              "#fdca26"
             ],
             [
              1,
              "#f0f921"
             ]
            ],
            "type": "surface"
           }
          ],
          "table": [
           {
            "cells": {
             "fill": {
              "color": "#EBF0F8"
             },
             "line": {
              "color": "white"
             }
            },
            "header": {
             "fill": {
              "color": "#C8D4E3"
             },
             "line": {
              "color": "white"
             }
            },
            "type": "table"
           }
          ]
         },
         "layout": {
          "annotationdefaults": {
           "arrowcolor": "#2a3f5f",
           "arrowhead": 0,
           "arrowwidth": 1
          },
          "autotypenumbers": "strict",
          "coloraxis": {
           "colorbar": {
            "outlinewidth": 0,
            "ticks": ""
           }
          },
          "colorscale": {
           "diverging": [
            [
             0,
             "#8e0152"
            ],
            [
             0.1,
             "#c51b7d"
            ],
            [
             0.2,
             "#de77ae"
            ],
            [
             0.3,
             "#f1b6da"
            ],
            [
             0.4,
             "#fde0ef"
            ],
            [
             0.5,
             "#f7f7f7"
            ],
            [
             0.6,
             "#e6f5d0"
            ],
            [
             0.7,
             "#b8e186"
            ],
            [
             0.8,
             "#7fbc41"
            ],
            [
             0.9,
             "#4d9221"
            ],
            [
             1,
             "#276419"
            ]
           ],
           "sequential": [
            [
             0,
             "#0d0887"
            ],
            [
             0.1111111111111111,
             "#46039f"
            ],
            [
             0.2222222222222222,
             "#7201a8"
            ],
            [
             0.3333333333333333,
             "#9c179e"
            ],
            [
             0.4444444444444444,
             "#bd3786"
            ],
            [
             0.5555555555555556,
             "#d8576b"
            ],
            [
             0.6666666666666666,
             "#ed7953"
            ],
            [
             0.7777777777777778,
             "#fb9f3a"
            ],
            [
             0.8888888888888888,
             "#fdca26"
            ],
            [
             1,
             "#f0f921"
            ]
           ],
           "sequentialminus": [
            [
             0,
             "#0d0887"
            ],
            [
             0.1111111111111111,
             "#46039f"
            ],
            [
             0.2222222222222222,
             "#7201a8"
            ],
            [
             0.3333333333333333,
             "#9c179e"
            ],
            [
             0.4444444444444444,
             "#bd3786"
            ],
            [
             0.5555555555555556,
             "#d8576b"
            ],
            [
             0.6666666666666666,
             "#ed7953"
            ],
            [
             0.7777777777777778,
             "#fb9f3a"
            ],
            [
             0.8888888888888888,
             "#fdca26"
            ],
            [
             1,
             "#f0f921"
            ]
           ]
          },
          "colorway": [
           "#636efa",
           "#EF553B",
           "#00cc96",
           "#ab63fa",
           "#FFA15A",
           "#19d3f3",
           "#FF6692",
           "#B6E880",
           "#FF97FF",
           "#FECB52"
          ],
          "font": {
           "color": "#2a3f5f"
          },
          "geo": {
           "bgcolor": "white",
           "lakecolor": "white",
           "landcolor": "#E5ECF6",
           "showlakes": true,
           "showland": true,
           "subunitcolor": "white"
          },
          "hoverlabel": {
           "align": "left"
          },
          "hovermode": "closest",
          "mapbox": {
           "style": "light"
          },
          "paper_bgcolor": "white",
          "plot_bgcolor": "#E5ECF6",
          "polar": {
           "angularaxis": {
            "gridcolor": "white",
            "linecolor": "white",
            "ticks": ""
           },
           "bgcolor": "#E5ECF6",
           "radialaxis": {
            "gridcolor": "white",
            "linecolor": "white",
            "ticks": ""
           }
          },
          "scene": {
           "xaxis": {
            "backgroundcolor": "#E5ECF6",
            "gridcolor": "white",
            "gridwidth": 2,
            "linecolor": "white",
            "showbackground": true,
            "ticks": "",
            "zerolinecolor": "white"
           },
           "yaxis": {
            "backgroundcolor": "#E5ECF6",
            "gridcolor": "white",
            "gridwidth": 2,
            "linecolor": "white",
            "showbackground": true,
            "ticks": "",
            "zerolinecolor": "white"
           },
           "zaxis": {
            "backgroundcolor": "#E5ECF6",
            "gridcolor": "white",
            "gridwidth": 2,
            "linecolor": "white",
            "showbackground": true,
            "ticks": "",
            "zerolinecolor": "white"
           }
          },
          "shapedefaults": {
           "line": {
            "color": "#2a3f5f"
           }
          },
          "ternary": {
           "aaxis": {
            "gridcolor": "white",
            "linecolor": "white",
            "ticks": ""
           },
           "baxis": {
            "gridcolor": "white",
            "linecolor": "white",
            "ticks": ""
           },
           "bgcolor": "#E5ECF6",
           "caxis": {
            "gridcolor": "white",
            "linecolor": "white",
            "ticks": ""
           }
          },
          "title": {
           "x": 0.05
          },
          "xaxis": {
           "automargin": true,
           "gridcolor": "white",
           "linecolor": "white",
           "ticks": "",
           "title": {
            "standoff": 15
           },
           "zerolinecolor": "white",
           "zerolinewidth": 2
          },
          "yaxis": {
           "automargin": true,
           "gridcolor": "white",
           "linecolor": "white",
           "ticks": "",
           "title": {
            "standoff": 15
           },
           "zerolinecolor": "white",
           "zerolinewidth": 2
          }
         }
        },
        "title": {
         "text": "Dropdown Filters by Category and Subcategory"
        },
        "updatemenus": [
         {
          "buttons": [
           {
            "args": [
             {
              "visible": [
               true,
               true,
               true,
               true,
               true,
               true
              ]
             },
             {
              "annotations": [
               {
                "showarrow": false,
                "text": "Total Value: 1010",
                "x": 0.5,
                "y": 1.15
               },
               {
                "showarrow": false,
                "text": "Unique Items: 6",
                "x": 0.5,
                "y": 1.1
               }
              ],
              "title": "All Categories"
             }
            ],
            "label": "All Categories",
            "method": "update"
           },
           {
            "args": [
             {
              "visible": [
               true,
               true,
               false,
               false,
               false,
               false
              ]
             },
             {
              "annotations": [
               {
                "showarrow": false,
                "text": "Total Value: 250",
                "x": 0.5,
                "y": 1.15
               },
               {
                "showarrow": false,
                "text": "Unique Items: 2",
                "x": 0.5,
                "y": 1.1
               }
              ],
              "title": "Category A"
             }
            ],
            "label": "Category A",
            "method": "update"
           },
           {
            "args": [
             {
              "visible": [
               false,
               false,
               true,
               true,
               false,
               false
              ]
             },
             {
              "annotations": [
               {
                "showarrow": false,
                "text": "Total Value: 300",
                "x": 0.5,
                "y": 1.15
               },
               {
                "showarrow": false,
                "text": "Unique Items: 2",
                "x": 0.5,
                "y": 1.1
               }
              ],
              "title": "Category B"
             }
            ],
            "label": "Category B",
            "method": "update"
           },
           {
            "args": [
             {
              "visible": [
               false,
               false,
               false,
               false,
               true,
               true
              ]
             },
             {
              "annotations": [
               {
                "showarrow": false,
                "text": "Total Value: 460",
                "x": 0.5,
                "y": 1.15
               },
               {
                "showarrow": false,
                "text": "Unique Items: 2",
                "x": 0.5,
                "y": 1.1
               }
              ],
              "title": "Category C"
             }
            ],
            "label": "Category C",
            "method": "update"
           }
          ],
          "direction": "down",
          "showactive": true,
          "x": 0.85,
          "y": 1.1
         },
         {
          "buttons": [
           {
            "args": [
             {
              "visible": [
               true,
               true,
               true,
               true,
               true,
               true
              ]
             },
             {
              "annotations": [
               {
                "showarrow": false,
                "text": "Total Value: 1010",
                "x": 0.5,
                "y": 1.15
               },
               {
                "showarrow": false,
                "text": "Unique Items: 6",
                "x": 0.5,
                "y": 1.1
               }
              ],
              "title": "All Subcategories"
             }
            ],
            "label": "All Subcategories",
            "method": "update"
           },
           {
            "args": [
             {
              "visible": [
               true,
               false,
               true,
               false,
               true,
               false
              ]
             },
             {
              "annotations": [
               {
                "showarrow": false,
                "text": "Total Value: 440",
                "x": 0.5,
                "y": 1.15
               },
               {
                "showarrow": false,
                "text": "Unique Items: 3",
                "x": 0.5,
                "y": 1.1
               }
              ],
              "title": "Subcategory X"
             }
            ],
            "label": "Subcategory X",
            "method": "update"
           },
           {
            "args": [
             {
              "visible": [
               false,
               true,
               false,
               true,
               false,
               true
              ]
             },
             {
              "annotations": [
               {
                "showarrow": false,
                "text": "Total Value: 570",
                "x": 0.5,
                "y": 1.15
               },
               {
                "showarrow": false,
                "text": "Unique Items: 3",
                "x": 0.5,
                "y": 1.1
               }
              ],
              "title": "Subcategory Y"
             }
            ],
            "label": "Subcategory Y",
            "method": "update"
           }
          ],
          "direction": "down",
          "showactive": true,
          "x": 0.95,
          "y": 1.1
         }
        ]
       }
      }
     },
     "metadata": {},
     "output_type": "display_data"
    }
   ],
   "source": [
    "import plotly.graph_objects as go\n",
    "import pandas as pd\n",
    "\n",
    "# Sample data with category, subcategory, total_value, and item_id columns\n",
    "data = {\n",
    "    \"Category\": [\"A\", \"A\", \"B\", \"B\", \"C\", \"C\"],\n",
    "    \"Subcategory\": [\"X\", \"Y\", \"X\", \"Y\", \"X\", \"Y\"],\n",
    "    \"X\": [1, 2, 3, 4, 5, 6],\n",
    "    \"Y\": [10, 15, 13, 17, 21, 25],\n",
    "    \"total_value\": [100, 150, 130, 170, 210, 250],  # Column for summing\n",
    "    \"item_id\": [1, 2, 3, 4, 5, 6],  # Unique identifier for each item\n",
    "}\n",
    "df = pd.DataFrame(data)\n",
    "\n",
    "# Create the figure\n",
    "fig = go.Figure()\n",
    "\n",
    "# Add traces for each combination of category and subcategory\n",
    "for category in df[\"Category\"].unique():\n",
    "    for subcategory in df[\"Subcategory\"].unique():\n",
    "        filtered_df = df[(df[\"Category\"] == category) & (df[\"Subcategory\"] == subcategory)]\n",
    "        fig.add_trace(\n",
    "            go.Scatter(\n",
    "                x=filtered_df[\"X\"],\n",
    "                y=filtered_df[\"Y\"],\n",
    "                name=f\"{category} - {subcategory}\",\n",
    "                visible=True,  # All traces are visible by default\n",
    "            )\n",
    "        )\n",
    "\n",
    "# Function to calculate the sum of total_value based on visible traces\n",
    "def calculate_total_value(visible_traces):\n",
    "    total = 0\n",
    "    for trace, visible in zip(fig.data, visible_traces):\n",
    "        if visible:\n",
    "            category, subcategory = trace.name.split(\" - \")\n",
    "            filtered_df = df[(df[\"Category\"] == category) & (df[\"Subcategory\"] == subcategory)]\n",
    "            total += filtered_df[\"total_value\"].sum()\n",
    "    return total\n",
    "\n",
    "# Function to calculate the unique count of items based on visible traces\n",
    "def calculate_unique_count(visible_traces):\n",
    "    unique_items = set()\n",
    "    for trace, visible in zip(fig.data, visible_traces):\n",
    "        if visible:\n",
    "            category, subcategory = trace.name.split(\" - \")\n",
    "            filtered_df = df[(df[\"Category\"] == category) & (df[\"Subcategory\"] == subcategory)]\n",
    "            unique_items.update(filtered_df[\"item_id\"].tolist())\n",
    "    return len(unique_items)\n",
    "\n",
    "# Initial calculations (all traces are visible)\n",
    "initial_total = calculate_total_value([True] * len(fig.data))\n",
    "initial_unique_count = calculate_unique_count([True] * len(fig.data))\n",
    "\n",
    "# Create dropdown menu for Category (first dropdown)\n",
    "category_dropdown = [\n",
    "    {\n",
    "        \"label\": \"All Categories\",\n",
    "        \"method\": \"update\",\n",
    "        \"args\": [\n",
    "            {\"visible\": [True] * len(fig.data)},\n",
    "            {\n",
    "                \"title\": \"All Categories\",\n",
    "                \"annotations\": [\n",
    "                    {\"text\": f\"Total Value: {initial_total}\", \"x\": 0.5, \"y\": 1.15, \"showarrow\": False},\n",
    "                    {\"text\": f\"Unique Items: {initial_unique_count}\", \"x\": 0.5, \"y\": 1.1, \"showarrow\": False},\n",
    "                ],\n",
    "            },\n",
    "        ],\n",
    "    }\n",
    "] + [\n",
    "    {\n",
    "        \"label\": f\"Category {category}\",\n",
    "        \"method\": \"update\",\n",
    "        \"args\": [\n",
    "            {\"visible\": [trace.name.startswith(f\"{category}\") for trace in fig.data]},\n",
    "            {\n",
    "                \"title\": f\"Category {category}\",\n",
    "                \"annotations\": [\n",
    "                    {\"text\": f\"Total Value: {calculate_total_value([trace.name.startswith(f'{category}') for trace in fig.data])}\", \"x\": 0.5, \"y\": 1.15, \"showarrow\": False},\n",
    "                    {\"text\": f\"Unique Items: {calculate_unique_count([trace.name.startswith(f'{category}') for trace in fig.data])}\", \"x\": 0.5, \"y\": 1.1, \"showarrow\": False},\n",
    "                ],\n",
    "            },\n",
    "        ],\n",
    "    }\n",
    "    for category in df[\"Category\"].unique()\n",
    "]\n",
    "\n",
    "# Create dropdown menu for Subcategory (second dropdown)\n",
    "subcategory_dropdown = [\n",
    "    {\n",
    "        \"label\": \"All Subcategories\",\n",
    "        \"method\": \"update\",\n",
    "        \"args\": [\n",
    "            {\"visible\": [True] * len(fig.data)},\n",
    "            {\n",
    "                \"title\": \"All Subcategories\",\n",
    "                \"annotations\": [\n",
    "                    {\"text\": f\"Total Value: {initial_total}\", \"x\": 0.5, \"y\": 1.15, \"showarrow\": False},\n",
    "                    {\"text\": f\"Unique Items: {initial_unique_count}\", \"x\": 0.5, \"y\": 1.1, \"showarrow\": False},\n",
    "                ],\n",
    "            },\n",
    "        ],\n",
    "    }\n",
    "] + [\n",
    "    {\n",
    "        \"label\": f\"Subcategory {subcategory}\",\n",
    "        \"method\": \"update\",\n",
    "        \"args\": [\n",
    "            {\"visible\": [trace.name.endswith(f\"{subcategory}\") for trace in fig.data]},\n",
    "            {\n",
    "                \"title\": f\"Subcategory {subcategory}\",\n",
    "                \"annotations\": [\n",
    "                    {\"text\": f\"Total Value: {calculate_total_value([trace.name.endswith(f'{subcategory}') for trace in fig.data])}\", \"x\": 0.5, \"y\": 1.15, \"showarrow\": False},\n",
    "                    {\"text\": f\"Unique Items: {calculate_unique_count([trace.name.endswith(f'{subcategory}') for trace in fig.data])}\", \"x\": 0.5, \"y\": 1.1, \"showarrow\": False},\n",
    "                ],\n",
    "            },\n",
    "        ],\n",
    "    }\n",
    "    for subcategory in df[\"Subcategory\"].unique()\n",
    "]\n",
    "\n",
    "# Update layout with dropdowns and initial annotations\n",
    "fig.update_layout(\n",
    "    updatemenus=[\n",
    "        # First dropdown (Category)\n",
    "        {\n",
    "            \"buttons\": category_dropdown,\n",
    "            \"direction\": \"down\",\n",
    "            \"showactive\": True,\n",
    "            \"x\": 0.85,  # Position on the right\n",
    "            \"y\": 1.1,   # Slightly higher than the middle\n",
    "        },\n",
    "        # Second dropdown (Subcategory)\n",
    "        {\n",
    "            \"buttons\": subcategory_dropdown,\n",
    "            \"direction\": \"down\",\n",
    "            \"showactive\": True,\n",
    "            \"x\": 0.95,  # Position to the right of the first dropdown\n",
    "            \"y\": 1.1,   # Same height as the first dropdown\n",
    "        },\n",
    "    ],\n",
    "    title=\"Dropdown Filters by Category and Subcategory\",\n",
    "    annotations=[\n",
    "        {\n",
    "            \"text\": f\"Total Value: {initial_total}\",\n",
    "            \"x\": 0.5,  # Center of the chart\n",
    "            \"y\": 1.15,  # Above the title\n",
    "            \"showarrow\": False,\n",
    "            \"font\": {\"size\": 16},\n",
    "        },\n",
    "        {\n",
    "            \"text\": f\"Unique Items: {initial_unique_count}\",\n",
    "            \"x\": 0.5,  # Center of the chart\n",
    "            \"y\": 1.1,  # Below the total value annotation\n",
    "            \"showarrow\": False,\n",
    "            \"font\": {\"size\": 16},\n",
    "        },\n",
    "    ],\n",
    ")\n",
    "import plotly.graph_objects as go\n",
    "import pandas as pd\n",
    "\n",
    "# Sample data with category, subcategory, total_value, and item_id columns\n",
    "data = {\n",
    "    \"Category\": [\"A\", \"A\", \"B\", \"B\", \"C\", \"C\"],\n",
    "    \"Subcategory\": [\"X\", \"Y\", \"X\", \"Y\", \"X\", \"Y\"],\n",
    "    \"X\": [1, 2, 3, 4, 5, 6],\n",
    "    \"Y\": [10, 15, 13, 17, 21, 25],\n",
    "    \"total_value\": [100, 150, 130, 170, 210, 250],  # Column for summing\n",
    "    \"item_id\": [1, 2, 3, 4, 5, 6],  # Unique identifier for each item\n",
    "}\n",
    "df = pd.DataFrame(data)\n",
    "\n",
    "# Create the figure\n",
    "fig = go.Figure()\n",
    "\n",
    "# Add traces for each combination of category and subcategory\n",
    "for category in df[\"Category\"].unique():\n",
    "    for subcategory in df[\"Subcategory\"].unique():\n",
    "        filtered_df = df[(df[\"Category\"] == category) & (df[\"Subcategory\"] == subcategory)]\n",
    "        fig.add_trace(\n",
    "            go.Scatter(\n",
    "                x=filtered_df[\"X\"],\n",
    "                y=filtered_df[\"Y\"],\n",
    "                name=f\"{category} - {subcategory}\",\n",
    "                visible=True,  # All traces are visible by default\n",
    "            )\n",
    "        )\n",
    "\n",
    "# Function to calculate the sum of total_value based on visible traces\n",
    "def calculate_total_value(visible_traces):\n",
    "    total = 0\n",
    "    for trace, visible in zip(fig.data, visible_traces):\n",
    "        if visible:\n",
    "            category, subcategory = trace.name.split(\" - \")\n",
    "            filtered_df = df[(df[\"Category\"] == category) & (df[\"Subcategory\"] == subcategory)]\n",
    "            total += filtered_df[\"total_value\"].sum()\n",
    "    return total\n",
    "\n",
    "# Function to calculate the unique count of items based on visible traces\n",
    "def calculate_unique_count(visible_traces):\n",
    "    unique_items = set()\n",
    "    for trace, visible in zip(fig.data, visible_traces):\n",
    "        if visible:\n",
    "            category, subcategory = trace.name.split(\" - \")\n",
    "            filtered_df = df[(df[\"Category\"] == category) & (df[\"Subcategory\"] == subcategory)]\n",
    "            unique_items.update(filtered_df[\"item_id\"].tolist())\n",
    "    return len(unique_items)\n",
    "\n",
    "# Initial calculations (all traces are visible)\n",
    "initial_total = calculate_total_value([True] * len(fig.data))\n",
    "initial_unique_count = calculate_unique_count([True] * len(fig.data))\n",
    "\n",
    "# Create dropdown menu for Category (first dropdown)\n",
    "category_dropdown = [\n",
    "    {\n",
    "        \"label\": \"All Categories\",\n",
    "        \"method\": \"update\",\n",
    "        \"args\": [\n",
    "            {\"visible\": [True] * len(fig.data)},\n",
    "            {\n",
    "                \"title\": \"All Categories\",\n",
    "                \"annotations\": [\n",
    "                    {\"text\": f\"Total Value: {initial_total}\", \"x\": 0.5, \"y\": 1.15, \"showarrow\": False},\n",
    "                    {\"text\": f\"Unique Items: {initial_unique_count}\", \"x\": 0.5, \"y\": 1.1, \"showarrow\": False},\n",
    "                ],\n",
    "            },\n",
    "        ],\n",
    "    }\n",
    "] + [\n",
    "    {\n",
    "        \"label\": f\"Category {category}\",\n",
    "        \"method\": \"update\",\n",
    "        \"args\": [\n",
    "            {\"visible\": [trace.name.startswith(f\"{category}\") for trace in fig.data]},\n",
    "            {\n",
    "                \"title\": f\"Category {category}\",\n",
    "                \"annotations\": [\n",
    "                    {\"text\": f\"Total Value: {calculate_total_value([trace.name.startswith(f'{category}') for trace in fig.data])}\", \"x\": 0.5, \"y\": 1.15, \"showarrow\": False},\n",
    "                    {\"text\": f\"Unique Items: {calculate_unique_count([trace.name.startswith(f'{category}') for trace in fig.data])}\", \"x\": 0.5, \"y\": 1.1, \"showarrow\": False},\n",
    "                ],\n",
    "            },\n",
    "        ],\n",
    "    }\n",
    "    for category in df[\"Category\"].unique()\n",
    "]\n",
    "\n",
    "# Create dropdown menu for Subcategory (second dropdown)\n",
    "subcategory_dropdown = [\n",
    "    {\n",
    "        \"label\": \"All Subcategories\",\n",
    "        \"method\": \"update\",\n",
    "        \"args\": [\n",
    "            {\"visible\": [True] * len(fig.data)},\n",
    "            {\n",
    "                \"title\": \"All Subcategories\",\n",
    "                \"annotations\": [\n",
    "                    {\"text\": f\"Total Value: {initial_total}\", \"x\": 0.5, \"y\": 1.15, \"showarrow\": False},\n",
    "                    {\"text\": f\"Unique Items: {initial_unique_count}\", \"x\": 0.5, \"y\": 1.1, \"showarrow\": False},\n",
    "                ],\n",
    "            },\n",
    "        ],\n",
    "    }\n",
    "] + [\n",
    "    {\n",
    "        \"label\": f\"Subcategory {subcategory}\",\n",
    "        \"method\": \"update\",\n",
    "        \"args\": [\n",
    "            {\"visible\": [trace.name.endswith(f\"{subcategory}\") for trace in fig.data]},\n",
    "            {\n",
    "                \"title\": f\"Subcategory {subcategory}\",\n",
    "                \"annotations\": [\n",
    "                    {\"text\": f\"Total Value: {calculate_total_value([trace.name.endswith(f'{subcategory}') for trace in fig.data])}\", \"x\": 0.5, \"y\": 1.15, \"showarrow\": False},\n",
    "                    {\"text\": f\"Unique Items: {calculate_unique_count([trace.name.endswith(f'{subcategory}') for trace in fig.data])}\", \"x\": 0.5, \"y\": 1.1, \"showarrow\": False},\n",
    "                ],\n",
    "            },\n",
    "        ],\n",
    "    }\n",
    "    for subcategory in df[\"Subcategory\"].unique()\n",
    "]\n",
    "\n",
    "# Update layout with dropdowns and initial annotations\n",
    "fig.update_layout(\n",
    "    updatemenus=[\n",
    "        # First dropdown (Category)\n",
    "        {\n",
    "            \"buttons\": category_dropdown,\n",
    "            \"direction\": \"down\",\n",
    "            \"showactive\": True,\n",
    "            \"x\": 0.85,  # Position on the right\n",
    "            \"y\": 1.1,   # Slightly higher than the middle\n",
    "        },\n",
    "        # Second dropdown (Subcategory)\n",
    "        {\n",
    "            \"buttons\": subcategory_dropdown,\n",
    "            \"direction\": \"down\",\n",
    "            \"showactive\": True,\n",
    "            \"x\": 0.95,  # Position to the right of the first dropdown\n",
    "            \"y\": 1.1,   # Same height as the first dropdown\n",
    "        },\n",
    "    ],\n",
    "    title=\"Dropdown Filters by Category and Subcategory\",\n",
    "    annotations=[\n",
    "        {\n",
    "            \"text\": f\"Total Value: {initial_total}\",\n",
    "            \"x\": 0.5,  # Center of the chart\n",
    "            \"y\": 1.15,  # Above the title\n",
    "            \"showarrow\": False,\n",
    "            \"font\": {\"size\": 16},\n",
    "        },\n",
    "        {\n",
    "            \"text\": f\"Unique Items: {initial_unique_count}\",\n",
    "            \"x\": 0.5,  # Center of the chart\n",
    "            \"y\": 1.1,  # Below the total value annotation\n",
    "            \"showarrow\": False,\n",
    "            \"font\": {\"size\": 16},\n",
    "        },\n",
    "    ],\n",
    ")\n",
    "\n",
    "# Export to HTML\n",
    "fig.write_html(\"plot_with_dynamic_annotations xx.html\")\n",
    "\n",
    "# Show the plot (optional)\n",
    "fig.show()\n",
    "\n",
    "# Export to HTML\n",
    "fig.write_html(\"plot_with_dynamic_annotations.html\")\n",
    "\n",
    "# Show the plot (optional)\n",
    "fig.show()\n"
   ]
  },
  {
   "cell_type": "code",
   "execution_count": null,
   "metadata": {},
   "outputs": [],
   "source": []
  }
 ],
 "metadata": {
  "kernelspec": {
   "display_name": "Python 3",
   "language": "python",
   "name": "python3"
  },
  "language_info": {
   "codemirror_mode": {
    "name": "ipython",
    "version": 3
   },
   "file_extension": ".py",
   "mimetype": "text/x-python",
   "name": "python",
   "nbconvert_exporter": "python",
   "pygments_lexer": "ipython3",
   "version": "3.12.0"
  }
 },
 "nbformat": 4,
 "nbformat_minor": 2
}
